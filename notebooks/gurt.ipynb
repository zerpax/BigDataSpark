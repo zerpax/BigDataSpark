{
 "cells": [
  {
   "cell_type": "code",
   "execution_count": 1,
   "id": "d040db6a-c72e-4717-9d13-b700a6e5725d",
   "metadata": {},
   "outputs": [],
   "source": [
    "from pyspark.sql import SparkSession\n",
    "from pyspark.sql.functions import monotonically_increasing_id, col, row_number, lit, count, desc, regexp_replace, sum, avg, year, month, asc, lag, coalesce, when\n",
    "from pyspark.sql.window import Window\n",
    "from pyspark.sql.types import *\n"
   ]
  },
  {
   "cell_type": "code",
   "execution_count": 2,
   "id": "46cb038d-371e-4279-a5d9-dbe0b8eeca60",
   "metadata": {},
   "outputs": [],
   "source": [
    "spark = SparkSession.builder \\\n",
    "    .appName(\"Spark SQL with PostgreSQL and ClickHouse\") \\\n",
    "    .config(\"spark.jars\", \"postgresql-42.6.0.jar,clickhouse-jdbc-0.4.6.jar\") \\\n",
    "    .getOrCreate()"
   ]
  },
  {
   "cell_type": "code",
   "execution_count": 3,
   "id": "9bfeac4a-57af-4f05-a3bc-ef0cbc450b7d",
   "metadata": {},
   "outputs": [],
   "source": [
    "jdbc_url = \"jdbc:postgresql://postgres:5432/spark_db\"\n",
    "properties = {\n",
    "    \"user\": \"spark_user\",\n",
    "    \"password\": \"spark_password\",\n",
    "    \"driver\": \"org.postgresql.Driver\"\n",
    "}"
   ]
  },
  {
   "cell_type": "code",
   "execution_count": 4,
   "id": "86acdbba-0452-4f88-9b71-912d6b4dd59a",
   "metadata": {},
   "outputs": [],
   "source": [
    "data = spark.read.jdbc(url=jdbc_url, table=\"mock_data\", properties=properties)"
   ]
  },
  {
   "cell_type": "code",
   "execution_count": 5,
   "id": "1ea19fcb-9a7e-4e09-8661-e31c577f162e",
   "metadata": {},
   "outputs": [
    {
     "data": {
      "text/plain": [
       "StructType([StructField('id', IntegerType(), True), StructField('customer_first_name', StringType(), True), StructField('customer_last_name', StringType(), True), StructField('customer_age', IntegerType(), True), StructField('customer_email', StringType(), True), StructField('customer_country', StringType(), True), StructField('customer_postal_code', StringType(), True), StructField('customer_pet_type', StringType(), True), StructField('customer_pet_name', StringType(), True), StructField('customer_pet_breed', StringType(), True), StructField('seller_first_name', StringType(), True), StructField('seller_last_name', StringType(), True), StructField('seller_email', StringType(), True), StructField('seller_country', StringType(), True), StructField('seller_postal_code', StringType(), True), StructField('product_name', StringType(), True), StructField('product_category', StringType(), True), StructField('product_price', StringType(), True), StructField('product_quantity', IntegerType(), True), StructField('sale_date', DateType(), True), StructField('sale_customer_id', IntegerType(), True), StructField('sale_seller_id', IntegerType(), True), StructField('sale_product_id', IntegerType(), True), StructField('sale_quantity', IntegerType(), True), StructField('sale_total_price', StringType(), True), StructField('store_name', StringType(), True), StructField('store_location', StringType(), True), StructField('store_city', StringType(), True), StructField('store_state', StringType(), True), StructField('store_country', StringType(), True), StructField('store_phone', StringType(), True), StructField('store_email', StringType(), True), StructField('pet_category', StringType(), True), StructField('product_weight', FloatType(), True), StructField('product_color', StringType(), True), StructField('product_size', StringType(), True), StructField('product_brand', StringType(), True), StructField('product_material', StringType(), True), StructField('product_description', StringType(), True), StructField('product_rating', FloatType(), True), StructField('product_reviews', IntegerType(), True), StructField('product_release_date', DateType(), True), StructField('product_expiry_date', DateType(), True), StructField('supplier_name', StringType(), True), StructField('supplier_contact', StringType(), True), StructField('supplier_email', StringType(), True), StructField('supplier_phone', StringType(), True), StructField('supplier_address', StringType(), True), StructField('supplier_city', StringType(), True), StructField('supplier_country', StringType(), True)])"
      ]
     },
     "execution_count": 5,
     "metadata": {},
     "output_type": "execute_result"
    }
   ],
   "source": [
    "data.schema\n"
   ]
  },
  {
   "cell_type": "code",
   "execution_count": 6,
   "id": "40ab3e1c-44fc-4b7b-801a-71d9a0be2262",
   "metadata": {
    "scrolled": true
   },
   "outputs": [
    {
     "name": "stdout",
     "output_type": "stream",
     "text": [
      "+-----------------+-----------------+------------------+----------------+--------------------+-------------------+------------------+------------+--------------------+---+\n",
      "|customer_pet_type|customer_pet_name|customer_pet_breed|customer_country|customer_postal_code|customer_first_name|customer_last_name|customer_age|      customer_email| id|\n",
      "+-----------------+-----------------+------------------+----------------+--------------------+-------------------+------------------+------------+--------------------+---+\n",
      "|             bird|          Mitchel|           Siamese|     Philippines|                1106|              Aaren|            Eagers|          44| wjesson3r@patch.com|  1|\n",
      "|              cat|            Danit|           Siamese|            Iraq|                NULL|              Aaren|      Chipperfield|          42|jgiffordhf@wordpr...|  2|\n",
      "|             bird|        Konstanze|          Parakeet|           China|                NULL|              Aaren|           Adriano|          55|fdillistoneem@sym...|  3|\n",
      "|              dog|          Frankie|          Parakeet|    South Africa|                2661|              Aaron|           Biggins|          82|  fslinnjj@ifeng.com|  4|\n",
      "|             bird|            Biddy|           Siamese|           China|                NULL|                 Ab|         Denniston|          43|   fmixon76@cnet.com|  5|\n",
      "|              dog|            Angel|           Siamese|           Japan|            950-0862|            Abagael|           Kirvell|          39|mtuppenyds@comsen...|  6|\n",
      "|              dog|           Pancho|Labrador Retriever|           Yemen|                NULL|               Abba|         Mixworthy|          65|fgreatorexlp@thet...|  7|\n",
      "|              cat|            Eldon|           Siamese|  Czech Republic|              285 22|               Abbe|         Dallemore|          19|kmerrigani9@micro...|  8|\n",
      "|             bird|             Lola|          Parakeet|           China|                NULL|               Abbe|             D'Ugo|          33| pnaptinfz@yahoo.com|  9|\n",
      "|              dog|           Renell|          Parakeet|       Indonesia|                NULL|               Abbe|            Semens|          51|hrainsburykk@ustr...| 10|\n",
      "|              cat|             Lind|           Siamese|          France|         62304 CEDEX|              Abbey|           Snalham|          59|asoppitkk@arstech...| 11|\n",
      "|             bird|          Ardenia|          Parakeet|          Poland|              17-132|              Abbey|          Hellicar|          45|mcrimb7@marketwat...| 12|\n",
      "|             bird|           Adrian|Labrador Retriever|        Zimbabwe|                NULL|              Abbey|            Hebdon|          37|   bmanser3a@nih.gov| 13|\n",
      "|             bird|         Harmonie|           Siamese|  Czech Republic|              683 33|               Abbi|           Gossage|          65|cwadelindc@chrono...| 14|\n",
      "|              cat|          Dorothy|          Parakeet|          Canada|                 M9R|               Abbi|              Ades|          49|dshropsheir3a@abc...| 15|\n",
      "|              dog|          Geralda|Labrador Retriever|       Indonesia|                NULL|               Abbi|            Decaze|          82|   jfusterjg@soup.io| 16|\n",
      "|             bird|           Darryl|Labrador Retriever|           China|                NULL|              Abbie|             Eddie|          34|esargisona6@stori...| 17|\n",
      "|              cat|           Nowell|          Parakeet|     Afghanistan|                NULL|             Abbott|            Danser|          30|esmithiescu@yahoo...| 18|\n",
      "|              cat|             Reid|          Parakeet|       Guatemala|               13010|               Abby|         Longridge|          37|bannande5@yellowb...| 19|\n",
      "|              cat|         Freedman|          Parakeet|     Philippines|                5616|              Abbye|          Frearson|          40|bfreeburn4d@xing.com| 20|\n",
      "+-----------------+-----------------+------------------+----------------+--------------------+-------------------+------------------+------------+--------------------+---+\n",
      "only showing top 20 rows\n",
      "\n"
     ]
    }
   ],
   "source": [
    "customer = data.select(\n",
    "    'customer_pet_type',\n",
    "    'customer_pet_name',\n",
    "    'customer_pet_breed',\n",
    "    'customer_country',\n",
    "    'customer_postal_code',\n",
    "    'customer_first_name',\n",
    "    'customer_last_name',\n",
    "    'customer_age',\n",
    "    'customer_email'\n",
    ").distinct()\n",
    "\n",
    "window = Window.orderBy('customer_first_name')\n",
    "customer = customer.withColumn(\"id\", row_number().over(window))\n",
    "customer.show()"
   ]
  },
  {
   "cell_type": "code",
   "execution_count": 7,
   "id": "68f49ce4-2e14-46c9-a5ca-9e628ee01a45",
   "metadata": {},
   "outputs": [
    {
     "name": "stdout",
     "output_type": "stream",
     "text": [
      "+-----------------+----------------+--------------------+------------------+--------------------+---+\n",
      "|seller_first_name|seller_last_name|      seller_country|seller_postal_code|        seller_email| id|\n",
      "+-----------------+----------------+--------------------+------------------+--------------------+---+\n",
      "|           Aarika|        Brussell|           Indonesia|              NULL|abrussellad@time.com|  1|\n",
      "|            Aaron|        Hemphrey|             Iceland|               225|ahemphreym0@goodr...|  2|\n",
      "|            Aaron|         Sheerin|           Indonesia|              NULL|  asheerinqc@mit.edu|  3|\n",
      "|               Ab|          Copsey|         Philippines|              4217|   acopseyns@mail.ru|  4|\n",
      "|          Abagael|         Charley|       New Caledonia|             98828| acharleyh3@imdb.com|  5|\n",
      "|          Abagael|       McCorkell|                Peru|              NULL|amccorkellq3@adob...|  6|\n",
      "|          Abagael|        Michurin|               China|              NULL|amichurinc3@linke...|  7|\n",
      "|          Abagail|         Hannaby|              Russia|            632147|ahannaby77@newyor...|  8|\n",
      "|          Abagail|         Kinahan|           Indonesia|              NULL|akinahanaa@histat...|  9|\n",
      "|             Abbe|       Cranstoun|         Philippines|              8609|acranstounam@abc....| 10|\n",
      "|             Abbe|          Armell|               China|              NULL|aarmell6q@nbcnews...| 11|\n",
      "|             Abbe|         Ashdown|           Indonesia|              NULL|aashdownjy@toplis...| 12|\n",
      "|            Abbey|         Cranham|              Sweden|            668 92|acranhamjc@hugedo...| 13|\n",
      "|            Abbey|          Antrim|Palestinian Terri...|              NULL| aantrimrf@ameblo.jp| 14|\n",
      "|             Abbi|           Patey|              Israel|              NULL|    apatey2a@pbs.org| 15|\n",
      "|            Abbie|         Brewett|             Austria|              8453|  abrewett7k@mit.edu| 16|\n",
      "|            Abbie|       Gainsford|       United States|             23285|againsfordh6@ebay...| 17|\n",
      "|            Abbot|         Rableau|         Philippines|              1117|arableauj2@reddit...| 18|\n",
      "|           Abbott|            Wake|              Poland|            42-286|awake8w@whitehous...| 19|\n",
      "|           Abbott|        Caulwell|                Peru|              NULL|acaulwell2w@simpl...| 20|\n",
      "+-----------------+----------------+--------------------+------------------+--------------------+---+\n",
      "only showing top 20 rows\n",
      "\n"
     ]
    }
   ],
   "source": [
    "seller = data.select(\n",
    "    'seller_first_name',\n",
    "    'seller_last_name',\n",
    "    'seller_country',\n",
    "    'seller_postal_code',\n",
    "    'seller_email'\n",
    ").distinct()\n",
    "\n",
    "window = Window.orderBy('seller_first_name')\n",
    "seller = seller.withColumn(\"id\", row_number().over(window))\n",
    "seller.show()"
   ]
  },
  {
   "cell_type": "code",
   "execution_count": 8,
   "id": "48dbacec-8227-490b-9ffe-351293425d28",
   "metadata": {},
   "outputs": [
    {
     "name": "stdout",
     "output_type": "stream",
     "text": [
      "+--------------+--------------+-----------+--------------+------------+--------------------+----------+---+\n",
      "|store_location|    store_city|store_state| store_country| store_phone|         store_email|store_name| id|\n",
      "+--------------+--------------+-----------+--------------+------------+--------------------+----------+---+\n",
      "|      Suite 60|        Kujung|       NULL|     Indonesia|159-258-9340|  lbeasley1v@mit.edu|     Abata|  1|\n",
      "|     Room 1590|       Floirac|         97|         China|953-151-1747|rgowthorperg@apac...|     Abata|  2|\n",
      "|   PO Box 7914|    Skellefteå|         AC|         China|591-818-2372|byourellme@youtub...|     Abata|  3|\n",
      "|    14th Floor|      Norsborg|         AB|      Portugal|155-350-7386|shanshaw8h@sfgate...|     Abata|  4|\n",
      "|       Apt 814|     Terpinnya|       NULL|     Indonesia|782-681-7074|apicfordkr@cbsnew...|     Abata|  5|\n",
      "|     9th Floor|        Angers|         B5|Czech Republic|563-662-9741|gelementl6@soundc...|     Abata|  6|\n",
      "|      Suite 88|       Houston|         TX|       Tunisia|713-307-1903|cnapolionef2@slid...|     Abata|  7|\n",
      "|    18th Floor|        Cikupa|       NULL|      Portugal|940-737-0532|tpitkeathlykt@goo...|     Abata|  8|\n",
      "|  PO Box 12980|Timiryazevskiy|       NULL|        Greece|707-559-3117|dmackellar7e@harv...|     Abata|  9|\n",
      "|    14th Floor|  Batasan Bata|       NULL|         China|996-610-3702|pesbyg4@guardian....|     Abata| 10|\n",
      "|    11th Floor|        Ibiúna|       NULL|    Montenegro|660-676-5491|   cchevisp5@npr.org|     Abata| 11|\n",
      "|     Room 1757|        Sal’sk|       NULL|Czech Republic|817-580-4134|lbeaulieuiu@bosto...|     Abata| 12|\n",
      "|     Room 1964|   Serra Negra|       NULL|      Portugal|633-471-6467|  lzimekc7@issuu.com|     Abata| 13|\n",
      "|      Apt 1910|      Rancagua|       NULL|     Indonesia|740-270-7530|ystrothern0@yello...|     Abata| 14|\n",
      "|  PO Box 18531|       Chŏngju|       NULL|     Indonesia|811-193-1688|dnorthridge2x@pur...|     Abata| 15|\n",
      "|       Room 28|  Kolonia Town|       NULL|        Brazil|825-820-5234|klaffranconif4@na...|     Abata| 16|\n",
      "|   PO Box 7439|Valvedditturai|       NULL|    Bangladesh|240-398-5953|gaguirredq@bibleg...|     Abata| 17|\n",
      "|      Suite 97|      Huangmao|       NULL|      Thailand|253-994-4739|tcallinanae@comca...|     Abata| 18|\n",
      "|      Suite 12|       Gryfino|       NULL|        Poland|910-369-5146|bhalburtoni@phoca.cz|     Abata| 19|\n",
      "|       Apt 239|        Moreno|       NULL|        Canada|645-221-2408|   atebbetpq@mac.com|     Abata| 20|\n",
      "+--------------+--------------+-----------+--------------+------------+--------------------+----------+---+\n",
      "only showing top 20 rows\n",
      "\n"
     ]
    }
   ],
   "source": [
    "store = data.select(\n",
    "    'store_location',\n",
    "    'store_city',\n",
    "    'store_state',\n",
    "    'store_country',\n",
    "    'store_phone',\n",
    "    'store_email',\n",
    "    'store_name',\n",
    ").distinct()\n",
    "\n",
    "window = Window.orderBy('store_name')\n",
    "store = store.withColumn(\"id\", row_number().over(window))\n",
    "store.show()"
   ]
  },
  {
   "cell_type": "code",
   "execution_count": 9,
   "id": "bdae4e5c-69b2-4377-9934-366f996c4ff0",
   "metadata": {},
   "outputs": [
    {
     "name": "stdout",
     "output_type": "stream",
     "text": [
      "+--------------+-------------+------------+----------------+--------------------+--------------+---------------+-------------+------------+----------------+-------------+----------------+--------------------+-------------------+---+\n",
      "|product_weight|product_color|product_size|product_material| product_description|product_rating|product_reviews|product_brand|product_name|product_category|product_price|product_quantity|product_release_date|product_expiry_date| id|\n",
      "+--------------+-------------+------------+----------------+--------------------+--------------+---------------+-------------+------------+----------------+-------------+----------------+--------------------+-------------------+---+\n",
      "|          49.6|         Pink|      Medium|          Rubber|Integer tincidunt...|           3.0|            740|     Innotype|   Bird Cage|             Toy|        91.56|              86|          2016-12-26|         2023-10-21|  1|\n",
      "|          11.3|       Indigo|       Small|      Plexiglass|Aenean lectus. Pe...|           2.1|             45|      Edgeify|   Bird Cage|             Toy|        18.79|              32|          2021-03-26|         2023-10-30|  2|\n",
      "|          15.4|          Red|      Medium|           Brass|Maecenas leo odio...|           2.5|            101|        Fadeo|   Bird Cage|             Toy|        70.37|              79|          2010-02-12|         2029-11-01|  3|\n",
      "|          41.2|         Pink|      Medium|        Aluminum|Maecenas leo odio...|           3.7|            654|       Oyoloo|   Bird Cage|            Food|        17.88|              90|          2017-08-27|         2024-06-06|  4|\n",
      "|          37.7|        Khaki|       Small|           Steel|Cras mi pede, mal...|           1.4|            634|        Jaloo|   Bird Cage|            Cage|        45.34|             100|          2021-12-08|         2025-09-19|  5|\n",
      "|          37.0|   Aquamarine|       Small|        Aluminum|In quis justo. Ma...|           3.1|            940|  Shufflester|   Bird Cage|            Cage|        36.26|              88|          2017-06-21|         2023-01-31|  6|\n",
      "|           1.2|         Mauv|       Small|           Brass|Maecenas leo odio...|           1.5|            223|        Miboo|   Bird Cage|            Food|        69.24|               9|          2022-04-08|         2025-06-19|  7|\n",
      "|          35.8|    Goldenrod|       Large|           Brass|Fusce posuere fel...|           1.4|            191|      Youopia|   Bird Cage|            Food|        55.92|              53|          2010-08-17|         2025-02-19|  8|\n",
      "|          45.0|         Teal|       Small|         Granite|Curabitur gravida...|           4.9|            886|        Gevee|   Bird Cage|            Food|        36.39|              24|          2015-12-09|         2029-09-30|  9|\n",
      "|           6.0|   Aquamarine|      Medium|            Wood|Quisque porta vol...|           3.2|             10|        Quinu|   Bird Cage|            Cage|         98.4|              49|          2011-05-28|         2024-05-05| 10|\n",
      "|           4.1|         Pink|       Small|         Granite|Nulla ut erat id ...|           1.6|            631| Dazzlesphere|   Bird Cage|             Toy|        51.29|              96|          2022-03-03|         2025-12-08| 11|\n",
      "|          20.0|       Violet|       Large|         Granite|Cras mi pede, mal...|           3.4|            791|        Aibox|   Bird Cage|            Cage|          3.8|              29|          2013-02-04|         2029-02-12| 12|\n",
      "|          18.4|       Purple|      Medium|          Rubber|Cras mi pede, mal...|           1.5|            631|   Brainverse|   Bird Cage|            Food|         6.56|              96|          2011-02-17|         2030-12-27| 13|\n",
      "|          37.5|         Mauv|       Small|           Stone|Mauris enim leo, ...|           3.2|            502|      Youspan|   Bird Cage|             Toy|        20.44|               1|          2020-05-25|         2029-09-22| 14|\n",
      "|          32.1|       Orange|       Large|           Brass|In hac habitasse ...|           4.9|            937|     Livefish|   Bird Cage|            Cage|        42.64|              38|          2013-05-17|         2030-02-19| 15|\n",
      "|          11.8|      Crimson|       Large|           Glass|Integer ac leo. P...|           2.3|            574|        Vidoo|   Bird Cage|             Toy|        99.49|              81|          2011-06-21|         2023-02-25| 16|\n",
      "|          20.7|   Aquamarine|       Small|           Brass|Mauris enim leo, ...|           2.9|            436|      Kwimbee|   Bird Cage|            Cage|        84.59|              67|          2019-07-08|         2026-10-25| 17|\n",
      "|          42.4|      Crimson|       Large|           Glass|Nulla ut erat id ...|           2.1|            157|         Omba|   Bird Cage|            Cage|         65.0|              77|          2018-05-19|         2025-07-23| 18|\n",
      "|          19.3|       Violet|       Large|           Vinyl|Suspendisse poten...|           1.6|            180|       Skibox|   Bird Cage|            Cage|        43.48|              58|          2018-11-25|         2029-06-14| 19|\n",
      "|          30.3|          Red|       Large|        Aluminum|Suspendisse poten...|           3.1|             29|      Nlounge|   Bird Cage|            Cage|        97.61|               9|          2015-07-25|         2025-01-01| 20|\n",
      "+--------------+-------------+------------+----------------+--------------------+--------------+---------------+-------------+------------+----------------+-------------+----------------+--------------------+-------------------+---+\n",
      "only showing top 20 rows\n",
      "\n"
     ]
    }
   ],
   "source": [
    "product = data.select(\n",
    "    'product_weight',\n",
    "    'product_color',\n",
    "    'product_size',\n",
    "    'product_material',\n",
    "    'product_description',\n",
    "    'product_rating',\n",
    "    'product_reviews',\n",
    "    'product_brand',\n",
    "    'product_name',\n",
    "    'product_category',\n",
    "    'product_price',\n",
    "    'product_quantity',\n",
    "    'product_release_date',\n",
    "    'product_expiry_date',\n",
    ").distinct()\n",
    "\n",
    "window = Window.orderBy('product_name')\n",
    "product = product.withColumn(\"id\", row_number().over(window))\n",
    "product.show()"
   ]
  },
  {
   "cell_type": "code",
   "execution_count": 10,
   "id": "40c72a51-a477-4cca-8535-76834097cf32",
   "metadata": {},
   "outputs": [
    {
     "name": "stdout",
     "output_type": "stream",
     "text": [
      "+-------------+----------------+----------+----------------+--------------+---------------+---+\n",
      "|sale_quantity|sale_total_price| sale_date|sale_customer_id|sale_seller_id|sale_product_id| id|\n",
      "+-------------+----------------+----------+----------------+--------------+---------------+---+\n",
      "|            3|          482.62|2021-01-01|             274|           274|            274|  1|\n",
      "|            9|          251.54|2021-01-01|             696|           696|            696|  2|\n",
      "|            7|          132.83|2021-01-01|             679|           679|            679|  3|\n",
      "|            9|          402.83|2021-01-01|             513|           513|            513|  4|\n",
      "|            6|          160.78|2021-01-01|             603|           603|            603|  5|\n",
      "|            5|           79.85|2021-01-01|             635|           635|            635|  6|\n",
      "|            9|          241.93|2021-01-01|             205|           205|            205|  7|\n",
      "|            5|          488.38|2021-01-01|             727|           727|            727|  8|\n",
      "|            5|           21.12|2021-01-01|             985|           985|            985|  9|\n",
      "|            1|            17.5|2021-01-01|             125|           125|            125| 10|\n",
      "|            9|          251.06|2021-01-01|             433|           433|            433| 11|\n",
      "|            7|           39.65|2021-01-01|             104|           104|            104| 12|\n",
      "|            6|          209.33|2021-01-01|             413|           413|            413| 13|\n",
      "|            5|           65.36|2021-01-01|             634|           634|            634| 14|\n",
      "|            2|          442.01|2021-01-01|             243|           243|            243| 15|\n",
      "|            5|          294.56|2021-01-01|             109|           109|            109| 16|\n",
      "|           10|           53.71|2021-01-01|             130|           130|            130| 17|\n",
      "|            4|           42.95|2021-01-01|             671|           671|            671| 18|\n",
      "|            7|          239.36|2021-01-01|             255|           255|            255| 19|\n",
      "|            8|          294.53|2021-01-01|              55|            55|             55| 20|\n",
      "+-------------+----------------+----------+----------------+--------------+---------------+---+\n",
      "only showing top 20 rows\n",
      "\n"
     ]
    }
   ],
   "source": [
    "sale = data.select(\n",
    "    'sale_quantity',\n",
    "    'sale_total_price',\n",
    "    'sale_date',\n",
    "    'sale_customer_id',\n",
    "    'sale_seller_id',\n",
    "    'sale_product_id',\n",
    ").distinct()\n",
    "\n",
    "sale = sale.withColumn(\"sale_total_price\", regexp_replace(\"sale_total_price\", \"\\\\$\", \"\").cast(\"double\"))\n",
    "data = data.withColumn(\"sale_total_price\", regexp_replace(\"sale_total_price\", \"\\\\$\", \"\").cast(\"double\"))\n",
    "\n",
    "window = Window.orderBy('sale_date')\n",
    "sale = sale.withColumn(\"id\", row_number().over(window))\n",
    "sale.show()"
   ]
  },
  {
   "cell_type": "code",
   "execution_count": 11,
   "id": "f0d5f85c-7c6b-45e9-be4d-8fc1f08ee182",
   "metadata": {},
   "outputs": [
    {
     "name": "stdout",
     "output_type": "stream",
     "text": [
      "+-------------+------------------+--------------------+--------------+----------------+--------------+----------------+---+\n",
      "|supplier_name|  supplier_contact|      supplier_email|supplier_phone|supplier_address| supplier_city|supplier_country| id|\n",
      "+-------------+------------------+--------------------+--------------+----------------+--------------+----------------+---+\n",
      "|        Abata|      Zed Maxweell|zmaxweellk1@stumb...|  973-673-7617|    PO Box 40605|     Hai Riêng|         Ukraine|  1|\n",
      "|        Abata|   Farris Blanking|fblankingd8@googl...|  530-854-6864|        Suite 51|       Jindong|         Armenia|  2|\n",
      "|        Abata|       Ryan Vorley|   rvorleycj@bbb.org|  532-682-8788|        Room 921|   Solidaridad|          Poland|  3|\n",
      "|        Abata|     Vaughan Mogra|vmograf9@moonfrui...|  188-774-8493|         Apt 646|    Notre Dame|  Czech Republic|  4|\n",
      "|        Abata|       Rex Wilshaw|   rwilshaw6w@ed.gov|  252-226-8879|        Suite 80|        Nianba|    Saudi Arabia|  5|\n",
      "|        Abata|      Lexie Whyard|   lwhyardm7@icio.us|  854-916-8983|        Room 208|Biritiba Mirim|         Ukraine|  6|\n",
      "|        Abata|     Katinka Dixie|kdixie75@sitemete...|  233-648-4417|     PO Box 2160|        London|           Nepal|  7|\n",
      "|        Abata|Branden Beverstock|bbeverstockpe@wea...|  719-212-1871|    PO Box 60865|      Xidianzi|          Poland|  8|\n",
      "|        Abata|   Estel Lindeberg|elindebergb0@dago...|  628-923-3504|        Apt 1124|       Pingyin|           China|  9|\n",
      "|        Abata|    Jeanelle Riley|   jrileydd@blog.com|  848-509-2146|       3rd Floor|     Citeureup|          Poland| 10|\n",
      "|        Abata|      Ogden Neaves|oneaves17@amazon....|  624-102-9619|      18th Floor|        Avelar|          Brazil| 11|\n",
      "|        Abata|     Isacco Rojahn| irojahn6d@yahoo.com|  880-214-2355|        Suite 94|        Yuwang|        Colombia| 12|\n",
      "|        Abata|Nickolai Scurfield|nscurfieldg3@yale...|  307-965-4057|      12th Floor|    Tembilahan|           China| 13|\n",
      "|        Abata|       Max Manilow|mmanilow6r@nymag.com|  757-707-9092|       2nd Floor|  Newport News|          Brazil| 14|\n",
      "|        Abata|       Ev Slocombe|eslocombef8@bbc.c...|  417-902-6011|        Suite 87|        Izlake|  Cayman Islands| 15|\n",
      "|        Abata|     Zorina Orable|  zorable6y@etsy.com|  238-504-3947|       4th Floor|          Chor|    South Africa| 16|\n",
      "|        Abata|       Clint Bovey|  cbovey67@wufoo.com|  566-551-4781|         Apt 932|       Qesarya|     Netherlands| 17|\n",
      "|        Abata|   Micki McKinless|mmckinlessg@brave...|  495-165-9749|         Apt 282|       Cikiruh|    South Africa| 18|\n",
      "|        Abata|    Doreen Pimlott|dpimlott3c@ycombi...|  166-129-1393|        Suite 56|       Timóteo|      Kazakhstan| 19|\n",
      "|        Abata|       Jamal Larby|    jlarbyiv@msn.com|  158-561-9156|         Suite 4|        Danané|          Russia| 20|\n",
      "+-------------+------------------+--------------------+--------------+----------------+--------------+----------------+---+\n",
      "only showing top 20 rows\n",
      "\n"
     ]
    }
   ],
   "source": [
    "supplier = data.select(\n",
    "    'supplier_name',\n",
    "    'supplier_contact',\n",
    "    'supplier_email',\n",
    "    'supplier_phone',\n",
    "    'supplier_address',\n",
    "    'supplier_city',\n",
    "    'supplier_country'\n",
    ").distinct()\n",
    "\n",
    "window = Window.orderBy('supplier_name')\n",
    "supplier = supplier.withColumn(\"id\", row_number().over(window))\n",
    "supplier.show()"
   ]
  },
  {
   "cell_type": "code",
   "execution_count": 12,
   "id": "09923732-eea3-46aa-b283-66f554d7d0b4",
   "metadata": {},
   "outputs": [
    {
     "name": "stdout",
     "output_type": "stream",
     "text": [
      "+---+-----------+---------+--------+----------+-------+-----------+\n",
      "| id|customer_id|seller_id|store_id|product_id|sale_id|supplier_id|\n",
      "+---+-----------+---------+--------+----------+-------+-----------+\n",
      "|204|       7517|     8236|    7077|      2006|   5796|       9822|\n",
      "|696|       1317|     3239|    1262|      5664|   4576|       7285|\n",
      "|850|       7914|     1104|    9782|      8439|    105|        361|\n",
      "|968|        469|     8856|    6383|      4639|   7666|       5835|\n",
      "|123|       1316|     2259|    7061|      8679|   4435|        239|\n",
      "|545|       9503|     1245|    3327|      6774|    371|       7476|\n",
      "|571|       3913|      687|    7219|      9095|   9331|       7613|\n",
      "|345|       8092|     8307|    9170|      9319|    759|       7896|\n",
      "|524|       7219|     6986|     704|       926|   3051|       4641|\n",
      "|883|       5537|     5276|    6206|      7463|   4338|       6929|\n",
      "|987|       9832|     4235|    9418|      5335|   7577|       6894|\n",
      "|204|       9062|     4555|    9605|      9902|   7914|       3923|\n",
      "|296|       9988|     1644|    6104|      5351|   9953|       7068|\n",
      "|338|       6631|     2712|    9176|      7813|   6877|       9572|\n",
      "|381|       1224|      888|    3507|      3035|   5666|         96|\n",
      "|672|       6445|     9573|    7927|      2479|   6921|       3406|\n",
      "| 44|       1408|     1020|    5574|      7352|   7185|       6283|\n",
      "|146|       6102|     3059|    1343|      3320|   4159|       1515|\n",
      "|152|       6766|     2053|    8449|      4846|    908|       7636|\n",
      "|311|        929|      606|    9214|      1748|   3118|       9332|\n",
      "+---+-----------+---------+--------+----------+-------+-----------+\n",
      "only showing top 20 rows\n",
      "\n"
     ]
    }
   ],
   "source": [
    "fact = data.join(customer,\n",
    "    on=[\n",
    "        data.customer_pet_type == customer.customer_pet_type,\n",
    "        data.customer_pet_name == customer.customer_pet_name,\n",
    "        data.customer_pet_breed == customer.customer_pet_breed,\n",
    "        data.customer_country == customer.customer_country,\n",
    "        data.customer_first_name == customer.customer_first_name,\n",
    "        data.customer_last_name == customer.customer_last_name,\n",
    "        data.customer_age == customer.customer_age,\n",
    "        data.customer_email == customer.customer_email\n",
    "    ],\n",
    ").join(seller,\n",
    "      on = [\n",
    "        data.seller_first_name == seller.seller_first_name,\n",
    "        data.seller_last_name == seller.seller_last_name,\n",
    "        data.seller_country == seller.seller_country,\n",
    "        data.seller_email == seller.seller_email\n",
    "      ],\n",
    ").join(store,\n",
    "      on = [\n",
    "        data.store_location == store.store_location,\n",
    "        data.store_city == store.store_city,\n",
    "        data.store_country == store.store_country,\n",
    "        data.store_phone == store.store_phone,\n",
    "        data.store_email == store.store_email,\n",
    "        data.store_name == store.store_name\n",
    "      ],\n",
    ").join(product,\n",
    "      on = [\n",
    "        data.product_weight == product.product_weight,\n",
    "        data.product_color == product.product_color,\n",
    "        data.product_size == product.product_size,\n",
    "        data.product_material == product.product_material,\n",
    "        data.product_description == product.product_description,\n",
    "        data.product_rating == product.product_rating,\n",
    "        data.product_reviews == product.product_reviews,\n",
    "        data.product_brand == product.product_brand,\n",
    "        data.product_name == product.product_name,\n",
    "        data.product_category == product.product_category,\n",
    "        data.product_quantity == product.product_quantity,\n",
    "        data.product_release_date == product.product_release_date,\n",
    "        data.product_reviews == product.product_reviews,\n",
    "        data.product_expiry_date == product.product_expiry_date,\n",
    "      ],\n",
    ").join(sale,\n",
    "      on = [\n",
    "        data.sale_quantity == sale.sale_quantity,\n",
    "        data.sale_total_price == sale.sale_total_price,\n",
    "        data.sale_date == sale.sale_date,\n",
    "        data.sale_customer_id == sale.sale_customer_id,\n",
    "        data.sale_seller_id == sale.sale_seller_id,\n",
    "        data.sale_product_id == sale.sale_product_id\n",
    "      ],\n",
    ").join(supplier,\n",
    "      on = [\n",
    "        data.supplier_name == supplier.supplier_name,\n",
    "        data.supplier_contact == supplier.supplier_contact,\n",
    "        data.supplier_email == supplier.supplier_email,\n",
    "        data.supplier_phone == supplier.supplier_phone,\n",
    "        data.supplier_address == supplier.supplier_address,\n",
    "        data.supplier_city == supplier.supplier_city,\n",
    "        data.supplier_country == supplier.supplier_country \n",
    "      ],\n",
    ").select(\n",
    "    data['id'],\n",
    "    customer['id'].alias('customer_id'),\n",
    "    seller['id'].alias('seller_id'),\n",
    "    store['id'].alias('store_id'),\n",
    "    product['id'].alias('product_id'),\n",
    "    sale['id'].alias('sale_id'),\n",
    "    supplier['id'].alias('supplier_id')\n",
    ")\n",
    "fact.show()\n"
   ]
  },
  {
   "cell_type": "code",
   "execution_count": 13,
   "id": "4295107b-57dd-49fb-b647-b127100c5799",
   "metadata": {},
   "outputs": [
    {
     "data": {
      "text/plain": [
       "10000"
      ]
     },
     "execution_count": 13,
     "metadata": {},
     "output_type": "execute_result"
    }
   ],
   "source": [
    "fact.count()"
   ]
  },
  {
   "cell_type": "code",
   "execution_count": null,
   "id": "e6492af4-f55e-4dfc-b2d6-31f1bf663966",
   "metadata": {},
   "outputs": [],
   "source": []
  },
  {
   "cell_type": "code",
   "execution_count": 14,
   "id": "dd180fa4-4a5d-434e-87a7-3712213ccbbd",
   "metadata": {},
   "outputs": [],
   "source": [
    "customer.write.jdbc(url=jdbc_url, table=\"customer\", mode=\"overwrite\", properties=properties)\n",
    "seller.write.jdbc(url=jdbc_url, table=\"seller\", mode=\"overwrite\", properties=properties)\n",
    "store.write.jdbc(url=jdbc_url, table=\"store\", mode=\"overwrite\", properties=properties)\n",
    "product.write.jdbc(url=jdbc_url, table=\"product\", mode=\"overwrite\", properties=properties)\n",
    "sale.write.jdbc(url=jdbc_url, table=\"sale\", mode=\"overwrite\", properties=properties)\n",
    "supplier.write.jdbc(url=jdbc_url, table=\"supplier\", mode=\"overwrite\", properties=properties)\n",
    "fact.write.jdbc(url=jdbc_url, table=\"fact\", mode=\"overwrite\", properties=properties)"
   ]
  },
  {
   "cell_type": "code",
   "execution_count": 15,
   "id": "7ba4e46d-88eb-4c68-847f-d9128de1c6c1",
   "metadata": {},
   "outputs": [
    {
     "name": "stdout",
     "output_type": "stream",
     "text": [
      "StructType([StructField('sale_quantity', IntegerType(), True), StructField('sale_total_price', DoubleType(), True), StructField('sale_date', DateType(), True), StructField('sale_customer_id', IntegerType(), True), StructField('sale_seller_id', IntegerType(), True), StructField('sale_product_id', IntegerType(), True), StructField('id', IntegerType(), False)])\n"
     ]
    }
   ],
   "source": [
    "print(sale.schema)"
   ]
  },
  {
   "cell_type": "code",
   "execution_count": 16,
   "id": "4a1953e5-282c-4e63-9eab-75adc27940fb",
   "metadata": {},
   "outputs": [],
   "source": [
    "ch_jdbc_url = \"jdbc:clickhouse://clickhouse:8123/default\"\n",
    "properties = {\n",
    "    \"driver\": \"com.clickhouse.jdbc.ClickHouseDriver\",\n",
    "    \"user\": \"custom_user\",\n",
    "    \"password\": \"custom_password\"\n",
    "}\n"
   ]
  },
  {
   "cell_type": "code",
   "execution_count": 17,
   "id": "01d05a79-257f-4b4a-9e70-85ca3d2ef2d3",
   "metadata": {},
   "outputs": [],
   "source": [
    "\n",
    "def write_to_clickhouse(df, table_name):\n",
    "    df.write.jdbc(url=ch_jdbc_url, table=table_name, mode=\"overwrite\", properties=properties)\n"
   ]
  },
  {
   "cell_type": "code",
   "execution_count": 18,
   "id": "1dc1a6f7-7270-4ea1-a8c2-b8ec4f0d06f9",
   "metadata": {},
   "outputs": [
    {
     "name": "stdout",
     "output_type": "stream",
     "text": [
      "+---------------+------------+--------+\n",
      "|sale_product_id|product_name|sale_num|\n",
      "+---------------+------------+--------+\n",
      "|              1|   Bird Cage|      10|\n",
      "|              2|   Bird Cage|      10|\n",
      "|              3|   Bird Cage|      10|\n",
      "|              4|   Bird Cage|      10|\n",
      "|              5|   Bird Cage|      10|\n",
      "|              6|   Bird Cage|      10|\n",
      "|              7|   Bird Cage|      10|\n",
      "|              8|   Bird Cage|      10|\n",
      "|              9|   Bird Cage|      10|\n",
      "|             10|   Bird Cage|      10|\n",
      "+---------------+------------+--------+\n",
      "\n"
     ]
    }
   ],
   "source": [
    "top_10_products = sale.join(product, on = [sale.sale_product_id == product.id]).groupBy(\"sale_product_id\", \"product_name\").agg(count(\"sale_product_id\").alias(\"sale_num\")).orderBy(desc(\"sale_num\")).limit(10)\n",
    "top_10_products.show()\n",
    "properties[\"createTableOptions\"] = \"ENGINE = MergeTree() ORDER BY sale_product_id\"\n",
    "write_to_clickhouse(top_10_products, 'sale_num')"
   ]
  },
  {
   "cell_type": "code",
   "execution_count": 19,
   "id": "8740edf3-6e30-48c2-8d5b-9f7823404885",
   "metadata": {},
   "outputs": [
    {
     "name": "stdout",
     "output_type": "stream",
     "text": [
      "+----------------+-------------------+------------------+----------------+------------------+\n",
      "|sale_customer_id|customer_first_name|customer_last_name|customer_country|       total_spent|\n",
      "+----------------+-------------------+------------------+----------------+------------------+\n",
      "|             611|             Ariela|            Pynner|          Canada|           4005.98|\n",
      "|             779|            Austine|            Florez|       Indonesia|           3784.44|\n",
      "|             434|              Andie|              Royl|           China|           3751.09|\n",
      "|             269|              Alida|           D'Adamo|   United States|3682.5200000000004|\n",
      "|             795|               Avis|        Drinkwater|          Russia|           3645.94|\n",
      "|              84|             Adella|              Wyse|       Indonesia|           3616.93|\n",
      "|              74|           Adelbert|          Mouncher|           China|            3571.1|\n",
      "|             767|              Aurie|           Mantrip|         Jamaica|3548.8599999999997|\n",
      "|             406|               Amos|           Dempsey|          Russia|           3546.42|\n",
      "|             997|           Benjamen|          Verrillo|      Kazakhstan|           3537.04|\n",
      "+----------------+-------------------+------------------+----------------+------------------+\n",
      "\n"
     ]
    }
   ],
   "source": [
    "top_customers = sale.join(customer, sale.sale_customer_id == customer.id) \\\n",
    "    .groupBy(\"sale_customer_id\", \"customer_first_name\", \"customer_last_name\", \"customer_country\") \\\n",
    "    .agg(sum(\"sale_total_price\").alias(\"total_spent\")) \\\n",
    "    .orderBy(desc(\"total_spent\")) \\\n",
    "    .limit(10)\n",
    "\n",
    "top_customers.show()\n",
    "\n",
    "properties[\"createTableOptions\"] = \"ENGINE = MergeTree() ORDER BY total_spent\"\n",
    "write_to_clickhouse(top_customers, 'top_customers')\n",
    "\n"
   ]
  },
  {
   "cell_type": "code",
   "execution_count": 20,
   "id": "96ede2ad-e5ca-4ed0-a9d7-b671e142b046",
   "metadata": {},
   "outputs": [
    {
     "name": "stdout",
     "output_type": "stream",
     "text": [
      "+----------------+--------------+\n",
      "|customer_country|customer_count|\n",
      "+----------------+--------------+\n",
      "|           China|          1738|\n",
      "|       Indonesia|          1174|\n",
      "|          Russia|           628|\n",
      "|     Philippines|           555|\n",
      "|          Brazil|           385|\n",
      "|        Portugal|           336|\n",
      "|          Poland|           332|\n",
      "|          France|           322|\n",
      "|          Sweden|           264|\n",
      "|   United States|           211|\n",
      "|           Japan|           201|\n",
      "|         Ukraine|           155|\n",
      "|        Colombia|           152|\n",
      "|  Czech Republic|           140|\n",
      "|          Canada|           137|\n",
      "|        Thailand|           126|\n",
      "|            Peru|           123|\n",
      "|          Greece|           116|\n",
      "|       Argentina|           113|\n",
      "|         Nigeria|           103|\n",
      "+----------------+--------------+\n",
      "only showing top 20 rows\n",
      "\n"
     ]
    }
   ],
   "source": [
    "customer_distribution = customer.groupBy(\"customer_country\") \\\n",
    "    .agg(count(\"*\").alias(\"customer_count\")) \\\n",
    "    .orderBy(desc(\"customer_count\"))\n",
    "\n",
    "customer_distribution.show()\n",
    "\n",
    "properties[\"createTableOptions\"] = \"ENGINE = MergeTree() ORDER BY customer_count\"\n",
    "write_to_clickhouse(customer_distribution, 'customer_distribution')\n",
    "\n"
   ]
  },
  {
   "cell_type": "code",
   "execution_count": 21,
   "id": "bbd70703-da75-4b3d-bc08-95479f97f24c",
   "metadata": {},
   "outputs": [
    {
     "name": "stdout",
     "output_type": "stream",
     "text": [
      "+----------------+-------------------+------------------+-------------------+\n",
      "|sale_customer_id|customer_first_name|customer_last_name|avg_purchase_amount|\n",
      "+----------------+-------------------+------------------+-------------------+\n",
      "|             611|             Ariela|            Pynner|            400.598|\n",
      "|             779|            Austine|            Florez|            378.444|\n",
      "|             434|              Andie|              Royl| 375.10900000000004|\n",
      "|             269|              Alida|           D'Adamo| 368.25200000000007|\n",
      "|             795|               Avis|        Drinkwater|            364.594|\n",
      "|              84|             Adella|              Wyse|            361.693|\n",
      "|              74|           Adelbert|          Mouncher|             357.11|\n",
      "|             767|              Aurie|           Mantrip| 354.88599999999997|\n",
      "|             406|               Amos|           Dempsey|            354.642|\n",
      "|             997|           Benjamen|          Verrillo|            353.704|\n",
      "|             244|                Alf|       Gilffilland|            352.812|\n",
      "|             384|                Ame|          Sharvill|             347.89|\n",
      "|             876|              Baron|           Riddock| 347.39699999999993|\n",
      "|             251|            Alfredo|          Kerridge|            345.329|\n",
      "|             887|             Barron|             Gibby|            344.315|\n",
      "|             606|               Arie|          Larcombe| 344.13599999999997|\n",
      "|             376|              Amber|           Mullins|              342.4|\n",
      "|             765|              Aurie|          Moraleda| 341.84900000000005|\n",
      "|             431|           Anderson|             Gabel| 340.66700000000003|\n",
      "|             844|           Barbabra|          Abbatini|            339.765|\n",
      "+----------------+-------------------+------------------+-------------------+\n",
      "only showing top 20 rows\n",
      "\n"
     ]
    }
   ],
   "source": [
    "avg_purchase = sale.join(customer, sale.sale_customer_id == customer.id) \\\n",
    "    .groupBy(\"sale_customer_id\", \"customer_first_name\", \"customer_last_name\") \\\n",
    "    .agg(avg(\"sale_total_price\").alias(\"avg_purchase_amount\")) \\\n",
    "    .orderBy(desc(\"avg_purchase_amount\"))\n",
    "\n",
    "avg_purchase.show()\n",
    "\n",
    "properties[\"createTableOptions\"] = \"ENGINE = MergeTree() ORDER BY avg_purchase_amount\"\n",
    "write_to_clickhouse(avg_purchase, 'customer_avg_purchase')"
   ]
  },
  {
   "cell_type": "code",
   "execution_count": 22,
   "id": "c8a3629a-c189-4293-8db4-4057dd960683",
   "metadata": {},
   "outputs": [
    {
     "name": "stdout",
     "output_type": "stream",
     "text": [
      "+----+-----+------------------+-----------+------------------+\n",
      "|year|month|     total_revenue|sales_count|    avg_order_size|\n",
      "+----+-----+------------------+-----------+------------------+\n",
      "|2021|    1|224158.53999999998|        874|256.47430205949655|\n",
      "|2021|    2|192348.31000000008|        739| 260.2818809201625|\n",
      "|2021|    3|207282.19999999995|        843| 245.8863582443653|\n",
      "|2021|    4|206592.81999999992|        837|246.82535244922332|\n",
      "|2021|    5| 211764.8599999999|        828|255.75466183574866|\n",
      "|2021|    6| 215042.7999999999|        822|261.60924574209236|\n",
      "|2021|    7|220496.51000000024|        858| 256.9889393939397|\n",
      "|2021|    8|221275.78000000003|        897|246.68425863991084|\n",
      "|2021|    9|210623.42999999996|        839|251.04103694874846|\n",
      "|2021|   10|228743.31999999992|        892| 256.4386995515694|\n",
      "|2021|   11|         200154.69|        801|249.88101123595507|\n",
      "|2021|   12|191368.86000000016|        770|248.53098701298723|\n",
      "+----+-----+------------------+-----------+------------------+\n",
      "\n"
     ]
    }
   ],
   "source": [
    "sales_trends = sale.withColumn(\"year\", year(\"sale_date\")) \\\n",
    "    .withColumn(\"month\", month(\"sale_date\")) \\\n",
    "    .groupBy(\"year\", \"month\") \\\n",
    "    .agg(\n",
    "        sum(\"sale_total_price\").alias(\"total_revenue\"),\n",
    "        count(\"*\").alias(\"sales_count\"),\n",
    "        avg(\"sale_total_price\").alias(\"avg_order_size\")\n",
    "    ) \\\n",
    "    .orderBy(\"year\", \"month\")\n",
    "\n",
    "sales_trends.show()\n",
    "\n",
    "properties[\"createTableOptions\"] = \"ENGINE = MergeTree() ORDER BY (year, month)\"\n",
    "write_to_clickhouse(sales_trends, 'sales_trends')\n",
    "\n"
   ]
  },
  {
   "cell_type": "code",
   "execution_count": 23,
   "id": "f74960df-2211-450e-8a16-2b7557c0e0e2",
   "metadata": {},
   "outputs": [
    {
     "name": "stdout",
     "output_type": "stream",
     "text": [
      "+----+-----+------------------+-----------+------------------+-------------------+\n",
      "|year|month|   monthly_revenue|sales_count|prev_month_revenue|         mom_growth|\n",
      "+----+-----+------------------+-----------+------------------+-------------------+\n",
      "|2021|    1|224158.53999999998|        874|               0.0|                0.0|\n",
      "|2021|    2|192348.31000000008|        739|224158.53999999998| -14.19095163628381|\n",
      "|2021|    3|207282.19999999995|        843|192348.31000000008| 7.7639829536323255|\n",
      "|2021|    4|206592.81999999992|        837|207282.19999999995|-0.3325804145266858|\n",
      "|2021|    5| 211764.8599999999|        828|206592.81999999992| 2.5034945551350627|\n",
      "|2021|    6| 215042.7999999999|        822| 211764.8599999999| 1.5479149845729854|\n",
      "|2021|    7|220496.51000000024|        858| 215042.7999999999|  2.536104440604542|\n",
      "|2021|    8|221275.78000000003|        897|220496.51000000024| 0.3534160245891352|\n",
      "|2021|    9|210623.42999999996|        839|221275.78000000003| -4.814060535680888|\n",
      "|2021|   10|228743.31999999992|        892|210623.42999999996|    8.6029792601896|\n",
      "|2021|   11|         200154.69|        801|228743.31999999992|-12.498126721252419|\n",
      "|2021|   12|191368.86000000016|        770|         200154.69| -4.389519925813301|\n",
      "+----+-----+------------------+-----------+------------------+-------------------+\n",
      "\n"
     ]
    }
   ],
   "source": [
    "monthly_comparison = sale.withColumn(\"year\", year(\"sale_date\")) \\\n",
    "    .withColumn(\"month\", month(\"sale_date\")) \\\n",
    "    .groupBy(\"year\", \"month\") \\\n",
    "    .agg(\n",
    "        sum(\"sale_total_price\").alias(\"monthly_revenue\"),\n",
    "        count(\"*\").alias(\"sales_count\")\n",
    "    ) \\\n",
    "    .orderBy(\"year\", \"month\")\n",
    "\n",
    "window = Window.orderBy(\"year\", \"month\")\n",
    "\n",
    "monthly_comparison = monthly_comparison.withColumn(\n",
    "    \"prev_month_revenue\",\n",
    "    lag(\"monthly_revenue\").over(window)\n",
    ")\n",
    "\n",
    "monthly_comparison = monthly_comparison.withColumn(\n",
    "    \"mom_growth\",\n",
    "    when(col(\"prev_month_revenue\").isNull(), None)\n",
    "    .when(col(\"prev_month_revenue\") == 0, None)\n",
    "    .otherwise((col(\"monthly_revenue\") - col(\"prev_month_revenue\")) / col(\"prev_month_revenue\") * 100)\n",
    ")\n",
    "\n",
    "monthly_comparison = monthly_comparison.withColumn(\n",
    "    \"prev_month_revenue\",\n",
    "    coalesce(col(\"prev_month_revenue\"), lit(0.0))\n",
    ")\n",
    "\n",
    "monthly_comparison = monthly_comparison.withColumn(\n",
    "    \"mom_growth\",\n",
    "    coalesce(col(\"mom_growth\"), lit(0.0))\n",
    ")\n",
    "\n",
    "monthly_comparison.show()\n",
    "\n",
    "write_to_clickhouse(monthly_comparison, 'monthly_revenue_comparison')"
   ]
  },
  {
   "cell_type": "code",
   "execution_count": 24,
   "id": "7cee7358-8ac5-4192-9ee1-41075cd4ee44",
   "metadata": {},
   "outputs": [
    {
     "name": "stdout",
     "output_type": "stream",
     "text": [
      "+--------------+-----------+-------------+----------------+------------------+\n",
      "|sale_seller_id| store_name|store_country|      store_city|     total_revenue|\n",
      "+--------------+-----------+-------------+----------------+------------------+\n",
      "|           611|   Blogtags|       Russia|            Turt|           4005.98|\n",
      "|           779| Brightbean|       France|         An Châu|           3784.44|\n",
      "|           434|Babblestorm|United States|        Phú Vang|           3751.09|\n",
      "|           269|      Avamm|    Argentina|Alcaria da Serra|3682.5200000000004|\n",
      "|           795|  Brightdog|       Russia|        Were Īlu|           3645.94|\n",
      "+--------------+-----------+-------------+----------------+------------------+\n",
      "\n"
     ]
    }
   ],
   "source": [
    "top_stores = sale.join(store, sale.sale_seller_id == store.id) \\\n",
    "    .groupBy(\"sale_seller_id\", \"store_name\", \"store_country\", \"store_city\") \\\n",
    "    .agg(sum(\"sale_total_price\").alias(\"total_revenue\")) \\\n",
    "    .orderBy(desc(\"total_revenue\")) \\\n",
    "    .limit(5)\n",
    "\n",
    "top_stores.show()\n",
    "\n",
    "properties[\"createTableOptions\"] = \"ENGINE = MergeTree() ORDER BY total_revenue\"\n",
    "write_to_clickhouse(top_stores, 'top_stores')\n"
   ]
  },
  {
   "cell_type": "code",
   "execution_count": 25,
   "id": "9dfdc88a-6110-4485-aeac-18771745f371",
   "metadata": {},
   "outputs": [
    {
     "name": "stdout",
     "output_type": "stream",
     "text": [
      "+-----------+-------------+----------------+-------------+-----------------+\n",
      "|supplier_id|supplier_name|supplier_country|total_revenue|avg_product_price|\n",
      "+-----------+-------------+----------------+-------------+-----------------+\n",
      "|        718|   Brainverse|         Ireland|       499.85|            31.42|\n",
      "|       3431|        Jamia|          Russia|        499.8|             6.64|\n",
      "|       1514|      Demimbu|           China|       499.76|             53.8|\n",
      "|       1943|        Eabox|        Portugal|       499.76|            80.91|\n",
      "|        905|   Browsezoom|       Argentina|       499.73|            58.24|\n",
      "+-----------+-------------+----------------+-------------+-----------------+\n",
      "\n"
     ]
    }
   ],
   "source": [
    "top_suppliers = fact.join(sale, sale.id == fact.sale_id, how = 'outer') \\\n",
    "    .join(supplier, fact.supplier_id == supplier.id, how = 'outer') \\\n",
    "    .join(product, fact.product_id == product.id, how = 'outer') \\\n",
    "    .groupBy(\"supplier_id\", \"supplier_name\", \"supplier_country\") \\\n",
    "    .agg(\n",
    "        sum(\"sale_total_price\").alias(\"total_revenue\"),\n",
    "        avg(\"product_price\").alias(\"avg_product_price\")\n",
    "    ) \\\n",
    "    .orderBy(desc(\"total_revenue\")) \\\n",
    "    .limit(5)\n",
    "\n",
    "top_suppliers.show()\n",
    "\n",
    "properties[\"createTableOptions\"] = \"ENGINE = MergeTree() ORDER BY total_revenue\"\n",
    "write_to_clickhouse(top_suppliers, 'top_suppliers')\n",
    "\n"
   ]
  },
  {
   "cell_type": "code",
   "execution_count": 26,
   "id": "6ffec7a2-7157-4826-a265-12ec23662831",
   "metadata": {},
   "outputs": [
    {
     "name": "stdout",
     "output_type": "stream",
     "text": [
      "+-------------+------------------+\n",
      "|supplier_name| avg_product_price|\n",
      "+-------------+------------------+\n",
      "|        Aivee| 73.12043478260871|\n",
      "|      Gabtune| 68.60214285714287|\n",
      "|   Realbridge| 68.10181818181816|\n",
      "|      Camimbo| 67.26842105263157|\n",
      "|    Topiczoom| 64.39370370370371|\n",
      "|       Avavee| 64.14625000000001|\n",
      "|         Yodo| 63.62319999999999|\n",
      "|       Quamba| 63.48190476190476|\n",
      "|        Kamba|           62.7492|\n",
      "|       Devify|            61.545|\n",
      "|      Gabcube| 61.31173913043477|\n",
      "|       Tagcat| 61.05761904761905|\n",
      "|   Bubbletube| 61.05650000000001|\n",
      "|     Brainbox| 60.97304347826086|\n",
      "|       Roodel|60.879000000000005|\n",
      "|     Snaptags| 60.62347826086956|\n",
      "|     Flipopia| 60.54896551724139|\n",
      "|      Tagchat|60.120000000000005|\n",
      "|     Realbuzz| 60.03695652173913|\n",
      "|      Zoonder|59.999166666666675|\n",
      "+-------------+------------------+\n",
      "only showing top 20 rows\n",
      "\n"
     ]
    }
   ],
   "source": [
    "avg_price_per_supplier = data.groupBy(\"supplier_name\") \\\n",
    "    .agg(avg(\"product_price\").alias(\"avg_product_price\")) \\\n",
    "    .orderBy(\"avg_product_price\", ascending=False)\n",
    "\n",
    "avg_price_per_supplier.show()\n",
    "\n",
    "properties[\"createTableOptions\"] = \"ENGINE = MergeTree() ORDER BY avg_product_price \"\n",
    "write_to_clickhouse(avg_price_per_supplier, 'avg_price_per_supplier')"
   ]
  },
  {
   "cell_type": "code",
   "execution_count": 27,
   "id": "890a97e1-3e6a-4437-8e0d-412075f3788f",
   "metadata": {},
   "outputs": [
    {
     "name": "stdout",
     "output_type": "stream",
     "text": [
      "+----------------+------------------+\n",
      "|supplier_country|     total_revenue|\n",
      "+----------------+------------------+\n",
      "|           China|492823.30999999994|\n",
      "|       Indonesia|265717.99000000005|\n",
      "|          Russia|         149206.75|\n",
      "|     Philippines|136135.09999999998|\n",
      "|          Brazil| 97546.81999999998|\n",
      "|          Poland| 87370.63999999998|\n",
      "|        Portugal| 83210.59999999999|\n",
      "|          France| 80432.46000000002|\n",
      "|   United States|          52560.14|\n",
      "|          Sweden|52074.939999999995|\n",
      "|  Czech Republic|          45258.81|\n",
      "|         Ukraine|42858.170000000006|\n",
      "|        Thailand|          42409.05|\n",
      "|           Japan|42075.850000000006|\n",
      "|        Colombia| 39525.61000000001|\n",
      "|            Peru|          37351.86|\n",
      "|       Argentina|          35606.32|\n",
      "|          Greece| 33146.62000000001|\n",
      "|          Canada|30290.579999999994|\n",
      "|         Nigeria|          24725.21|\n",
      "+----------------+------------------+\n",
      "only showing top 20 rows\n",
      "\n"
     ]
    }
   ],
   "source": [
    "supplier_distribution = sale.join(fact, sale.id == fact.sale_id) \\\n",
    "    .join(supplier, fact.supplier_id == supplier.id) \\\n",
    "    .groupBy(\"supplier_country\") \\\n",
    "    .agg(sum(\"sale_total_price\").alias(\"total_revenue\")) \\\n",
    "    .orderBy(desc(\"total_revenue\"))\n",
    "\n",
    "supplier_distribution.show()\n",
    "\n",
    "properties[\"createTableOptions\"] = \"ENGINE = MergeTree() ORDER BY total_revenue \"\n",
    "write_to_clickhouse(supplier_distribution, 'supplier_distribution')"
   ]
  },
  {
   "cell_type": "code",
   "execution_count": 28,
   "id": "8bdd42fc-9750-4081-ad4a-e1ef55befbce",
   "metadata": {},
   "outputs": [],
   "source": [
    "store_distribution = sale.join(store, sale.sale_seller_id == store.id) \\\n",
    "    .groupBy(\"store_country\", \"store_city\") \\\n",
    "    .agg(sum(\"sale_total_price\").alias(\"total_revenue\")) \\\n",
    "    .orderBy(desc(\"total_revenue\"))\n",
    "\n",
    "properties[\"createTableOptions\"] = \"ENGINE = MergeTree() ORDER BY total_revenue \"\n",
    "write_to_clickhouse(store_distribution, 'store_distribution')"
   ]
  },
  {
   "cell_type": "code",
   "execution_count": 29,
   "id": "bf85a435-b1e0-4d21-9d91-586f57e56e86",
   "metadata": {},
   "outputs": [
    {
     "name": "stdout",
     "output_type": "stream",
     "text": [
      "+----+------------+----------------+--------------+---------------+\n",
      "|  id|product_name|product_category|product_rating|product_reviews|\n",
      "+----+------------+----------------+--------------+---------------+\n",
      "| 952|   Bird Cage|             Toy|           5.0|            845|\n",
      "|2385|   Bird Cage|             Toy|           5.0|            199|\n",
      "|1016|   Bird Cage|            Food|           5.0|            454|\n",
      "|  49|   Bird Cage|            Cage|           5.0|            227|\n",
      "|1184|   Bird Cage|            Cage|           5.0|              6|\n",
      "| 394|   Bird Cage|            Food|           5.0|            882|\n",
      "|1379|   Bird Cage|            Cage|           5.0|            953|\n",
      "| 808|   Bird Cage|             Toy|           5.0|            559|\n",
      "|1422|   Bird Cage|            Cage|           5.0|            620|\n",
      "|1763|   Bird Cage|            Food|           5.0|            298|\n",
      "|1784|   Bird Cage|            Food|           5.0|            727|\n",
      "|  91|   Bird Cage|            Food|           5.0|            369|\n",
      "|1828|   Bird Cage|            Food|           5.0|            552|\n",
      "| 737|   Bird Cage|             Toy|           5.0|            678|\n",
      "|1864|   Bird Cage|             Toy|           5.0|             12|\n",
      "|1439|   Bird Cage|            Cage|           5.0|            924|\n",
      "|1907|   Bird Cage|             Toy|           5.0|            537|\n",
      "|1597|   Bird Cage|            Cage|           5.0|            524|\n",
      "|2004|   Bird Cage|            Food|           5.0|            410|\n",
      "|1702|   Bird Cage|            Cage|           5.0|            276|\n",
      "+----+------------+----------------+--------------+---------------+\n",
      "only showing top 20 rows\n",
      "\n"
     ]
    }
   ],
   "source": [
    "product_ratings = product.select(\n",
    "    \"id\", \n",
    "    \"product_name\", \n",
    "    \"product_category\", \n",
    "    \"product_rating\", \n",
    "    \"product_reviews\"\n",
    ").orderBy(desc(\"product_rating\"))\n",
    "\n",
    "product_ratings.show()\n",
    "\n",
    "properties[\"createTableOptions\"] = \"ENGINE = MergeTree() ORDER BY product_rating\"\n",
    "write_to_clickhouse(product_ratings.limit(10), 'top_rated_products')\n",
    "write_to_clickhouse(product_ratings.orderBy(asc(\"product_rating\")).limit(10), 'lowest_rated_products')\n"
   ]
  },
  {
   "cell_type": "code",
   "execution_count": 30,
   "id": "d28f3877-2b23-416e-aa28-f06099480ba4",
   "metadata": {},
   "outputs": [
    {
     "name": "stdout",
     "output_type": "stream",
     "text": [
      "+---------------+------------+--------------+-----------+------------------+\n",
      "|sale_product_id|product_name|product_rating|sales_count|     total_revenue|\n",
      "+---------------+------------+--------------+-----------+------------------+\n",
      "|             50|   Bird Cage|           1.0|         10|2816.6900000000005|\n",
      "|            128|   Bird Cage|           1.0|         10|           1711.44|\n",
      "|            278|   Bird Cage|           1.0|         10|           2398.61|\n",
      "|            305|   Bird Cage|           1.0|         10|2667.6400000000003|\n",
      "|            371|   Bird Cage|           1.0|         10|           2845.23|\n",
      "|            505|   Bird Cage|           1.0|         10|2618.2099999999996|\n",
      "|            548|   Bird Cage|           1.0|         10|2726.7099999999996|\n",
      "|            791|   Bird Cage|           1.0|         10|2489.5299999999997|\n",
      "|            818|   Bird Cage|           1.0|         10|2009.0600000000002|\n",
      "|            823|   Bird Cage|           1.0|         10|2545.1299999999997|\n",
      "|            219|   Bird Cage|           1.1|         10|1181.3999999999999|\n",
      "|            558|   Bird Cage|           1.1|         10|           2319.55|\n",
      "|            560|   Bird Cage|           1.1|         10|           2113.17|\n",
      "|            937|   Bird Cage|           1.1|         10|2537.0299999999997|\n",
      "|            644|   Bird Cage|           1.1|         10|           3065.05|\n",
      "|            471|   Bird Cage|           1.1|         10|           2538.04|\n",
      "|            259|   Bird Cage|           1.1|         10|           2225.03|\n",
      "|            500|   Bird Cage|           1.1|         10|2598.7400000000002|\n",
      "|            809|   Bird Cage|           1.1|         10|           2068.42|\n",
      "|            514|   Bird Cage|           1.1|         10|2936.9799999999996|\n",
      "+---------------+------------+--------------+-----------+------------------+\n",
      "only showing top 20 rows\n",
      "\n"
     ]
    }
   ],
   "source": [
    "rating_sales_correlation = sale.join(product, sale.sale_product_id == product.id) \\\n",
    "    .groupBy(\"sale_product_id\", \"product_name\", \"product_rating\") \\\n",
    "    .agg(\n",
    "        count(\"*\").alias(\"sales_count\"),\n",
    "        sum(\"sale_total_price\").alias(\"total_revenue\")\n",
    "    ) \\\n",
    "    .orderBy(\"product_rating\")\n",
    "\n",
    "rating_sales_correlation.show()\n",
    "\n",
    "properties[\"createTableOptions\"] = \"ENGINE = MergeTree() ORDER BY product_rating\"\n",
    "write_to_clickhouse(rating_sales_correlation, 'rating_sales_correlation')\n"
   ]
  },
  {
   "cell_type": "code",
   "execution_count": 31,
   "id": "7f423a98-5253-4d0c-8c60-cf7a4cb1d97d",
   "metadata": {},
   "outputs": [
    {
     "name": "stdout",
     "output_type": "stream",
     "text": [
      "+----+------------+----------------+---------------+\n",
      "|  id|product_name|product_category|product_reviews|\n",
      "+----+------------+----------------+---------------+\n",
      "| 659|   Bird Cage|             Toy|           1000|\n",
      "| 182|   Bird Cage|            Food|           1000|\n",
      "| 876|   Bird Cage|            Food|           1000|\n",
      "|4844|     Cat Toy|             Toy|           1000|\n",
      "|3192|   Bird Cage|             Toy|           1000|\n",
      "|4455|     Cat Toy|             Toy|           1000|\n",
      "|4964|     Cat Toy|            Food|           1000|\n",
      "|6553|     Cat Toy|            Cage|           1000|\n",
      "|7211|    Dog Food|            Food|           1000|\n",
      "|8386|    Dog Food|            Food|           1000|\n",
      "+----+------------+----------------+---------------+\n",
      "\n"
     ]
    }
   ],
   "source": [
    "most_reviewed = product.select(\n",
    "    \"id\", \n",
    "    \"product_name\", \n",
    "    \"product_category\", \n",
    "    \"product_reviews\"\n",
    ").orderBy(desc(\"product_reviews\")) \\\n",
    ".limit(10)\n",
    "\n",
    "most_reviewed.show()\n",
    "\n",
    "properties[\"createTableOptions\"] = \"ENGINE = MergeTree() ORDER BY product_reviews\"\n",
    "write_to_clickhouse(most_reviewed, 'most_reviewed_products')"
   ]
  },
  {
   "cell_type": "code",
   "execution_count": 33,
   "id": "cabd3127-2d83-427a-a851-89758f43e9a7",
   "metadata": {},
   "outputs": [],
   "source": [
    "# Останавливаем SparkSession\n",
    "spark.stop()"
   ]
  },
  {
   "cell_type": "code",
   "execution_count": null,
   "id": "f5025baf-ac1b-4cff-8523-4398e6d6ba37",
   "metadata": {},
   "outputs": [],
   "source": []
  },
  {
   "cell_type": "code",
   "execution_count": null,
   "id": "5a15ef05-9255-4db4-bc2e-1f665e8f6c3b",
   "metadata": {},
   "outputs": [],
   "source": []
  }
 ],
 "metadata": {
  "kernelspec": {
   "display_name": "Python 3 (ipykernel)",
   "language": "python",
   "name": "python3"
  },
  "language_info": {
   "codemirror_mode": {
    "name": "ipython",
    "version": 3
   },
   "file_extension": ".py",
   "mimetype": "text/x-python",
   "name": "python",
   "nbconvert_exporter": "python",
   "pygments_lexer": "ipython3",
   "version": "3.11.6"
  }
 },
 "nbformat": 4,
 "nbformat_minor": 5
}
