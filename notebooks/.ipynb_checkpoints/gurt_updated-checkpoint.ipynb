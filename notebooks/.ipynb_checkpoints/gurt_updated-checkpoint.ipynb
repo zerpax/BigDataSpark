{
 "cells": [
  {
   "cell_type": "code",
   "execution_count": 1,
   "id": "d040db6a-c72e-4717-9d13-b700a6e5725d",
   "metadata": {},
   "outputs": [
    {
     "ename": "KeyboardInterrupt",
     "evalue": "",
     "output_type": "error",
     "traceback": [
      "\u001b[0;31m---------------------------------------------------------------------------\u001b[0m",
      "\u001b[0;31mKeyboardInterrupt\u001b[0m                         Traceback (most recent call last)",
      "Cell \u001b[0;32mIn[1], line 1\u001b[0m\n\u001b[0;32m----> 1\u001b[0m \u001b[38;5;28;01mfrom\u001b[39;00m \u001b[38;5;21;01mpyspark\u001b[39;00m\u001b[38;5;21;01m.\u001b[39;00m\u001b[38;5;21;01msql\u001b[39;00m \u001b[38;5;28;01mimport\u001b[39;00m SparkSession\n\u001b[1;32m      2\u001b[0m \u001b[38;5;28;01mfrom\u001b[39;00m \u001b[38;5;21;01mpyspark\u001b[39;00m\u001b[38;5;21;01m.\u001b[39;00m\u001b[38;5;21;01msql\u001b[39;00m\u001b[38;5;21;01m.\u001b[39;00m\u001b[38;5;21;01mfunctions\u001b[39;00m \u001b[38;5;28;01mimport\u001b[39;00m monotonically_increasing_id, col, row_number, lit, count, desc, regexp_replace, \u001b[38;5;28msum\u001b[39m, avg, year, month\n\u001b[1;32m      3\u001b[0m \u001b[38;5;28;01mfrom\u001b[39;00m \u001b[38;5;21;01mpyspark\u001b[39;00m\u001b[38;5;21;01m.\u001b[39;00m\u001b[38;5;21;01msql\u001b[39;00m\u001b[38;5;21;01m.\u001b[39;00m\u001b[38;5;21;01mwindow\u001b[39;00m \u001b[38;5;28;01mimport\u001b[39;00m Window\n",
      "File \u001b[0;32m/usr/local/spark/python/pyspark/__init__.py:148\u001b[0m\n\u001b[1;32m    145\u001b[0m \u001b[38;5;28;01mfrom\u001b[39;00m \u001b[38;5;21;01mpyspark\u001b[39;00m\u001b[38;5;21;01m.\u001b[39;00m\u001b[38;5;21;01mcontext\u001b[39;00m \u001b[38;5;28;01mimport\u001b[39;00m SparkContext\n\u001b[1;32m    147\u001b[0m \u001b[38;5;66;03m# for back compatibility\u001b[39;00m\n\u001b[0;32m--> 148\u001b[0m \u001b[38;5;28;01mfrom\u001b[39;00m \u001b[38;5;21;01mpyspark\u001b[39;00m\u001b[38;5;21;01m.\u001b[39;00m\u001b[38;5;21;01msql\u001b[39;00m \u001b[38;5;28;01mimport\u001b[39;00m SQLContext, HiveContext, Row  \u001b[38;5;66;03m# noqa: F401\u001b[39;00m\n\u001b[1;32m    150\u001b[0m __all__ \u001b[38;5;241m=\u001b[39m [\n\u001b[1;32m    151\u001b[0m     \u001b[38;5;124m\"\u001b[39m\u001b[38;5;124mSparkConf\u001b[39m\u001b[38;5;124m\"\u001b[39m,\n\u001b[1;32m    152\u001b[0m     \u001b[38;5;124m\"\u001b[39m\u001b[38;5;124mSparkContext\u001b[39m\u001b[38;5;124m\"\u001b[39m,\n\u001b[0;32m   (...)\u001b[0m\n\u001b[1;32m    172\u001b[0m     \u001b[38;5;124m\"\u001b[39m\u001b[38;5;124m__version__\u001b[39m\u001b[38;5;124m\"\u001b[39m,\n\u001b[1;32m    173\u001b[0m ]\n",
      "File \u001b[0;32m/usr/local/spark/python/pyspark/sql/__init__.py:43\u001b[0m\n\u001b[1;32m     18\u001b[0m \u001b[38;5;124;03m\"\"\"\u001b[39;00m\n\u001b[1;32m     19\u001b[0m \u001b[38;5;124;03mImportant classes of Spark SQL and DataFrames:\u001b[39;00m\n\u001b[1;32m     20\u001b[0m \n\u001b[0;32m   (...)\u001b[0m\n\u001b[1;32m     40\u001b[0m \u001b[38;5;124;03m      For working with window functions.\u001b[39;00m\n\u001b[1;32m     41\u001b[0m \u001b[38;5;124;03m\"\"\"\u001b[39;00m\n\u001b[1;32m     42\u001b[0m \u001b[38;5;28;01mfrom\u001b[39;00m \u001b[38;5;21;01mpyspark\u001b[39;00m\u001b[38;5;21;01m.\u001b[39;00m\u001b[38;5;21;01msql\u001b[39;00m\u001b[38;5;21;01m.\u001b[39;00m\u001b[38;5;21;01mtypes\u001b[39;00m \u001b[38;5;28;01mimport\u001b[39;00m Row\n\u001b[0;32m---> 43\u001b[0m \u001b[38;5;28;01mfrom\u001b[39;00m \u001b[38;5;21;01mpyspark\u001b[39;00m\u001b[38;5;21;01m.\u001b[39;00m\u001b[38;5;21;01msql\u001b[39;00m\u001b[38;5;21;01m.\u001b[39;00m\u001b[38;5;21;01mcontext\u001b[39;00m \u001b[38;5;28;01mimport\u001b[39;00m SQLContext, HiveContext, UDFRegistration, UDTFRegistration\n\u001b[1;32m     44\u001b[0m \u001b[38;5;28;01mfrom\u001b[39;00m \u001b[38;5;21;01mpyspark\u001b[39;00m\u001b[38;5;21;01m.\u001b[39;00m\u001b[38;5;21;01msql\u001b[39;00m\u001b[38;5;21;01m.\u001b[39;00m\u001b[38;5;21;01msession\u001b[39;00m \u001b[38;5;28;01mimport\u001b[39;00m SparkSession\n\u001b[1;32m     45\u001b[0m \u001b[38;5;28;01mfrom\u001b[39;00m \u001b[38;5;21;01mpyspark\u001b[39;00m\u001b[38;5;21;01m.\u001b[39;00m\u001b[38;5;21;01msql\u001b[39;00m\u001b[38;5;21;01m.\u001b[39;00m\u001b[38;5;21;01mcolumn\u001b[39;00m \u001b[38;5;28;01mimport\u001b[39;00m Column\n",
      "File \u001b[0;32m/usr/local/spark/python/pyspark/sql/context.py:39\u001b[0m\n\u001b[1;32m     37\u001b[0m \u001b[38;5;28;01mfrom\u001b[39;00m \u001b[38;5;21;01mpyspark\u001b[39;00m \u001b[38;5;28;01mimport\u001b[39;00m since, _NoValue\n\u001b[1;32m     38\u001b[0m \u001b[38;5;28;01mfrom\u001b[39;00m \u001b[38;5;21;01mpyspark\u001b[39;00m\u001b[38;5;21;01m.\u001b[39;00m\u001b[38;5;21;01m_globals\u001b[39;00m \u001b[38;5;28;01mimport\u001b[39;00m _NoValueType\n\u001b[0;32m---> 39\u001b[0m \u001b[38;5;28;01mfrom\u001b[39;00m \u001b[38;5;21;01mpyspark\u001b[39;00m\u001b[38;5;21;01m.\u001b[39;00m\u001b[38;5;21;01msql\u001b[39;00m\u001b[38;5;21;01m.\u001b[39;00m\u001b[38;5;21;01msession\u001b[39;00m \u001b[38;5;28;01mimport\u001b[39;00m _monkey_patch_RDD, SparkSession\n\u001b[1;32m     40\u001b[0m \u001b[38;5;28;01mfrom\u001b[39;00m \u001b[38;5;21;01mpyspark\u001b[39;00m\u001b[38;5;21;01m.\u001b[39;00m\u001b[38;5;21;01msql\u001b[39;00m\u001b[38;5;21;01m.\u001b[39;00m\u001b[38;5;21;01mdataframe\u001b[39;00m \u001b[38;5;28;01mimport\u001b[39;00m DataFrame\n\u001b[1;32m     41\u001b[0m \u001b[38;5;28;01mfrom\u001b[39;00m \u001b[38;5;21;01mpyspark\u001b[39;00m\u001b[38;5;21;01m.\u001b[39;00m\u001b[38;5;21;01msql\u001b[39;00m\u001b[38;5;21;01m.\u001b[39;00m\u001b[38;5;21;01mreadwriter\u001b[39;00m \u001b[38;5;28;01mimport\u001b[39;00m DataFrameReader\n",
      "File \u001b[0;32m/usr/local/spark/python/pyspark/sql/session.py:48\u001b[0m\n\u001b[1;32m     46\u001b[0m \u001b[38;5;28;01mfrom\u001b[39;00m \u001b[38;5;21;01mpyspark\u001b[39;00m\u001b[38;5;21;01m.\u001b[39;00m\u001b[38;5;21;01msql\u001b[39;00m\u001b[38;5;21;01m.\u001b[39;00m\u001b[38;5;21;01mconf\u001b[39;00m \u001b[38;5;28;01mimport\u001b[39;00m RuntimeConfig\n\u001b[1;32m     47\u001b[0m \u001b[38;5;28;01mfrom\u001b[39;00m \u001b[38;5;21;01mpyspark\u001b[39;00m\u001b[38;5;21;01m.\u001b[39;00m\u001b[38;5;21;01msql\u001b[39;00m\u001b[38;5;21;01m.\u001b[39;00m\u001b[38;5;21;01mdataframe\u001b[39;00m \u001b[38;5;28;01mimport\u001b[39;00m DataFrame\n\u001b[0;32m---> 48\u001b[0m \u001b[38;5;28;01mfrom\u001b[39;00m \u001b[38;5;21;01mpyspark\u001b[39;00m\u001b[38;5;21;01m.\u001b[39;00m\u001b[38;5;21;01msql\u001b[39;00m\u001b[38;5;21;01m.\u001b[39;00m\u001b[38;5;21;01mfunctions\u001b[39;00m \u001b[38;5;28;01mimport\u001b[39;00m lit\n\u001b[1;32m     49\u001b[0m \u001b[38;5;28;01mfrom\u001b[39;00m \u001b[38;5;21;01mpyspark\u001b[39;00m\u001b[38;5;21;01m.\u001b[39;00m\u001b[38;5;21;01msql\u001b[39;00m\u001b[38;5;21;01m.\u001b[39;00m\u001b[38;5;21;01mpandas\u001b[39;00m\u001b[38;5;21;01m.\u001b[39;00m\u001b[38;5;21;01mconversion\u001b[39;00m \u001b[38;5;28;01mimport\u001b[39;00m SparkConversionMixin\n\u001b[1;32m     50\u001b[0m \u001b[38;5;28;01mfrom\u001b[39;00m \u001b[38;5;21;01mpyspark\u001b[39;00m\u001b[38;5;21;01m.\u001b[39;00m\u001b[38;5;21;01msql\u001b[39;00m\u001b[38;5;21;01m.\u001b[39;00m\u001b[38;5;21;01mreadwriter\u001b[39;00m \u001b[38;5;28;01mimport\u001b[39;00m DataFrameReader\n",
      "\u001b[0;31mKeyboardInterrupt\u001b[0m: "
     ]
    }
   ],
   "source": [
    "from pyspark.sql import SparkSession\n",
    "from pyspark.sql.functions import monotonically_increasing_id, col, row_number, lit, count, desc, regexp_replace, sum, avg, year, month, asc\n",
    "from pyspark.sql.window import Window\n",
    "from pyspark.sql.types import *\n"
   ]
  },
  {
   "cell_type": "code",
   "execution_count": null,
   "id": "46cb038d-371e-4279-a5d9-dbe0b8eeca60",
   "metadata": {},
   "outputs": [],
   "source": [
    "spark = SparkSession.builder \\\n",
    "    .appName(\"Spark SQL with PostgreSQL and ClickHouse\") \\\n",
    "    .config(\"spark.jars\", \"postgresql-42.6.0.jar,clickhouse-jdbc-0.4.6.jar\") \\\n",
    "    .getOrCreate()"
   ]
  },
  {
   "cell_type": "code",
   "execution_count": null,
   "id": "4f193b20-080a-4ebd-ae5c-f0a456b2a4e1",
   "metadata": {
    "jupyter": {
     "source_hidden": true
    }
   },
   "outputs": [],
   "source": [
    "\n",
    "schema = StructType([\n",
    "    # Customer fields\n",
    "    StructField(\"id\", IntegerType(), nullable=False),\n",
    "    StructField(\"customer_first_name\", StringType()),\n",
    "    StructField(\"customer_last_name\", StringType()),\n",
    "    StructField(\"customer_age\", IntegerType()),\n",
    "    StructField(\"customer_email\", StringType()),\n",
    "    StructField(\"customer_country\", StringType()),\n",
    "    StructField(\"customer_postal_code\", StringType()),\n",
    "    StructField(\"customer_pet_type\", StringType()),\n",
    "    StructField(\"customer_pet_name\", StringType()),\n",
    "    StructField(\"customer_pet_breed\", StringType()),\n",
    "    \n",
    "    # Seller fields\n",
    "    StructField(\"seller_first_name\", StringType()),\n",
    "    StructField(\"seller_last_name\", StringType()),\n",
    "    StructField(\"seller_email\", StringType()),\n",
    "    StructField(\"seller_country\", StringType()),\n",
    "    StructField(\"seller_postal_code\", StringType()),\n",
    "    \n",
    "    # Product fields\n",
    "    StructField(\"product_name\", StringType()),\n",
    "    StructField(\"product_category\", StringType()),\n",
    "    StructField(\"product_price\", DecimalType(10, 2)),  # Will map to PostgreSQL money\n",
    "    StructField(\"product_quantity\", IntegerType()),\n",
    "    \n",
    "    # Sale fields\n",
    "    StructField(\"sale_date\", DateType()),\n",
    "    StructField(\"sale_customer_id\", IntegerType()),\n",
    "    StructField(\"sale_seller_id\", IntegerType()),\n",
    "    StructField(\"sale_product_id\", IntegerType()),\n",
    "    StructField(\"sale_quantity\", IntegerType()),\n",
    "    StructField(\"sale_total_price\", DecimalType(10, 2)),  # PostgreSQL money\n",
    "    \n",
    "    # Store fields\n",
    "    StructField(\"store_name\", StringType()),\n",
    "    StructField(\"store_location\", StringType()),\n",
    "    StructField(\"store_city\", StringType()),\n",
    "    StructField(\"store_state\", StringType()),\n",
    "    StructField(\"store_country\", StringType()),\n",
    "    StructField(\"store_phone\", StringType()),\n",
    "    StructField(\"store_email\", StringType()),\n",
    "    \n",
    "    # Additional product details\n",
    "    StructField(\"pet_category\", StringType()),\n",
    "    StructField(\"product_weight\", FloatType()),\n",
    "    StructField(\"product_color\", StringType()),\n",
    "    StructField(\"product_size\", StringType()),\n",
    "    StructField(\"product_brand\", StringType()),\n",
    "    StructField(\"product_material\", StringType()),\n",
    "    StructField(\"product_description\", StringType()),\n",
    "    StructField(\"product_rating\", FloatType()),\n",
    "    StructField(\"product_reviews\", IntegerType()),\n",
    "    StructField(\"product_release_date\", DateType()),\n",
    "    StructField(\"product_expiry_date\", DateType()),\n",
    "    \n",
    "    # Supplier fields\n",
    "    StructField(\"supplier_name\", StringType()),\n",
    "    StructField(\"supplier_contact\", StringType()),\n",
    "    StructField(\"supplier_email\", StringType()),\n",
    "    StructField(\"supplier_phone\", StringType()),\n",
    "    StructField(\"supplier_address\", StringType()),\n",
    "    StructField(\"supplier_city\", StringType()),\n",
    "    StructField(\"supplier_country\", StringType())\n",
    "])"
   ]
  },
  {
   "cell_type": "code",
   "execution_count": null,
   "id": "9bfeac4a-57af-4f05-a3bc-ef0cbc450b7d",
   "metadata": {},
   "outputs": [],
   "source": [
    "jdbc_url = \"jdbc:postgresql://postgres:5432/spark_db\"\n",
    "properties = {\n",
    "    \"user\": \"spark_user\",\n",
    "    \"password\": \"spark_password\",\n",
    "    \"driver\": \"org.postgresql.Driver\"\n",
    "}"
   ]
  },
  {
   "cell_type": "code",
   "execution_count": null,
   "id": "86acdbba-0452-4f88-9b71-912d6b4dd59a",
   "metadata": {},
   "outputs": [],
   "source": [
    "data = spark.read.jdbc(url=jdbc_url, table=\"mock_data\", properties=properties)"
   ]
  },
  {
   "cell_type": "code",
   "execution_count": null,
   "id": "1ea19fcb-9a7e-4e09-8661-e31c577f162e",
   "metadata": {},
   "outputs": [],
   "source": [
    "data.schema\n"
   ]
  },
  {
   "cell_type": "code",
   "execution_count": null,
   "id": "40ab3e1c-44fc-4b7b-801a-71d9a0be2262",
   "metadata": {
    "scrolled": true
   },
   "outputs": [],
   "source": [
    "customer = data.select(\n",
    "    'customer_pet_type',\n",
    "    'customer_pet_name',\n",
    "    'customer_pet_breed',\n",
    "    'customer_country',\n",
    "    'customer_postal_code',\n",
    "    'customer_first_name',\n",
    "    'customer_last_name',\n",
    "    'customer_age',\n",
    "    'customer_email'\n",
    ").distinct()\n",
    "\n",
    "window = Window.orderBy('customer_first_name')\n",
    "customer = customer.withColumn(\"id\", row_number().over(window))\n",
    "customer.show()"
   ]
  },
  {
   "cell_type": "code",
   "execution_count": null,
   "id": "68f49ce4-2e14-46c9-a5ca-9e628ee01a45",
   "metadata": {},
   "outputs": [],
   "source": [
    "seller = data.select(\n",
    "    'seller_first_name',\n",
    "    'seller_last_name',\n",
    "    'seller_country',\n",
    "    'seller_postal_code',\n",
    "    'seller_email'\n",
    ").distinct()\n",
    "\n",
    "window = Window.orderBy('seller_first_name')\n",
    "seller = seller.withColumn(\"id\", row_number().over(window))\n",
    "seller.show()"
   ]
  },
  {
   "cell_type": "code",
   "execution_count": null,
   "id": "48dbacec-8227-490b-9ffe-351293425d28",
   "metadata": {},
   "outputs": [],
   "source": [
    "store = data.select(\n",
    "    'store_location',\n",
    "    'store_city',\n",
    "    'store_state',\n",
    "    'store_country',\n",
    "    'store_phone',\n",
    "    'store_email',\n",
    "    'store_name',\n",
    ").distinct()\n",
    "\n",
    "window = Window.orderBy('store_name')\n",
    "store = store.withColumn(\"id\", row_number().over(window))\n",
    "store.show()"
   ]
  },
  {
   "cell_type": "code",
   "execution_count": null,
   "id": "bdae4e5c-69b2-4377-9934-366f996c4ff0",
   "metadata": {},
   "outputs": [],
   "source": [
    "product = data.select(\n",
    "    'product_weight',\n",
    "    'product_color',\n",
    "    'product_size',\n",
    "    'product_material',\n",
    "    'product_description',\n",
    "    'product_rating',\n",
    "    'product_reviews',\n",
    "    'product_brand',\n",
    "    'product_name',\n",
    "    'product_category',\n",
    "    'product_price',\n",
    "    'product_quantity',\n",
    "    'product_release_date',\n",
    "    'product_expiry_date',\n",
    ").distinct()\n",
    "\n",
    "window = Window.orderBy('product_name')\n",
    "product = product.withColumn(\"id\", row_number().over(window))\n",
    "product.show()"
   ]
  },
  {
   "cell_type": "code",
   "execution_count": null,
   "id": "40c72a51-a477-4cca-8535-76834097cf32",
   "metadata": {},
   "outputs": [],
   "source": [
    "sale = data.select(\n",
    "    'sale_quantity',\n",
    "    'sale_total_price',\n",
    "    'sale_date',\n",
    "    'sale_customer_id',\n",
    "    'sale_seller_id',\n",
    "    'sale_product_id',\n",
    ").distinct()\n",
    "\n",
    "sale = sale.withColumn(\"sale_total_price\", regexp_replace(\"sale_total_price\", \"\\\\$\", \"\").cast(\"double\"))\n",
    "\n",
    "\n",
    "window = Window.orderBy('sale_date')\n",
    "sale = sale.withColumn(\"id\", row_number().over(window))\n",
    "sale.show()"
   ]
  },
  {
   "cell_type": "code",
   "execution_count": null,
   "id": "f0d5f85c-7c6b-45e9-be4d-8fc1f08ee182",
   "metadata": {},
   "outputs": [],
   "source": [
    "supplier = data.select(\n",
    "    'supplier_name',\n",
    "    'supplier_contact',\n",
    "    'supplier_email',\n",
    "    'supplier_phone',\n",
    "    'supplier_address',\n",
    "    'supplier_city',\n",
    "    'supplier_country'\n",
    ").distinct()\n",
    "\n",
    "window = Window.orderBy('supplier_name')\n",
    "supplier = supplier.withColumn(\"id\", row_number().over(window))\n",
    "supplier.show()"
   ]
  },
  {
   "cell_type": "code",
   "execution_count": null,
   "id": "09923732-eea3-46aa-b283-66f554d7d0b4",
   "metadata": {},
   "outputs": [],
   "source": [
    "fact = data.join(customer,\n",
    "    on=[\n",
    "        data.customer_pet_type == customer.customer_pet_type,\n",
    "        data.customer_pet_name == customer.customer_pet_name,\n",
    "        data.customer_pet_breed == customer.customer_pet_breed,\n",
    "        data.customer_country == customer.customer_country,\n",
    "        data.customer_postal_code == customer.customer_postal_code,\n",
    "        data.customer_first_name == customer.customer_first_name,\n",
    "        data.customer_last_name == customer.customer_last_name,\n",
    "        data.customer_age == customer.customer_age,\n",
    "        data.customer_email == customer.customer_email\n",
    "    ],\n",
    "    how = 'left'\n",
    ").join(seller,\n",
    "      on = [\n",
    "        data.seller_first_name == seller.seller_first_name,\n",
    "        data.seller_last_name == seller.seller_last_name,\n",
    "        data.seller_country == seller.seller_country,\n",
    "        data.seller_postal_code == seller.seller_postal_code,\n",
    "        data.seller_email == seller.seller_email\n",
    "      ],\n",
    "    how = 'left'\n",
    ").join(store,\n",
    "      on = [\n",
    "        data.store_location == store.store_location,\n",
    "        data.store_city == store.store_city,\n",
    "        data.store_state == store.store_state,\n",
    "        data.store_country == store.store_country,\n",
    "        data.store_phone == store.store_phone,\n",
    "        data.store_email == store.store_email,\n",
    "        data.store_name == store.store_name\n",
    "      ],\n",
    "    how = 'left'\n",
    ").join(product,\n",
    "      on = [\n",
    "        data.product_weight == product.product_weight,\n",
    "        data.product_color == product.product_color,\n",
    "        data.product_size == product.product_size,\n",
    "        data.product_material == product.product_material,\n",
    "        data.product_description == product.product_description,\n",
    "        data.product_rating == product.product_rating,\n",
    "        data.product_reviews == product.product_reviews,\n",
    "        data.product_brand == product.product_brand,\n",
    "        data.product_name == product.product_name,\n",
    "        data.product_category == product.product_category,\n",
    "        data.product_quantity == product.product_quantity,\n",
    "        data.product_release_date == product.product_release_date,\n",
    "        data.product_reviews == product.product_reviews,\n",
    "        data.product_expiry_date == product.product_expiry_date,\n",
    "      ],\n",
    "    how = 'left'\n",
    ").join(sale,\n",
    "      on = [\n",
    "        data.sale_quantity == sale.sale_quantity,\n",
    "        data.sale_total_price == sale.sale_total_price,\n",
    "        data.sale_date == sale.sale_date,\n",
    "        data.sale_customer_id == sale.sale_customer_id,\n",
    "        data.sale_seller_id == sale.sale_seller_id,\n",
    "        data.sale_product_id == sale.sale_product_id\n",
    "      ],\n",
    "    how = 'left'\n",
    ").join(supplier,\n",
    "      on = [\n",
    "        data.supplier_name == supplier.supplier_name,\n",
    "        data.supplier_contact == supplier.supplier_contact,\n",
    "        data.supplier_email == supplier.supplier_email,\n",
    "        data.supplier_phone == supplier.supplier_phone,\n",
    "        data.supplier_address == supplier.supplier_address,\n",
    "        data.supplier_city == supplier.supplier_city,\n",
    "        data.supplier_country == supplier.supplier_country \n",
    "      ],\n",
    "    how = 'left'\n",
    ").select(\n",
    "    data['id'],\n",
    "    customer['id'].alias('customer_id'),\n",
    "    seller['id'].alias('seller_id'),\n",
    "    store['id'].alias('store_id'),\n",
    "    product['id'].alias('product_id'),\n",
    "    sale['id'].alias('sale_id'),\n",
    "    supplier['id'].alias('supplier_id')\n",
    ")\n",
    "fact.show()\n"
   ]
  },
  {
   "cell_type": "code",
   "execution_count": null,
   "id": "4295107b-57dd-49fb-b647-b127100c5799",
   "metadata": {},
   "outputs": [],
   "source": [
    "fact.count()"
   ]
  },
  {
   "cell_type": "code",
   "execution_count": null,
   "id": "e6492af4-f55e-4dfc-b2d6-31f1bf663966",
   "metadata": {},
   "outputs": [],
   "source": []
  },
  {
   "cell_type": "code",
   "execution_count": null,
   "id": "dd180fa4-4a5d-434e-87a7-3712213ccbbd",
   "metadata": {},
   "outputs": [],
   "source": [
    "customer.write.jdbc(url=jdbc_url, table=\"customer\", properties=properties)\n",
    "seller.write.jdbc(url=jdbc_url, table=\"seller\", properties=properties)\n",
    "store.write.jdbc(url=jdbc_url, table=\"store\", properties=properties)\n",
    "product.write.jdbc(url=jdbc_url, table=\"product\", properties=properties)\n",
    "sale.write.jdbc(url=jdbc_url, table=\"sale\", properties=properties)\n",
    "supplier.write.jdbc(url=jdbc_url, table=\"supplier\", properties=properties)\n",
    "fact.write.jdbc(url=jdbc_url, table=\"fact\", properties=properties)"
   ]
  },
  {
   "cell_type": "code",
   "execution_count": null,
   "id": "7ba4e46d-88eb-4c68-847f-d9128de1c6c1",
   "metadata": {},
   "outputs": [],
   "source": [
    "print(sale.schema)"
   ]
  },
  {
   "cell_type": "code",
   "execution_count": null,
   "id": "6b930527-fed7-4083-92ca-6e1e0af7b52f",
   "metadata": {},
   "outputs": [],
   "source": [
    "product_report = (\n",
    "    fact.join(product, on = [fact.product_id == product.id]).join(sale, on = [fact.sale_id == sale.id])\n",
    "    .groupBy(\"product_id\")\n",
    "    .agg(\n",
    "        (count(col('product_id')) * sum(col('sale_quantity'))).alias(\"quantity sold\"),\n",
    "        sum(col(\"sale_total_price\")),\n",
    "        sum(col('product_reviews')),\n",
    "        avg(col('product_rating'))\n",
    "    ).orderBy(desc('quantity sold')).limit(10)\n",
    ")\n",
    "product_report.show()"
   ]
  },
  {
   "cell_type": "code",
   "execution_count": null,
   "id": "21e5bf29-23b0-4b8c-b566-ce912635606a",
   "metadata": {},
   "outputs": [],
   "source": [
    "customer_report = (\n",
    "    fact.join(customer, fact.customer_id == customer.id)\n",
    "    .join(sale, fact.sale_id == sale.id)\n",
    "    .groupBy(\"customer_id\", \"customer_country\")\n",
    "    .agg(\n",
    "        sum(\"sale_total_price\").alias(\"total_spent\"),\n",
    "        (sum(\"sale_total_price\") / count(\"sale_id\")).alias(\"average_check\")\n",
    "    )\n",
    "    .orderBy(desc(\"total_spent\")).limit(10)\n",
    ")\n",
    "customer_report.show()"
   ]
  },
  {
   "cell_type": "code",
   "execution_count": null,
   "id": "4a31546e-3295-4127-a4d1-d549c9d169d1",
   "metadata": {},
   "outputs": [],
   "source": [
    "time_report = (\n",
    "    fact.join(sale, fact.sale_id == sale.id)\n",
    "    .withColumn(\"year\", year(\"sale_date\"))\n",
    "    .withColumn(\"month\", month(\"sale_date\"))\n",
    "    .groupBy(\"year\", \"month\")\n",
    "    .agg(\n",
    "        sum(\"sale_total_price\").alias(\"monthly_revenue\"),\n",
    "        count(\"sale_id\").alias(\"number_of_sales\"),\n",
    "        avg(\"sale_total_price\").alias(\"average_order_size\")\n",
    "    )\n",
    "    .orderBy(\"year\", \"month\")\n",
    ")\n",
    "time_report.show()"
   ]
  },
  {
   "cell_type": "code",
   "execution_count": null,
   "id": "4ca578b3-6c23-4be0-9dba-c8b01f505919",
   "metadata": {},
   "outputs": [],
   "source": [
    "store_report = (\n",
    "    fact.join(store, fact.store_id == store.id)\n",
    "    .join(sale, fact.sale_id == sale.id)\n",
    "    .groupBy(\"store_id\", \"store_name\", \"store_city\", \"store_country\")\n",
    "    .agg(\n",
    "        sum(\"sale_total_price\").alias(\"total_revenue\"),\n",
    "        count(\"sale_id\").alias(\"number_of_sales\"),\n",
    "        avg(\"sale_total_price\").alias(\"average_check\")\n",
    "    )\n",
    "    .orderBy(desc(\"total_revenue\")).limit(5)\n",
    ")\n",
    "store_report.show()"
   ]
  },
  {
   "cell_type": "code",
   "execution_count": null,
   "id": "135a67f0-9356-40b5-ab61-0d2bcbb7a730",
   "metadata": {},
   "outputs": [],
   "source": [
    "supplier_report = (\n",
    "    fact.join(supplier, fact.supplier_id == supplier.id)\n",
    "    .join(product, fact.product_id == product.id)\n",
    "    .join(sale, fact.sale_id == sale.id)\n",
    "    .groupBy(\"supplier_id\", \"supplier_name\", \"supplier_country\")\n",
    "    .agg(\n",
    "        sum(\"sale_total_price\").alias(\"total_revenue\"),\n",
    "        avg(\"product_price\").alias(\"average_product_price\"),\n",
    "        count(\"sale_id\").alias(\"number_of_sales\")\n",
    "    )\n",
    "    .orderBy(desc(\"total_revenue\")).limit(5)\n",
    ")\n",
    "\n",
    "supplier_report.show()"
   ]
  },
  {
   "cell_type": "code",
   "execution_count": null,
   "id": "28165dfe-4a68-42ab-bf2b-f6879d3a1231",
   "metadata": {},
   "outputs": [],
   "source": [
    "quality_report = (\n",
    "    fact.join(product, fact.product_id == product.id).join(sale,fact.sale_id == sale.id)\n",
    "    .groupBy(\"product_id\", \"product_name\", \"product_category\")\n",
    "    .agg(\n",
    "        avg(\"product_rating\").alias(\"average_rating\"),\n",
    "        sum(\"product_reviews\").alias(\"total_reviews\"),\n",
    "        sum(\"sale_quantity\").alias(\"total_quantity_sold\"),\n",
    "        (sum(\"product_reviews\") / sum(\"sale_quantity\")).alias(\"reviews_per_sale\")\n",
    "    )\n",
    "    .orderBy(desc(\"average_rating\"))\n",
    ")\n",
    "quality_report.show()"
   ]
  },
  {
   "cell_type": "code",
   "execution_count": null,
   "id": "4a1953e5-282c-4e63-9eab-75adc27940fb",
   "metadata": {},
   "outputs": [],
   "source": [
    "ch_jdbc_url = \"jdbc:clickhouse://clickhouse:8123/default\"\n",
    "properties = {\n",
    "    \"driver\": \"com.clickhouse.jdbc.ClickHouseDriver\",\n",
    "    \"user\": \"custom_user\",\n",
    "    \"password\": \"custom_password\"\n",
    "}\n"
   ]
  },
  {
   "cell_type": "code",
   "execution_count": null,
   "id": "cabd3127-2d83-427a-a851-89758f43e9a7",
   "metadata": {},
   "outputs": [],
   "source": [
    "# Останавливаем SparkSession\n",
    "spark.stop()"
   ]
  },
  {
   "cell_type": "code",
   "execution_count": null,
   "id": "f5025baf-ac1b-4cff-8523-4398e6d6ba37",
   "metadata": {},
   "outputs": [],
   "source": []
  },
  {
   "cell_type": "code",
   "execution_count": null,
   "id": "e7998c6f",
   "metadata": {},
   "outputs": [],
   "source": [
    "\n",
    "def write_to_clickhouse(df, table_name):\n",
    "    df.write       .format(\"jdbc\")       .option(\"url\", \"jdbc:clickhouse://clickhouse:8123/default\")       .option(\"driver\", \"com.clickhouse.jdbc.ClickHouseDriver\")       .option(\"dbtable\", table_name)       .mode(\"overwrite\")       .save()\n"
   ]
  },
  {
   "cell_type": "code",
   "execution_count": null,
   "id": "69710b0d",
   "metadata": {},
   "outputs": [],
   "source": [
    "top_10_products = fact_sales.groupBy('product_id').agg(F.sum('sales_amount').alias('total_sales')).orderBy(F.desc('total_sales')).limit(10)\n",
    "write_to_clickhouse(top_10_products, 'top_10_products')"
   ]
  },
  {
   "cell_type": "code",
   "execution_count": null,
   "id": "d76b588d",
   "metadata": {},
   "outputs": [],
   "source": [
    "revenue_by_category = fact_sales.join(dim_product, 'product_id').groupBy('category').agg(F.sum('sales_amount').alias('total_revenue'))\n",
    "write_to_clickhouse(revenue_by_category, 'revenue_by_category')"
   ]
  },
  {
   "cell_type": "code",
   "execution_count": null,
   "id": "5ff3f757",
   "metadata": {},
   "outputs": [],
   "source": [
    "product_reviews = dim_product.groupBy('product_id').agg(F.avg('rating').alias('avg_rating'), F.count('review_id').alias('review_count'))\n",
    "write_to_clickhouse(product_reviews, 'product_reviews')"
   ]
  },
  {
   "cell_type": "code",
   "execution_count": null,
   "id": "faaad2b0",
   "metadata": {},
   "outputs": [],
   "source": [
    "top_10_customers = fact_sales.groupBy('customer_id').agg(F.sum('sales_amount').alias('total_spent')).orderBy(F.desc('total_spent')).limit(10)\n",
    "write_to_clickhouse(top_10_customers, 'top_10_customers')"
   ]
  },
  {
   "cell_type": "code",
   "execution_count": null,
   "id": "0e74df3d",
   "metadata": {},
   "outputs": [],
   "source": [
    "customer_country_distribution = dim_customer.groupBy('country').agg(F.count('customer_id').alias('customer_count'))\n",
    "write_to_clickhouse(customer_country_distribution, 'customer_country_distribution')"
   ]
  },
  {
   "cell_type": "code",
   "execution_count": null,
   "id": "da27c318",
   "metadata": {},
   "outputs": [],
   "source": [
    "avg_receipt = fact_sales.groupBy('customer_id').agg(F.avg('sales_amount').alias('avg_receipt'))\n",
    "write_to_clickhouse(avg_receipt, 'average_receipt_per_customer')"
   ]
  },
  {
   "cell_type": "code",
   "execution_count": null,
   "id": "f3d48a10",
   "metadata": {},
   "outputs": [],
   "source": [
    "monthly_yearly_sales = fact_sales.join(dim_time, 'time_id').groupBy('year', 'month').agg(F.sum('sales_amount').alias('monthly_sales'))\n",
    "write_to_clickhouse(monthly_yearly_sales, 'monthly_yearly_sales')"
   ]
  },
  {
   "cell_type": "code",
   "execution_count": null,
   "id": "817651c2",
   "metadata": {},
   "outputs": [],
   "source": [
    "revenue_comparison = fact_sales.join(dim_time, 'time_id').groupBy('year').agg(F.sum('sales_amount').alias('yearly_revenue'))\n",
    "write_to_clickhouse(revenue_comparison, 'revenue_comparison')"
   ]
  },
  {
   "cell_type": "code",
   "execution_count": null,
   "id": "9d116c37",
   "metadata": {},
   "outputs": [],
   "source": [
    "monthly_avg_order = fact_sales.join(dim_time, 'time_id').groupBy('month').agg(F.avg('sales_amount').alias('avg_order'))\n",
    "write_to_clickhouse(monthly_avg_order, 'monthly_avg_order_size')"
   ]
  },
  {
   "cell_type": "code",
   "execution_count": null,
   "id": "d368ad72",
   "metadata": {},
   "outputs": [],
   "source": [
    "top_5_stores = fact_sales.groupBy('store_id').agg(F.sum('sales_amount').alias('store_revenue')).orderBy(F.desc('store_revenue')).limit(5)\n",
    "write_to_clickhouse(top_5_stores, 'top_5_stores')"
   ]
  },
  {
   "cell_type": "code",
   "execution_count": null,
   "id": "0de07417",
   "metadata": {},
   "outputs": [],
   "source": [
    "sales_by_location = fact_sales.join(dim_store, 'store_id').groupBy('city', 'country').agg(F.sum('sales_amount').alias('sales'))\n",
    "write_to_clickhouse(sales_by_location, 'sales_by_location')"
   ]
  },
  {
   "cell_type": "code",
   "execution_count": null,
   "id": "d1fdf1c7",
   "metadata": {},
   "outputs": [],
   "source": [
    "store_avg_check = fact_sales.groupBy('store_id').agg(F.avg('sales_amount').alias('avg_check'))\n",
    "write_to_clickhouse(store_avg_check, 'store_average_check')"
   ]
  },
  {
   "cell_type": "code",
   "execution_count": null,
   "id": "68af23d4",
   "metadata": {},
   "outputs": [],
   "source": [
    "top_5_suppliers = fact_sales.join(dim_product, 'product_id').groupBy('supplier_id').agg(F.sum('sales_amount').alias('supplier_revenue')).orderBy(F.desc('supplier_revenue')).limit(5)\n",
    "write_to_clickhouse(top_5_suppliers, 'top_5_suppliers')"
   ]
  },
  {
   "cell_type": "code",
   "execution_count": null,
   "id": "db860c19",
   "metadata": {},
   "outputs": [],
   "source": [
    "avg_price = dim_product.groupBy('supplier_id').agg(F.avg('price').alias('avg_price'))\n",
    "write_to_clickhouse(avg_price, 'avg_product_price_per_supplier')"
   ]
  },
  {
   "cell_type": "code",
   "execution_count": null,
   "id": "17c332b2",
   "metadata": {},
   "outputs": [],
   "source": [
    "sales_by_supplier_country = fact_sales.join(dim_product, 'product_id').join(dim_supplier, 'supplier_id').groupBy('country').agg(F.sum('sales_amount').alias('revenue'))\n",
    "write_to_clickhouse(sales_by_supplier_country, 'sales_by_supplier_country')"
   ]
  },
  {
   "cell_type": "code",
   "execution_count": null,
   "id": "dcabc9d4",
   "metadata": {},
   "outputs": [],
   "source": [
    "rated = dim_product.select('product_id', 'rating').orderBy(F.desc('rating'))\n",
    "write_to_clickhouse(rated.limit(10), 'top_rated_products')\n",
    "write_to_clickhouse(rated.orderBy('rating').limit(10), 'worst_rated_products')"
   ]
  },
  {
   "cell_type": "code",
   "execution_count": null,
   "id": "c0f5ea74",
   "metadata": {},
   "outputs": [],
   "source": [
    "rating_sales = fact_sales.join(dim_product, 'product_id').select('rating', 'sales_amount')\n",
    "write_to_clickhouse(rating_sales, 'rating_sales_correlation')"
   ]
  },
  {
   "cell_type": "code",
   "execution_count": null,
   "id": "8ae80c7f",
   "metadata": {},
   "outputs": [],
   "source": [
    "most_reviewed = dim_product.groupBy('product_id').agg(F.count('review_id').alias('review_count')).orderBy(F.desc('review_count'))\n",
    "write_to_clickhouse(most_reviewed, 'most_reviewed_products')"
   ]
  }
 ],
 "metadata": {
  "kernelspec": {
   "display_name": "Python 3 (ipykernel)",
   "language": "python",
   "name": "python3"
  },
  "language_info": {
   "codemirror_mode": {
    "name": "ipython",
    "version": 3
   },
   "file_extension": ".py",
   "mimetype": "text/x-python",
   "name": "python",
   "nbconvert_exporter": "python",
   "pygments_lexer": "ipython3",
   "version": "3.11.6"
  }
 },
 "nbformat": 4,
 "nbformat_minor": 5
}
