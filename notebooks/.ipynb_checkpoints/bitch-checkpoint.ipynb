{
 "cells": [
  {
   "cell_type": "code",
   "execution_count": 96,
   "id": "d040db6a-c72e-4717-9d13-b700a6e5725d",
   "metadata": {},
   "outputs": [],
   "source": [
    "from pyspark.sql import SparkSession\n",
    "from pyspark.sql.functions import monotonically_increasing_id, col, row_number, lit, count, desc, regexp_replace, sum, avg, year, month\n",
    "from pyspark.sql.window import Window\n",
    "from pyspark.sql.types import *\n"
   ]
  },
  {
   "cell_type": "code",
   "execution_count": 2,
   "id": "46cb038d-371e-4279-a5d9-dbe0b8eeca60",
   "metadata": {},
   "outputs": [],
   "source": [
    "spark = SparkSession.builder \\\n",
    "    .appName(\"Spark SQL with PostgreSQL and ClickHouse\") \\\n",
    "    .config(\"spark.jars\", \"postgresql-42.6.0.jar,clickhouse-jdbc-0.4.6.jar\") \\\n",
    "    .getOrCreate()"
   ]
  },
  {
   "cell_type": "code",
   "execution_count": 3,
   "id": "4f193b20-080a-4ebd-ae5c-f0a456b2a4e1",
   "metadata": {
    "jupyter": {
     "source_hidden": true
    }
   },
   "outputs": [],
   "source": [
    "\n",
    "schema = StructType([\n",
    "    # Customer fields\n",
    "    StructField(\"id\", IntegerType(), nullable=False),\n",
    "    StructField(\"customer_first_name\", StringType()),\n",
    "    StructField(\"customer_last_name\", StringType()),\n",
    "    StructField(\"customer_age\", IntegerType()),\n",
    "    StructField(\"customer_email\", StringType()),\n",
    "    StructField(\"customer_country\", StringType()),\n",
    "    StructField(\"customer_postal_code\", StringType()),\n",
    "    StructField(\"customer_pet_type\", StringType()),\n",
    "    StructField(\"customer_pet_name\", StringType()),\n",
    "    StructField(\"customer_pet_breed\", StringType()),\n",
    "    \n",
    "    # Seller fields\n",
    "    StructField(\"seller_first_name\", StringType()),\n",
    "    StructField(\"seller_last_name\", StringType()),\n",
    "    StructField(\"seller_email\", StringType()),\n",
    "    StructField(\"seller_country\", StringType()),\n",
    "    StructField(\"seller_postal_code\", StringType()),\n",
    "    \n",
    "    # Product fields\n",
    "    StructField(\"product_name\", StringType()),\n",
    "    StructField(\"product_category\", StringType()),\n",
    "    StructField(\"product_price\", DecimalType(10, 2)),  # Will map to PostgreSQL money\n",
    "    StructField(\"product_quantity\", IntegerType()),\n",
    "    \n",
    "    # Sale fields\n",
    "    StructField(\"sale_date\", DateType()),\n",
    "    StructField(\"sale_customer_id\", IntegerType()),\n",
    "    StructField(\"sale_seller_id\", IntegerType()),\n",
    "    StructField(\"sale_product_id\", IntegerType()),\n",
    "    StructField(\"sale_quantity\", IntegerType()),\n",
    "    StructField(\"sale_total_price\", DecimalType(10, 2)),  # PostgreSQL money\n",
    "    \n",
    "    # Store fields\n",
    "    StructField(\"store_name\", StringType()),\n",
    "    StructField(\"store_location\", StringType()),\n",
    "    StructField(\"store_city\", StringType()),\n",
    "    StructField(\"store_state\", StringType()),\n",
    "    StructField(\"store_country\", StringType()),\n",
    "    StructField(\"store_phone\", StringType()),\n",
    "    StructField(\"store_email\", StringType()),\n",
    "    \n",
    "    # Additional product details\n",
    "    StructField(\"pet_category\", StringType()),\n",
    "    StructField(\"product_weight\", FloatType()),\n",
    "    StructField(\"product_color\", StringType()),\n",
    "    StructField(\"product_size\", StringType()),\n",
    "    StructField(\"product_brand\", StringType()),\n",
    "    StructField(\"product_material\", StringType()),\n",
    "    StructField(\"product_description\", StringType()),\n",
    "    StructField(\"product_rating\", FloatType()),\n",
    "    StructField(\"product_reviews\", IntegerType()),\n",
    "    StructField(\"product_release_date\", DateType()),\n",
    "    StructField(\"product_expiry_date\", DateType()),\n",
    "    \n",
    "    # Supplier fields\n",
    "    StructField(\"supplier_name\", StringType()),\n",
    "    StructField(\"supplier_contact\", StringType()),\n",
    "    StructField(\"supplier_email\", StringType()),\n",
    "    StructField(\"supplier_phone\", StringType()),\n",
    "    StructField(\"supplier_address\", StringType()),\n",
    "    StructField(\"supplier_city\", StringType()),\n",
    "    StructField(\"supplier_country\", StringType())\n",
    "])"
   ]
  },
  {
   "cell_type": "code",
   "execution_count": 4,
   "id": "9bfeac4a-57af-4f05-a3bc-ef0cbc450b7d",
   "metadata": {},
   "outputs": [],
   "source": [
    "jdbc_url = \"jdbc:postgresql://postgres:5432/spark_db\"\n",
    "properties = {\n",
    "    \"user\": \"spark_user\",\n",
    "    \"password\": \"spark_password\",\n",
    "    \"driver\": \"org.postgresql.Driver\"\n",
    "}"
   ]
  },
  {
   "cell_type": "code",
   "execution_count": 5,
   "id": "86acdbba-0452-4f88-9b71-912d6b4dd59a",
   "metadata": {},
   "outputs": [],
   "source": [
    "data = spark.read.jdbc(url=jdbc_url, table=\"mock_data\", properties=properties)"
   ]
  },
  {
   "cell_type": "code",
   "execution_count": 6,
   "id": "1ea19fcb-9a7e-4e09-8661-e31c577f162e",
   "metadata": {},
   "outputs": [
    {
     "data": {
      "text/plain": [
       "StructType([StructField('id', IntegerType(), True), StructField('customer_first_name', StringType(), True), StructField('customer_last_name', StringType(), True), StructField('customer_age', IntegerType(), True), StructField('customer_email', StringType(), True), StructField('customer_country', StringType(), True), StructField('customer_postal_code', StringType(), True), StructField('customer_pet_type', StringType(), True), StructField('customer_pet_name', StringType(), True), StructField('customer_pet_breed', StringType(), True), StructField('seller_first_name', StringType(), True), StructField('seller_last_name', StringType(), True), StructField('seller_email', StringType(), True), StructField('seller_country', StringType(), True), StructField('seller_postal_code', StringType(), True), StructField('product_name', StringType(), True), StructField('product_category', StringType(), True), StructField('product_price', StringType(), True), StructField('product_quantity', IntegerType(), True), StructField('sale_date', DateType(), True), StructField('sale_customer_id', IntegerType(), True), StructField('sale_seller_id', IntegerType(), True), StructField('sale_product_id', IntegerType(), True), StructField('sale_quantity', IntegerType(), True), StructField('sale_total_price', StringType(), True), StructField('store_name', StringType(), True), StructField('store_location', StringType(), True), StructField('store_city', StringType(), True), StructField('store_state', StringType(), True), StructField('store_country', StringType(), True), StructField('store_phone', StringType(), True), StructField('store_email', StringType(), True), StructField('pet_category', StringType(), True), StructField('product_weight', FloatType(), True), StructField('product_color', StringType(), True), StructField('product_size', StringType(), True), StructField('product_brand', StringType(), True), StructField('product_material', StringType(), True), StructField('product_description', StringType(), True), StructField('product_rating', FloatType(), True), StructField('product_reviews', IntegerType(), True), StructField('product_release_date', DateType(), True), StructField('product_expiry_date', DateType(), True), StructField('supplier_name', StringType(), True), StructField('supplier_contact', StringType(), True), StructField('supplier_email', StringType(), True), StructField('supplier_phone', StringType(), True), StructField('supplier_address', StringType(), True), StructField('supplier_city', StringType(), True), StructField('supplier_country', StringType(), True)])"
      ]
     },
     "execution_count": 6,
     "metadata": {},
     "output_type": "execute_result"
    }
   ],
   "source": [
    "data.schema\n"
   ]
  },
  {
   "cell_type": "code",
   "execution_count": 7,
   "id": "40ab3e1c-44fc-4b7b-801a-71d9a0be2262",
   "metadata": {
    "scrolled": true
   },
   "outputs": [
    {
     "name": "stdout",
     "output_type": "stream",
     "text": [
      "+-----------------+-----------------+------------------+----------------+--------------------+-------------------+------------------+------------+--------------------+---+\n",
      "|customer_pet_type|customer_pet_name|customer_pet_breed|customer_country|customer_postal_code|customer_first_name|customer_last_name|customer_age|      customer_email| id|\n",
      "+-----------------+-----------------+------------------+----------------+--------------------+-------------------+------------------+------------+--------------------+---+\n",
      "|             bird|          Mitchel|           Siamese|     Philippines|                1106|              Aaren|            Eagers|          44| wjesson3r@patch.com|  1|\n",
      "|              cat|            Danit|           Siamese|            Iraq|                NULL|              Aaren|      Chipperfield|          42|jgiffordhf@wordpr...|  2|\n",
      "|             bird|        Konstanze|          Parakeet|           China|                NULL|              Aaren|           Adriano|          55|fdillistoneem@sym...|  3|\n",
      "|              dog|          Frankie|          Parakeet|    South Africa|                2661|              Aaron|           Biggins|          82|  fslinnjj@ifeng.com|  4|\n",
      "|             bird|            Biddy|           Siamese|           China|                NULL|                 Ab|         Denniston|          43|   fmixon76@cnet.com|  5|\n",
      "|              dog|            Angel|           Siamese|           Japan|            950-0862|            Abagael|           Kirvell|          39|mtuppenyds@comsen...|  6|\n",
      "|              dog|           Pancho|Labrador Retriever|           Yemen|                NULL|               Abba|         Mixworthy|          65|fgreatorexlp@thet...|  7|\n",
      "|              cat|            Eldon|           Siamese|  Czech Republic|              285 22|               Abbe|         Dallemore|          19|kmerrigani9@micro...|  8|\n",
      "|             bird|             Lola|          Parakeet|           China|                NULL|               Abbe|             D'Ugo|          33| pnaptinfz@yahoo.com|  9|\n",
      "|              dog|           Renell|          Parakeet|       Indonesia|                NULL|               Abbe|            Semens|          51|hrainsburykk@ustr...| 10|\n",
      "|              cat|             Lind|           Siamese|          France|         62304 CEDEX|              Abbey|           Snalham|          59|asoppitkk@arstech...| 11|\n",
      "|             bird|          Ardenia|          Parakeet|          Poland|              17-132|              Abbey|          Hellicar|          45|mcrimb7@marketwat...| 12|\n",
      "|             bird|           Adrian|Labrador Retriever|        Zimbabwe|                NULL|              Abbey|            Hebdon|          37|   bmanser3a@nih.gov| 13|\n",
      "|             bird|         Harmonie|           Siamese|  Czech Republic|              683 33|               Abbi|           Gossage|          65|cwadelindc@chrono...| 14|\n",
      "|              cat|          Dorothy|          Parakeet|          Canada|                 M9R|               Abbi|              Ades|          49|dshropsheir3a@abc...| 15|\n",
      "|              dog|          Geralda|Labrador Retriever|       Indonesia|                NULL|               Abbi|            Decaze|          82|   jfusterjg@soup.io| 16|\n",
      "|             bird|           Darryl|Labrador Retriever|           China|                NULL|              Abbie|             Eddie|          34|esargisona6@stori...| 17|\n",
      "|              cat|           Nowell|          Parakeet|     Afghanistan|                NULL|             Abbott|            Danser|          30|esmithiescu@yahoo...| 18|\n",
      "|              cat|             Reid|          Parakeet|       Guatemala|               13010|               Abby|         Longridge|          37|bannande5@yellowb...| 19|\n",
      "|              cat|         Freedman|          Parakeet|     Philippines|                5616|              Abbye|          Frearson|          40|bfreeburn4d@xing.com| 20|\n",
      "+-----------------+-----------------+------------------+----------------+--------------------+-------------------+------------------+------------+--------------------+---+\n",
      "only showing top 20 rows\n",
      "\n"
     ]
    }
   ],
   "source": [
    "customer = data.select(\n",
    "    'customer_pet_type',\n",
    "    'customer_pet_name',\n",
    "    'customer_pet_breed',\n",
    "    'customer_country',\n",
    "    'customer_postal_code',\n",
    "    'customer_first_name',\n",
    "    'customer_last_name',\n",
    "    'customer_age',\n",
    "    'customer_email'\n",
    ").distinct()\n",
    "\n",
    "window = Window.orderBy('customer_first_name')\n",
    "customer = customer.withColumn(\"id\", row_number().over(window))\n",
    "customer.show()"
   ]
  },
  {
   "cell_type": "code",
   "execution_count": 8,
   "id": "68f49ce4-2e14-46c9-a5ca-9e628ee01a45",
   "metadata": {},
   "outputs": [
    {
     "name": "stdout",
     "output_type": "stream",
     "text": [
      "+-----------------+----------------+--------------------+------------------+--------------------+---+\n",
      "|seller_first_name|seller_last_name|      seller_country|seller_postal_code|        seller_email| id|\n",
      "+-----------------+----------------+--------------------+------------------+--------------------+---+\n",
      "|           Aarika|        Brussell|           Indonesia|              NULL|abrussellad@time.com|  1|\n",
      "|            Aaron|        Hemphrey|             Iceland|               225|ahemphreym0@goodr...|  2|\n",
      "|            Aaron|         Sheerin|           Indonesia|              NULL|  asheerinqc@mit.edu|  3|\n",
      "|               Ab|          Copsey|         Philippines|              4217|   acopseyns@mail.ru|  4|\n",
      "|          Abagael|         Charley|       New Caledonia|             98828| acharleyh3@imdb.com|  5|\n",
      "|          Abagael|       McCorkell|                Peru|              NULL|amccorkellq3@adob...|  6|\n",
      "|          Abagael|        Michurin|               China|              NULL|amichurinc3@linke...|  7|\n",
      "|          Abagail|         Hannaby|              Russia|            632147|ahannaby77@newyor...|  8|\n",
      "|          Abagail|         Kinahan|           Indonesia|              NULL|akinahanaa@histat...|  9|\n",
      "|             Abbe|       Cranstoun|         Philippines|              8609|acranstounam@abc....| 10|\n",
      "|             Abbe|          Armell|               China|              NULL|aarmell6q@nbcnews...| 11|\n",
      "|             Abbe|         Ashdown|           Indonesia|              NULL|aashdownjy@toplis...| 12|\n",
      "|            Abbey|         Cranham|              Sweden|            668 92|acranhamjc@hugedo...| 13|\n",
      "|            Abbey|          Antrim|Palestinian Terri...|              NULL| aantrimrf@ameblo.jp| 14|\n",
      "|             Abbi|           Patey|              Israel|              NULL|    apatey2a@pbs.org| 15|\n",
      "|            Abbie|         Brewett|             Austria|              8453|  abrewett7k@mit.edu| 16|\n",
      "|            Abbie|       Gainsford|       United States|             23285|againsfordh6@ebay...| 17|\n",
      "|            Abbot|         Rableau|         Philippines|              1117|arableauj2@reddit...| 18|\n",
      "|           Abbott|            Wake|              Poland|            42-286|awake8w@whitehous...| 19|\n",
      "|           Abbott|        Caulwell|                Peru|              NULL|acaulwell2w@simpl...| 20|\n",
      "+-----------------+----------------+--------------------+------------------+--------------------+---+\n",
      "only showing top 20 rows\n",
      "\n"
     ]
    }
   ],
   "source": [
    "seller = data.select(\n",
    "    'seller_first_name',\n",
    "    'seller_last_name',\n",
    "    'seller_country',\n",
    "    'seller_postal_code',\n",
    "    'seller_email'\n",
    ").distinct()\n",
    "\n",
    "window = Window.orderBy('seller_first_name')\n",
    "seller = seller.withColumn(\"id\", row_number().over(window))\n",
    "seller.show()"
   ]
  },
  {
   "cell_type": "code",
   "execution_count": 9,
   "id": "48dbacec-8227-490b-9ffe-351293425d28",
   "metadata": {},
   "outputs": [
    {
     "name": "stdout",
     "output_type": "stream",
     "text": [
      "+--------------+--------------+-----------+--------------+------------+--------------------+----------+---+\n",
      "|store_location|    store_city|store_state| store_country| store_phone|         store_email|store_name| id|\n",
      "+--------------+--------------+-----------+--------------+------------+--------------------+----------+---+\n",
      "|      Suite 60|        Kujung|       NULL|     Indonesia|159-258-9340|  lbeasley1v@mit.edu|     Abata|  1|\n",
      "|     Room 1590|       Floirac|         97|         China|953-151-1747|rgowthorperg@apac...|     Abata|  2|\n",
      "|   PO Box 7914|    Skellefteå|         AC|         China|591-818-2372|byourellme@youtub...|     Abata|  3|\n",
      "|    14th Floor|      Norsborg|         AB|      Portugal|155-350-7386|shanshaw8h@sfgate...|     Abata|  4|\n",
      "|       Apt 814|     Terpinnya|       NULL|     Indonesia|782-681-7074|apicfordkr@cbsnew...|     Abata|  5|\n",
      "|     9th Floor|        Angers|         B5|Czech Republic|563-662-9741|gelementl6@soundc...|     Abata|  6|\n",
      "|      Suite 88|       Houston|         TX|       Tunisia|713-307-1903|cnapolionef2@slid...|     Abata|  7|\n",
      "|    18th Floor|        Cikupa|       NULL|      Portugal|940-737-0532|tpitkeathlykt@goo...|     Abata|  8|\n",
      "|  PO Box 12980|Timiryazevskiy|       NULL|        Greece|707-559-3117|dmackellar7e@harv...|     Abata|  9|\n",
      "|    14th Floor|  Batasan Bata|       NULL|         China|996-610-3702|pesbyg4@guardian....|     Abata| 10|\n",
      "|    11th Floor|        Ibiúna|       NULL|    Montenegro|660-676-5491|   cchevisp5@npr.org|     Abata| 11|\n",
      "|     Room 1757|        Sal’sk|       NULL|Czech Republic|817-580-4134|lbeaulieuiu@bosto...|     Abata| 12|\n",
      "|     Room 1964|   Serra Negra|       NULL|      Portugal|633-471-6467|  lzimekc7@issuu.com|     Abata| 13|\n",
      "|      Apt 1910|      Rancagua|       NULL|     Indonesia|740-270-7530|ystrothern0@yello...|     Abata| 14|\n",
      "|  PO Box 18531|       Chŏngju|       NULL|     Indonesia|811-193-1688|dnorthridge2x@pur...|     Abata| 15|\n",
      "|       Room 28|  Kolonia Town|       NULL|        Brazil|825-820-5234|klaffranconif4@na...|     Abata| 16|\n",
      "|   PO Box 7439|Valvedditturai|       NULL|    Bangladesh|240-398-5953|gaguirredq@bibleg...|     Abata| 17|\n",
      "|      Suite 97|      Huangmao|       NULL|      Thailand|253-994-4739|tcallinanae@comca...|     Abata| 18|\n",
      "|      Suite 12|       Gryfino|       NULL|        Poland|910-369-5146|bhalburtoni@phoca.cz|     Abata| 19|\n",
      "|       Apt 239|        Moreno|       NULL|        Canada|645-221-2408|   atebbetpq@mac.com|     Abata| 20|\n",
      "+--------------+--------------+-----------+--------------+------------+--------------------+----------+---+\n",
      "only showing top 20 rows\n",
      "\n"
     ]
    }
   ],
   "source": [
    "store = data.select(\n",
    "    'store_location',\n",
    "    'store_city',\n",
    "    'store_state',\n",
    "    'store_country',\n",
    "    'store_phone',\n",
    "    'store_email',\n",
    "    'store_name',\n",
    ").distinct()\n",
    "\n",
    "window = Window.orderBy('store_name')\n",
    "store = store.withColumn(\"id\", row_number().over(window))\n",
    "store.show()"
   ]
  },
  {
   "cell_type": "code",
   "execution_count": 10,
   "id": "bdae4e5c-69b2-4377-9934-366f996c4ff0",
   "metadata": {},
   "outputs": [
    {
     "name": "stdout",
     "output_type": "stream",
     "text": [
      "+--------------+-------------+------------+----------------+--------------------+--------------+---------------+-------------+------------+----------------+-------------+----------------+--------------------+-------------------+---+\n",
      "|product_weight|product_color|product_size|product_material| product_description|product_rating|product_reviews|product_brand|product_name|product_category|product_price|product_quantity|product_release_date|product_expiry_date| id|\n",
      "+--------------+-------------+------------+----------------+--------------------+--------------+---------------+-------------+------------+----------------+-------------+----------------+--------------------+-------------------+---+\n",
      "|          49.6|         Pink|      Medium|          Rubber|Integer tincidunt...|           3.0|            740|     Innotype|   Bird Cage|             Toy|        91.56|              86|          2016-12-26|         2023-10-21|  1|\n",
      "|          11.3|       Indigo|       Small|      Plexiglass|Aenean lectus. Pe...|           2.1|             45|      Edgeify|   Bird Cage|             Toy|        18.79|              32|          2021-03-26|         2023-10-30|  2|\n",
      "|          15.4|          Red|      Medium|           Brass|Maecenas leo odio...|           2.5|            101|        Fadeo|   Bird Cage|             Toy|        70.37|              79|          2010-02-12|         2029-11-01|  3|\n",
      "|          41.2|         Pink|      Medium|        Aluminum|Maecenas leo odio...|           3.7|            654|       Oyoloo|   Bird Cage|            Food|        17.88|              90|          2017-08-27|         2024-06-06|  4|\n",
      "|          37.7|        Khaki|       Small|           Steel|Cras mi pede, mal...|           1.4|            634|        Jaloo|   Bird Cage|            Cage|        45.34|             100|          2021-12-08|         2025-09-19|  5|\n",
      "|          37.0|   Aquamarine|       Small|        Aluminum|In quis justo. Ma...|           3.1|            940|  Shufflester|   Bird Cage|            Cage|        36.26|              88|          2017-06-21|         2023-01-31|  6|\n",
      "|           1.2|         Mauv|       Small|           Brass|Maecenas leo odio...|           1.5|            223|        Miboo|   Bird Cage|            Food|        69.24|               9|          2022-04-08|         2025-06-19|  7|\n",
      "|          35.8|    Goldenrod|       Large|           Brass|Fusce posuere fel...|           1.4|            191|      Youopia|   Bird Cage|            Food|        55.92|              53|          2010-08-17|         2025-02-19|  8|\n",
      "|          45.0|         Teal|       Small|         Granite|Curabitur gravida...|           4.9|            886|        Gevee|   Bird Cage|            Food|        36.39|              24|          2015-12-09|         2029-09-30|  9|\n",
      "|           6.0|   Aquamarine|      Medium|            Wood|Quisque porta vol...|           3.2|             10|        Quinu|   Bird Cage|            Cage|         98.4|              49|          2011-05-28|         2024-05-05| 10|\n",
      "|           4.1|         Pink|       Small|         Granite|Nulla ut erat id ...|           1.6|            631| Dazzlesphere|   Bird Cage|             Toy|        51.29|              96|          2022-03-03|         2025-12-08| 11|\n",
      "|          20.0|       Violet|       Large|         Granite|Cras mi pede, mal...|           3.4|            791|        Aibox|   Bird Cage|            Cage|          3.8|              29|          2013-02-04|         2029-02-12| 12|\n",
      "|          18.4|       Purple|      Medium|          Rubber|Cras mi pede, mal...|           1.5|            631|   Brainverse|   Bird Cage|            Food|         6.56|              96|          2011-02-17|         2030-12-27| 13|\n",
      "|          37.5|         Mauv|       Small|           Stone|Mauris enim leo, ...|           3.2|            502|      Youspan|   Bird Cage|             Toy|        20.44|               1|          2020-05-25|         2029-09-22| 14|\n",
      "|          32.1|       Orange|       Large|           Brass|In hac habitasse ...|           4.9|            937|     Livefish|   Bird Cage|            Cage|        42.64|              38|          2013-05-17|         2030-02-19| 15|\n",
      "|          11.8|      Crimson|       Large|           Glass|Integer ac leo. P...|           2.3|            574|        Vidoo|   Bird Cage|             Toy|        99.49|              81|          2011-06-21|         2023-02-25| 16|\n",
      "|          20.7|   Aquamarine|       Small|           Brass|Mauris enim leo, ...|           2.9|            436|      Kwimbee|   Bird Cage|            Cage|        84.59|              67|          2019-07-08|         2026-10-25| 17|\n",
      "|          42.4|      Crimson|       Large|           Glass|Nulla ut erat id ...|           2.1|            157|         Omba|   Bird Cage|            Cage|         65.0|              77|          2018-05-19|         2025-07-23| 18|\n",
      "|          19.3|       Violet|       Large|           Vinyl|Suspendisse poten...|           1.6|            180|       Skibox|   Bird Cage|            Cage|        43.48|              58|          2018-11-25|         2029-06-14| 19|\n",
      "|          30.3|          Red|       Large|        Aluminum|Suspendisse poten...|           3.1|             29|      Nlounge|   Bird Cage|            Cage|        97.61|               9|          2015-07-25|         2025-01-01| 20|\n",
      "+--------------+-------------+------------+----------------+--------------------+--------------+---------------+-------------+------------+----------------+-------------+----------------+--------------------+-------------------+---+\n",
      "only showing top 20 rows\n",
      "\n"
     ]
    }
   ],
   "source": [
    "product = data.select(\n",
    "    'product_weight',\n",
    "    'product_color',\n",
    "    'product_size',\n",
    "    'product_material',\n",
    "    'product_description',\n",
    "    'product_rating',\n",
    "    'product_reviews',\n",
    "    'product_brand',\n",
    "    'product_name',\n",
    "    'product_category',\n",
    "    'product_price',\n",
    "    'product_quantity',\n",
    "    'product_release_date',\n",
    "    'product_expiry_date',\n",
    ").distinct()\n",
    "\n",
    "window = Window.orderBy('product_name')\n",
    "product = product.withColumn(\"id\", row_number().over(window))\n",
    "product.show()"
   ]
  },
  {
   "cell_type": "code",
   "execution_count": 75,
   "id": "40c72a51-a477-4cca-8535-76834097cf32",
   "metadata": {},
   "outputs": [
    {
     "name": "stdout",
     "output_type": "stream",
     "text": [
      "+-------------+----------------+----------+----------------+--------------+---------------+---+\n",
      "|sale_quantity|sale_total_price| sale_date|sale_customer_id|sale_seller_id|sale_product_id| id|\n",
      "+-------------+----------------+----------+----------------+--------------+---------------+---+\n",
      "|            3|          482.62|2021-01-01|             274|           274|            274|  1|\n",
      "|            9|          251.54|2021-01-01|             696|           696|            696|  2|\n",
      "|            7|          132.83|2021-01-01|             679|           679|            679|  3|\n",
      "|            9|          402.83|2021-01-01|             513|           513|            513|  4|\n",
      "|            6|          160.78|2021-01-01|             603|           603|            603|  5|\n",
      "|            5|           79.85|2021-01-01|             635|           635|            635|  6|\n",
      "|            9|          241.93|2021-01-01|             205|           205|            205|  7|\n",
      "|            5|          488.38|2021-01-01|             727|           727|            727|  8|\n",
      "|            5|           21.12|2021-01-01|             985|           985|            985|  9|\n",
      "|            1|            17.5|2021-01-01|             125|           125|            125| 10|\n",
      "|            9|          251.06|2021-01-01|             433|           433|            433| 11|\n",
      "|            7|           39.65|2021-01-01|             104|           104|            104| 12|\n",
      "|            6|          209.33|2021-01-01|             413|           413|            413| 13|\n",
      "|            5|           65.36|2021-01-01|             634|           634|            634| 14|\n",
      "|            2|          442.01|2021-01-01|             243|           243|            243| 15|\n",
      "|            5|          294.56|2021-01-01|             109|           109|            109| 16|\n",
      "|           10|           53.71|2021-01-01|             130|           130|            130| 17|\n",
      "|            4|           42.95|2021-01-01|             671|           671|            671| 18|\n",
      "|            7|          239.36|2021-01-01|             255|           255|            255| 19|\n",
      "|            8|          294.53|2021-01-01|              55|            55|             55| 20|\n",
      "+-------------+----------------+----------+----------------+--------------+---------------+---+\n",
      "only showing top 20 rows\n",
      "\n"
     ]
    }
   ],
   "source": [
    "sale = data.select(\n",
    "    'sale_quantity',\n",
    "    'sale_total_price',\n",
    "    'sale_date',\n",
    "    'sale_customer_id',\n",
    "    'sale_seller_id',\n",
    "    'sale_product_id',\n",
    ").distinct()\n",
    "\n",
    "sale = sale.withColumn(\"sale_total_price\", regexp_replace(\"sale_total_price\", \"\\\\$\", \"\").cast(\"double\"))\n",
    "\n",
    "\n",
    "window = Window.orderBy('sale_date')\n",
    "sale = sale.withColumn(\"id\", row_number().over(window))\n",
    "sale.show()"
   ]
  },
  {
   "cell_type": "code",
   "execution_count": 67,
   "id": "f0d5f85c-7c6b-45e9-be4d-8fc1f08ee182",
   "metadata": {},
   "outputs": [
    {
     "name": "stdout",
     "output_type": "stream",
     "text": [
      "+-------------+------------------+--------------------+--------------+----------------+--------------+----------------+---+\n",
      "|supplier_name|  supplier_contact|      supplier_email|supplier_phone|supplier_address| supplier_city|supplier_country| id|\n",
      "+-------------+------------------+--------------------+--------------+----------------+--------------+----------------+---+\n",
      "|        Abata|      Zed Maxweell|zmaxweellk1@stumb...|  973-673-7617|    PO Box 40605|     Hai Riêng|         Ukraine|  1|\n",
      "|        Abata|   Farris Blanking|fblankingd8@googl...|  530-854-6864|        Suite 51|       Jindong|         Armenia|  2|\n",
      "|        Abata|       Ryan Vorley|   rvorleycj@bbb.org|  532-682-8788|        Room 921|   Solidaridad|          Poland|  3|\n",
      "|        Abata|     Vaughan Mogra|vmograf9@moonfrui...|  188-774-8493|         Apt 646|    Notre Dame|  Czech Republic|  4|\n",
      "|        Abata|       Rex Wilshaw|   rwilshaw6w@ed.gov|  252-226-8879|        Suite 80|        Nianba|    Saudi Arabia|  5|\n",
      "|        Abata|      Lexie Whyard|   lwhyardm7@icio.us|  854-916-8983|        Room 208|Biritiba Mirim|         Ukraine|  6|\n",
      "|        Abata|     Katinka Dixie|kdixie75@sitemete...|  233-648-4417|     PO Box 2160|        London|           Nepal|  7|\n",
      "|        Abata|Branden Beverstock|bbeverstockpe@wea...|  719-212-1871|    PO Box 60865|      Xidianzi|          Poland|  8|\n",
      "|        Abata|   Estel Lindeberg|elindebergb0@dago...|  628-923-3504|        Apt 1124|       Pingyin|           China|  9|\n",
      "|        Abata|    Jeanelle Riley|   jrileydd@blog.com|  848-509-2146|       3rd Floor|     Citeureup|          Poland| 10|\n",
      "|        Abata|      Ogden Neaves|oneaves17@amazon....|  624-102-9619|      18th Floor|        Avelar|          Brazil| 11|\n",
      "|        Abata|     Isacco Rojahn| irojahn6d@yahoo.com|  880-214-2355|        Suite 94|        Yuwang|        Colombia| 12|\n",
      "|        Abata|Nickolai Scurfield|nscurfieldg3@yale...|  307-965-4057|      12th Floor|    Tembilahan|           China| 13|\n",
      "|        Abata|       Max Manilow|mmanilow6r@nymag.com|  757-707-9092|       2nd Floor|  Newport News|          Brazil| 14|\n",
      "|        Abata|       Ev Slocombe|eslocombef8@bbc.c...|  417-902-6011|        Suite 87|        Izlake|  Cayman Islands| 15|\n",
      "|        Abata|     Zorina Orable|  zorable6y@etsy.com|  238-504-3947|       4th Floor|          Chor|    South Africa| 16|\n",
      "|        Abata|       Clint Bovey|  cbovey67@wufoo.com|  566-551-4781|         Apt 932|       Qesarya|     Netherlands| 17|\n",
      "|        Abata|   Micki McKinless|mmckinlessg@brave...|  495-165-9749|         Apt 282|       Cikiruh|    South Africa| 18|\n",
      "|        Abata|    Doreen Pimlott|dpimlott3c@ycombi...|  166-129-1393|        Suite 56|       Timóteo|      Kazakhstan| 19|\n",
      "|        Abata|       Jamal Larby|    jlarbyiv@msn.com|  158-561-9156|         Suite 4|        Danané|          Russia| 20|\n",
      "+-------------+------------------+--------------------+--------------+----------------+--------------+----------------+---+\n",
      "only showing top 20 rows\n",
      "\n"
     ]
    }
   ],
   "source": [
    "supplier = data.select(\n",
    "    'supplier_name',\n",
    "    'supplier_contact',\n",
    "    'supplier_email',\n",
    "    'supplier_phone',\n",
    "    'supplier_address',\n",
    "    'supplier_city',\n",
    "    'supplier_country'\n",
    ").distinct()\n",
    "\n",
    "window = Window.orderBy('supplier_name')\n",
    "supplier = supplier.withColumn(\"id\", row_number().over(window))\n",
    "supplier.show()"
   ]
  },
  {
   "cell_type": "code",
   "execution_count": 18,
   "id": "09923732-eea3-46aa-b283-66f554d7d0b4",
   "metadata": {},
   "outputs": [
    {
     "name": "stdout",
     "output_type": "stream",
     "text": [
      "+---+-----------+---------+--------+----------+-------+-----------+\n",
      "| id|customer_id|seller_id|store_id|product_id|sale_id|supplier_id|\n",
      "+---+-----------+---------+--------+----------+-------+-----------+\n",
      "|  8|       6229|     NULL|    9218|      3155|   1749|       7702|\n",
      "| 12|       6451|     1165|    NULL|      2614|   5253|       7399|\n",
      "|  5|       NULL|     NULL|    NULL|      2572|    957|       4209|\n",
      "| 21|       NULL|     NULL|    NULL|       996|   7730|       4233|\n",
      "| 11|       8827|     3014|    4489|      8142|   8368|       4447|\n",
      "| 16|       7918|     NULL|    4386|      6916|   3531|       1599|\n",
      "|  4|       8488|     NULL|    NULL|      9043|   6085|       3454|\n",
      "| 10|       5132|     NULL|    NULL|      8163|    578|       4371|\n",
      "|  2|       4284|     1508|    NULL|      3440|   8759|       4512|\n",
      "|  6|       3675|     2817|    NULL|      2174|   9647|       3235|\n",
      "| 14|       NULL|     NULL|    NULL|      2139|   3412|       5923|\n",
      "| 13|       3008|     5791|     211|      7063|    978|       8349|\n",
      "| 17|       9419|     8169|    5443|       394|   6370|       9275|\n",
      "| 18|        867|     NULL|    NULL|      2307|   2223|       5532|\n",
      "|  7|       1258|     NULL|    NULL|      5402|   5641|       2406|\n",
      "| 19|       8950|     NULL|    NULL|      9180|   1501|       2702|\n",
      "|  1|       NULL|     NULL|    NULL|      9555|   3641|       7297|\n",
      "|  3|       3440|     NULL|    NULL|       721|   9327|       5590|\n",
      "| 15|       2432|     6400|    8638|      4949|   3093|       1523|\n",
      "|  9|       NULL|     6654|    NULL|      7861|   4393|       1475|\n",
      "+---+-----------+---------+--------+----------+-------+-----------+\n",
      "only showing top 20 rows\n",
      "\n"
     ]
    }
   ],
   "source": [
    "fact = data.join(customer,\n",
    "    on=[\n",
    "        data.customer_pet_type == customer.customer_pet_type,\n",
    "        data.customer_pet_name == customer.customer_pet_name,\n",
    "        data.customer_pet_breed == customer.customer_pet_breed,\n",
    "        data.customer_country == customer.customer_country,\n",
    "        data.customer_postal_code == customer.customer_postal_code,\n",
    "        data.customer_first_name == customer.customer_first_name,\n",
    "        data.customer_last_name == customer.customer_last_name,\n",
    "        data.customer_age == customer.customer_age,\n",
    "        data.customer_email == customer.customer_email\n",
    "    ],\n",
    "    how = 'left'\n",
    ").join(seller,\n",
    "      on = [\n",
    "        data.seller_first_name == seller.seller_first_name,\n",
    "        data.seller_last_name == seller.seller_last_name,\n",
    "        data.seller_country == seller.seller_country,\n",
    "        data.seller_postal_code == seller.seller_postal_code,\n",
    "        data.seller_email == seller.seller_email\n",
    "      ],\n",
    "    how = 'left'\n",
    ").join(store,\n",
    "      on = [\n",
    "        data.store_location == store.store_location,\n",
    "        data.store_city == store.store_city,\n",
    "        data.store_state == store.store_state,\n",
    "        data.store_country == store.store_country,\n",
    "        data.store_phone == store.store_phone,\n",
    "        data.store_email == store.store_email,\n",
    "        data.store_name == store.store_name\n",
    "      ],\n",
    "    how = 'left'\n",
    ").join(product,\n",
    "      on = [\n",
    "        data.product_weight == product.product_weight,\n",
    "        data.product_color == product.product_color,\n",
    "        data.product_size == product.product_size,\n",
    "        data.product_material == product.product_material,\n",
    "        data.product_description == product.product_description,\n",
    "        data.product_rating == product.product_rating,\n",
    "        data.product_reviews == product.product_reviews,\n",
    "        data.product_brand == product.product_brand,\n",
    "        data.product_name == product.product_name,\n",
    "        data.product_category == product.product_category,\n",
    "        data.product_quantity == product.product_quantity,\n",
    "        data.product_release_date == product.product_release_date,\n",
    "        data.product_reviews == product.product_reviews,\n",
    "        data.product_expiry_date == product.product_expiry_date,\n",
    "      ],\n",
    "    how = 'left'\n",
    ").join(sale,\n",
    "      on = [\n",
    "        data.sale_quantity == sale.sale_quantity,\n",
    "        data.sale_total_price == sale.sale_total_price,\n",
    "        data.sale_date == sale.sale_date,\n",
    "        data.sale_customer_id == sale.sale_customer_id,\n",
    "        data.sale_seller_id == sale.sale_seller_id,\n",
    "        data.sale_product_id == sale.sale_product_id\n",
    "      ],\n",
    "    how = 'left'\n",
    ").join(supplier,\n",
    "      on = [\n",
    "        data.supplier_name == supplier.supplier_name,\n",
    "        data.supplier_contact == supplier.supplier_contact,\n",
    "        data.supplier_email == supplier.supplier_email,\n",
    "        data.supplier_phone == supplier.supplier_phone,\n",
    "        data.supplier_address == supplier.supplier_address,\n",
    "        data.supplier_city == supplier.supplier_city,\n",
    "        data.supplier_country == supplier.supplier_country \n",
    "      ],\n",
    "    how = 'left'\n",
    ").select(\n",
    "    data['id'],\n",
    "    customer['id'].alias('customer_id'),\n",
    "    seller['id'].alias('seller_id'),\n",
    "    store['id'].alias('store_id'),\n",
    "    product['id'].alias('product_id'),\n",
    "    sale['id'].alias('sale_id'),\n",
    "    supplier['id'].alias('supplier_id')\n",
    ")\n",
    "fact.show()\n"
   ]
  },
  {
   "cell_type": "code",
   "execution_count": 20,
   "id": "4295107b-57dd-49fb-b647-b127100c5799",
   "metadata": {},
   "outputs": [
    {
     "data": {
      "text/plain": [
       "10000"
      ]
     },
     "execution_count": 20,
     "metadata": {},
     "output_type": "execute_result"
    }
   ],
   "source": [
    "fact.count()"
   ]
  },
  {
   "cell_type": "code",
   "execution_count": 57,
   "id": "e6492af4-f55e-4dfc-b2d6-31f1bf663966",
   "metadata": {},
   "outputs": [],
   "source": []
  },
  {
   "cell_type": "code",
   "execution_count": 21,
   "id": "dd180fa4-4a5d-434e-87a7-3712213ccbbd",
   "metadata": {},
   "outputs": [],
   "source": [
    "customer.write.jdbc(url=jdbc_url, table=\"customer\", properties=properties)\n",
    "seller.write.jdbc(url=jdbc_url, table=\"seller\", properties=properties)\n",
    "store.write.jdbc(url=jdbc_url, table=\"store\", properties=properties)\n",
    "product.write.jdbc(url=jdbc_url, table=\"product\", properties=properties)\n",
    "sale.write.jdbc(url=jdbc_url, table=\"sale\", properties=properties)\n",
    "supplier.write.jdbc(url=jdbc_url, table=\"supplier\", properties=properties)\n",
    "fact.write.jdbc(url=jdbc_url, table=\"fact\", properties=properties)"
   ]
  },
  {
   "cell_type": "code",
   "execution_count": 79,
   "id": "7ba4e46d-88eb-4c68-847f-d9128de1c6c1",
   "metadata": {},
   "outputs": [
    {
     "name": "stdout",
     "output_type": "stream",
     "text": [
      "StructType([StructField('sale_quantity', IntegerType(), True), StructField('sale_total_price', DoubleType(), True), StructField('sale_date', DateType(), True), StructField('sale_customer_id', IntegerType(), True), StructField('sale_seller_id', IntegerType(), True), StructField('sale_product_id', IntegerType(), True), StructField('id', IntegerType(), False)])\n"
     ]
    }
   ],
   "source": [
    "print(sale.schema)"
   ]
  },
  {
   "cell_type": "code",
   "execution_count": 103,
   "id": "6b930527-fed7-4083-92ca-6e1e0af7b52f",
   "metadata": {},
   "outputs": [
    {
     "name": "stdout",
     "output_type": "stream",
     "text": [
      "+----------+-------------+---------------------+--------------------+-------------------+\n",
      "|product_id|quantity sold|sum(sale_total_price)|sum(product_reviews)|avg(product_rating)|\n",
      "+----------+-------------+---------------------+--------------------+-------------------+\n",
      "|        83|           10|                49.88|                 730|  4.199999809265137|\n",
      "|       134|           10|               327.41|                 642| 2.4000000953674316|\n",
      "|        85|           10|               184.99|                 689|                3.5|\n",
      "|        42|           10|                42.38|                 142|  4.599999904632568|\n",
      "|        95|           10|               353.07|                 669|  3.299999952316284|\n",
      "|        56|           10|               376.52|                 584|                1.5|\n",
      "|       100|           10|                40.74|                 435| 2.9000000953674316|\n",
      "|        68|           10|               341.06|                 740|  4.599999904632568|\n",
      "|       102|           10|               209.79|                 147|  3.799999952316284|\n",
      "|       106|           10|               375.92|                 761| 1.2000000476837158|\n",
      "+----------+-------------+---------------------+--------------------+-------------------+\n",
      "\n"
     ]
    }
   ],
   "source": [
    "product_report = (\n",
    "    fact.join(product, on = [fact.product_id == product.id]).join(sale, on = [fact.sale_id == sale.id])\n",
    "    .groupBy(\"product_id\")\n",
    "    .agg(\n",
    "        (count(col('product_id')) * sum(col('sale_quantity'))).alias(\"quantity sold\"),\n",
    "        sum(col(\"sale_total_price\")),\n",
    "        sum(col('product_reviews')),\n",
    "        avg(col('product_rating'))\n",
    "    ).orderBy(desc('quantity sold')).limit(10)\n",
    ")\n",
    "product_report.show()"
   ]
  },
  {
   "cell_type": "code",
   "execution_count": 119,
   "id": "21e5bf29-23b0-4b8c-b566-ce912635606a",
   "metadata": {},
   "outputs": [
    {
     "name": "stdout",
     "output_type": "stream",
     "text": [
      "+-----------+----------------+-----------+-------------+\n",
      "|customer_id|customer_country|total_spent|average_check|\n",
      "+-----------+----------------+-----------+-------------+\n",
      "|       4363|        Portugal|      499.8|        499.8|\n",
      "|       5786|          Poland|     499.73|       499.73|\n",
      "|       4716|          Russia|     499.69|       499.69|\n",
      "|       7202|          Mexico|     499.62|       499.62|\n",
      "|       3242|     Philippines|     499.58|       499.58|\n",
      "|        483|          Russia|     499.42|       499.42|\n",
      "|       7124|          Russia|     499.29|       499.29|\n",
      "|       6081|     Philippines|     499.24|       499.24|\n",
      "|       3326|        Portugal|     499.21|       499.21|\n",
      "|       5805|           Italy|      499.2|        499.2|\n",
      "|       5964|          Poland|     499.09|       499.09|\n",
      "|       7409|        Portugal|     498.86|       498.86|\n",
      "|       4075|        Colombia|     498.65|       498.65|\n",
      "|        316|           Japan|     498.56|       498.56|\n",
      "|       6382|     Philippines|      498.5|        498.5|\n",
      "|       5855|        Slovenia|     498.43|       498.43|\n",
      "|       5710|          Russia|     498.42|       498.42|\n",
      "|       6446|          Russia|     498.38|       498.38|\n",
      "|        165|           Malta|     498.37|       498.37|\n",
      "|       1651|           Spain|     498.26|       498.26|\n",
      "+-----------+----------------+-----------+-------------+\n",
      "only showing top 20 rows\n",
      "\n"
     ]
    }
   ],
   "source": [
    "customer_report = (\n",
    "    fact.join(customer, fact.customer_id == customer.id)\n",
    "    .join(sale, fact.sale_id == sale.id)\n",
    "    .groupBy(\"customer_id\", \"customer_country\")\n",
    "    .agg(\n",
    "        sum(\"sale_total_price\").alias(\"total_spent\"),\n",
    "        (sum(\"sale_total_price\") / count(\"sale_id\")).alias(\"average_check\")\n",
    "    )\n",
    "    .orderBy(desc(\"total_spent\"))\n",
    ")\n",
    "customer_report.show()"
   ]
  },
  {
   "cell_type": "code",
   "execution_count": 115,
   "id": "4a31546e-3295-4127-a4d1-d549c9d169d1",
   "metadata": {},
   "outputs": [
    {
     "ename": "AnalysisException",
     "evalue": "[UNRESOLVED_COLUMN.WITH_SUGGESTION] A column or function parameter with name `sale` cannot be resolved. Did you mean one of the following? [`id`, `id`, `id`, `sale_id`, `sale_date`].;\n'Aggregate ['sale], ['sale, sum(sale_total_price#8202) AS check#17089, avg(sale_total_price#8202) AS avg(sale_total_price)#17091]\n+- Join Inner, (sale_id#4370 = id#8210)\n   :- Join Inner, (customer_id#4366 = id#110)\n   :  :- Project [id#0, id#110 AS customer_id#4366, id#168 AS seller_id#4367, id#208 AS store_id#4368, id#265 AS product_id#4369, id#349 AS sale_id#4370, id#394 AS supplier_id#4371]\n   :  :  +- Join LeftOuter, (((((((supplier_name#43 = supplier_name#4151) AND (supplier_contact#44 = supplier_contact#4152)) AND (supplier_email#45 = supplier_email#4153)) AND (supplier_phone#46 = supplier_phone#4154)) AND (supplier_address#47 = supplier_address#4155)) AND (supplier_city#48 = supplier_city#4156)) AND (supplier_country#49 = supplier_country#4157))\n   :  :     :- Join LeftOuter, ((((((sale_quantity#23 = sale_quantity#3889) AND (sale_total_price#24 = sale_total_price#3890)) AND (sale_date#19 = sale_date#3885)) AND (sale_customer_id#20 = sale_customer_id#3886)) AND (sale_seller_id#21 = sale_seller_id#3887)) AND (sale_product_id#22 = sale_product_id#3888))\n   :  :     :  :- Join LeftOuter, ((((((((((((((product_weight#33 = product_weight#3671) AND (product_color#34 = product_color#3672)) AND (product_size#35 = product_size#3673)) AND (product_material#37 = product_material#3675)) AND (product_description#38 = product_description#3676)) AND (product_rating#39 = product_rating#3677)) AND (product_reviews#40 = product_reviews#3678)) AND (product_brand#36 = product_brand#3674)) AND (product_name#15 = product_name#3653)) AND (product_category#16 = product_category#3654)) AND (product_quantity#18 = product_quantity#3656)) AND (product_release_date#41 = product_release_date#3679)) AND (product_reviews#40 = product_reviews#3678)) AND (product_expiry_date#42 = product_expiry_date#3680))\n   :  :     :  :  :- Join LeftOuter, (((((((store_location#26 = store_location#3466) AND (store_city#27 = store_city#3467)) AND (store_state#28 = store_state#3468)) AND (store_country#29 = store_country#3469)) AND (store_phone#30 = store_phone#3470)) AND (store_email#31 = store_email#3471)) AND (store_name#25 = store_name#3465))\n   :  :     :  :  :  :- Join LeftOuter, (((((seller_first_name#10 = seller_first_name#3268) AND (seller_last_name#11 = seller_last_name#3269)) AND (seller_country#13 = seller_country#3271)) AND (seller_postal_code#14 = seller_postal_code#3272)) AND (seller_email#12 = seller_email#3270))\n   :  :     :  :  :  :  :- Join LeftOuter, (((((((((customer_pet_type#7 = customer_pet_type#3095) AND (customer_pet_name#8 = customer_pet_name#3096)) AND (customer_pet_breed#9 = customer_pet_breed#3097)) AND (customer_country#5 = customer_country#3093)) AND (customer_postal_code#6 = customer_postal_code#3094)) AND (customer_first_name#1 = customer_first_name#3089)) AND (customer_last_name#2 = customer_last_name#3090)) AND (customer_age#3 = customer_age#3091)) AND (customer_email#4 = customer_email#3092))\n   :  :     :  :  :  :  :  :- Relation [id#0,customer_first_name#1,customer_last_name#2,customer_age#3,customer_email#4,customer_country#5,customer_postal_code#6,customer_pet_type#7,customer_pet_name#8,customer_pet_breed#9,seller_first_name#10,seller_last_name#11,seller_email#12,seller_country#13,seller_postal_code#14,product_name#15,product_category#16,product_price#17,product_quantity#18,sale_date#19,sale_customer_id#20,sale_seller_id#21,sale_product_id#22,sale_quantity#23,... 26 more fields] JDBCRelation(mock_data) [numPartitions=1]\n   :  :     :  :  :  :  :  +- Project [customer_pet_type#3095, customer_pet_name#3096, customer_pet_breed#3097, customer_country#3093, customer_postal_code#3094, customer_first_name#3089, customer_last_name#3090, customer_age#3091, customer_email#3092, id#110]\n   :  :     :  :  :  :  :     +- Project [customer_pet_type#3095, customer_pet_name#3096, customer_pet_breed#3097, customer_country#3093, customer_postal_code#3094, customer_first_name#3089, customer_last_name#3090, customer_age#3091, customer_email#3092, id#110, id#110]\n   :  :     :  :  :  :  :        +- Window [row_number() windowspecdefinition(customer_first_name#3089 ASC NULLS FIRST, specifiedwindowframe(RowFrame, unboundedpreceding$(), currentrow$())) AS id#110], [customer_first_name#3089 ASC NULLS FIRST]\n   :  :     :  :  :  :  :           +- Project [customer_pet_type#3095, customer_pet_name#3096, customer_pet_breed#3097, customer_country#3093, customer_postal_code#3094, customer_first_name#3089, customer_last_name#3090, customer_age#3091, customer_email#3092]\n   :  :     :  :  :  :  :              +- Deduplicate [customer_pet_type#3095, customer_email#3092, customer_postal_code#3094, customer_last_name#3090, customer_first_name#3089, customer_country#3093, customer_pet_breed#3097, customer_pet_name#3096, customer_age#3091]\n   :  :     :  :  :  :  :                 +- Project [customer_pet_type#3095, customer_pet_name#3096, customer_pet_breed#3097, customer_country#3093, customer_postal_code#3094, customer_first_name#3089, customer_last_name#3090, customer_age#3091, customer_email#3092]\n   :  :     :  :  :  :  :                    +- Relation [id#3088,customer_first_name#3089,customer_last_name#3090,customer_age#3091,customer_email#3092,customer_country#3093,customer_postal_code#3094,customer_pet_type#3095,customer_pet_name#3096,customer_pet_breed#3097,seller_first_name#3098,seller_last_name#3099,seller_email#3100,seller_country#3101,seller_postal_code#3102,product_name#3103,product_category#3104,product_price#3105,product_quantity#3106,sale_date#3107,sale_customer_id#3108,sale_seller_id#3109,sale_product_id#3110,sale_quantity#3111,... 26 more fields] JDBCRelation(mock_data) [numPartitions=1]\n   :  :     :  :  :  :  +- Project [seller_first_name#3268, seller_last_name#3269, seller_country#3271, seller_postal_code#3272, seller_email#3270, id#168]\n   :  :     :  :  :  :     +- Project [seller_first_name#3268, seller_last_name#3269, seller_country#3271, seller_postal_code#3272, seller_email#3270, id#168, id#168]\n   :  :     :  :  :  :        +- Window [row_number() windowspecdefinition(seller_first_name#3268 ASC NULLS FIRST, specifiedwindowframe(RowFrame, unboundedpreceding$(), currentrow$())) AS id#168], [seller_first_name#3268 ASC NULLS FIRST]\n   :  :     :  :  :  :           +- Project [seller_first_name#3268, seller_last_name#3269, seller_country#3271, seller_postal_code#3272, seller_email#3270]\n   :  :     :  :  :  :              +- Deduplicate [seller_first_name#3268, seller_postal_code#3272, seller_country#3271, seller_last_name#3269, seller_email#3270]\n   :  :     :  :  :  :                 +- Project [seller_first_name#3268, seller_last_name#3269, seller_country#3271, seller_postal_code#3272, seller_email#3270]\n   :  :     :  :  :  :                    +- Relation [id#3258,customer_first_name#3259,customer_last_name#3260,customer_age#3261,customer_email#3262,customer_country#3263,customer_postal_code#3264,customer_pet_type#3265,customer_pet_name#3266,customer_pet_breed#3267,seller_first_name#3268,seller_last_name#3269,seller_email#3270,seller_country#3271,seller_postal_code#3272,product_name#3273,product_category#3274,product_price#3275,product_quantity#3276,sale_date#3277,sale_customer_id#3278,sale_seller_id#3279,sale_product_id#3280,sale_quantity#3281,... 26 more fields] JDBCRelation(mock_data) [numPartitions=1]\n   :  :     :  :  :  +- Project [store_location#3466, store_city#3467, store_state#3468, store_country#3469, store_phone#3470, store_email#3471, store_name#3465, id#208]\n   :  :     :  :  :     +- Project [store_location#3466, store_city#3467, store_state#3468, store_country#3469, store_phone#3470, store_email#3471, store_name#3465, id#208, id#208]\n   :  :     :  :  :        +- Window [row_number() windowspecdefinition(store_name#3465 ASC NULLS FIRST, specifiedwindowframe(RowFrame, unboundedpreceding$(), currentrow$())) AS id#208], [store_name#3465 ASC NULLS FIRST]\n   :  :     :  :  :           +- Project [store_location#3466, store_city#3467, store_state#3468, store_country#3469, store_phone#3470, store_email#3471, store_name#3465]\n   :  :     :  :  :              +- Deduplicate [store_location#3466, store_name#3465, store_city#3467, store_phone#3470, store_country#3469, store_email#3471, store_state#3468]\n   :  :     :  :  :                 +- Project [store_location#3466, store_city#3467, store_state#3468, store_country#3469, store_phone#3470, store_email#3471, store_name#3465]\n   :  :     :  :  :                    +- Relation [id#3440,customer_first_name#3441,customer_last_name#3442,customer_age#3443,customer_email#3444,customer_country#3445,customer_postal_code#3446,customer_pet_type#3447,customer_pet_name#3448,customer_pet_breed#3449,seller_first_name#3450,seller_last_name#3451,seller_email#3452,seller_country#3453,seller_postal_code#3454,product_name#3455,product_category#3456,product_price#3457,product_quantity#3458,sale_date#3459,sale_customer_id#3460,sale_seller_id#3461,sale_product_id#3462,sale_quantity#3463,... 26 more fields] JDBCRelation(mock_data) [numPartitions=1]\n   :  :     :  :  +- Project [product_weight#3671, product_color#3672, product_size#3673, product_material#3675, product_description#3676, product_rating#3677, product_reviews#3678, product_brand#3674, product_name#3653, product_category#3654, product_price#3655, product_quantity#3656, product_release_date#3679, product_expiry_date#3680, id#265]\n   :  :     :  :     +- Project [product_weight#3671, product_color#3672, product_size#3673, product_material#3675, product_description#3676, product_rating#3677, product_reviews#3678, product_brand#3674, product_name#3653, product_category#3654, product_price#3655, product_quantity#3656, product_release_date#3679, product_expiry_date#3680, id#265, id#265]\n   :  :     :  :        +- Window [row_number() windowspecdefinition(product_name#3653 ASC NULLS FIRST, specifiedwindowframe(RowFrame, unboundedpreceding$(), currentrow$())) AS id#265], [product_name#3653 ASC NULLS FIRST]\n   :  :     :  :           +- Project [product_weight#3671, product_color#3672, product_size#3673, product_material#3675, product_description#3676, product_rating#3677, product_reviews#3678, product_brand#3674, product_name#3653, product_category#3654, product_price#3655, product_quantity#3656, product_release_date#3679, product_expiry_date#3680]\n   :  :     :  :              +- Deduplicate [product_price#3655, product_description#3676, product_size#3673, product_reviews#3678, product_material#3675, product_quantity#3656, product_release_date#3679, product_name#3653, product_rating#3677, product_weight#3671, product_category#3654, product_color#3672, product_brand#3674, product_expiry_date#3680]\n   :  :     :  :                 +- Project [product_weight#3671, product_color#3672, product_size#3673, product_material#3675, product_description#3676, product_rating#3677, product_reviews#3678, product_brand#3674, product_name#3653, product_category#3654, product_price#3655, product_quantity#3656, product_release_date#3679, product_expiry_date#3680]\n   :  :     :  :                    +- Relation [id#3638,customer_first_name#3639,customer_last_name#3640,customer_age#3641,customer_email#3642,customer_country#3643,customer_postal_code#3644,customer_pet_type#3645,customer_pet_name#3646,customer_pet_breed#3647,seller_first_name#3648,seller_last_name#3649,seller_email#3650,seller_country#3651,seller_postal_code#3652,product_name#3653,product_category#3654,product_price#3655,product_quantity#3656,sale_date#3657,sale_customer_id#3658,sale_seller_id#3659,sale_product_id#3660,sale_quantity#3661,... 26 more fields] JDBCRelation(mock_data) [numPartitions=1]\n   :  :     :  +- Project [sale_quantity#3889, sale_total_price#3890, sale_date#3885, sale_customer_id#3886, sale_seller_id#3887, sale_product_id#3888, id#349]\n   :  :     :     +- Project [sale_quantity#3889, sale_total_price#3890, sale_date#3885, sale_customer_id#3886, sale_seller_id#3887, sale_product_id#3888, id#349, id#349]\n   :  :     :        +- Window [row_number() windowspecdefinition(sale_date#3885 ASC NULLS FIRST, specifiedwindowframe(RowFrame, unboundedpreceding$(), currentrow$())) AS id#349], [sale_date#3885 ASC NULLS FIRST]\n   :  :     :           +- Project [sale_quantity#3889, sale_total_price#3890, sale_date#3885, sale_customer_id#3886, sale_seller_id#3887, sale_product_id#3888]\n   :  :     :              +- Deduplicate [sale_customer_id#3886, sale_date#3885, sale_total_price#3890, sale_quantity#3889, sale_product_id#3888, sale_seller_id#3887]\n   :  :     :                 +- Project [sale_quantity#3889, sale_total_price#3890, sale_date#3885, sale_customer_id#3886, sale_seller_id#3887, sale_product_id#3888]\n   :  :     :                    +- Relation [id#3866,customer_first_name#3867,customer_last_name#3868,customer_age#3869,customer_email#3870,customer_country#3871,customer_postal_code#3872,customer_pet_type#3873,customer_pet_name#3874,customer_pet_breed#3875,seller_first_name#3876,seller_last_name#3877,seller_email#3878,seller_country#3879,seller_postal_code#3880,product_name#3881,product_category#3882,product_price#3883,product_quantity#3884,sale_date#3885,sale_customer_id#3886,sale_seller_id#3887,sale_product_id#3888,sale_quantity#3889,... 26 more fields] JDBCRelation(mock_data) [numPartitions=1]\n   :  :     +- Project [supplier_name#4151, supplier_contact#4152, supplier_email#4153, supplier_phone#4154, supplier_address#4155, supplier_city#4156, supplier_country#4157, id#394]\n   :  :        +- Project [supplier_name#4151, supplier_contact#4152, supplier_email#4153, supplier_phone#4154, supplier_address#4155, supplier_city#4156, supplier_country#4157, id#394, id#394]\n   :  :           +- Window [row_number() windowspecdefinition(supplier_name#4151 ASC NULLS FIRST, specifiedwindowframe(RowFrame, unboundedpreceding$(), currentrow$())) AS id#394], [supplier_name#4151 ASC NULLS FIRST]\n   :  :              +- Project [supplier_name#4151, supplier_contact#4152, supplier_email#4153, supplier_phone#4154, supplier_address#4155, supplier_city#4156, supplier_country#4157]\n   :  :                 +- Deduplicate [supplier_country#4157, supplier_phone#4154, supplier_address#4155, supplier_name#4151, supplier_contact#4152, supplier_city#4156, supplier_email#4153]\n   :  :                    +- Project [supplier_name#4151, supplier_contact#4152, supplier_email#4153, supplier_phone#4154, supplier_address#4155, supplier_city#4156, supplier_country#4157]\n   :  :                       +- Relation [id#4108,customer_first_name#4109,customer_last_name#4110,customer_age#4111,customer_email#4112,customer_country#4113,customer_postal_code#4114,customer_pet_type#4115,customer_pet_name#4116,customer_pet_breed#4117,seller_first_name#4118,seller_last_name#4119,seller_email#4120,seller_country#4121,seller_postal_code#4122,product_name#4123,product_category#4124,product_price#4125,product_quantity#4126,sale_date#4127,sale_customer_id#4128,sale_seller_id#4129,sale_product_id#4130,sale_quantity#4131,... 26 more fields] JDBCRelation(mock_data) [numPartitions=1]\n   :  +- Project [customer_pet_type#16889, customer_pet_name#16890, customer_pet_breed#16891, customer_country#16887, customer_postal_code#16888, customer_first_name#16883, customer_last_name#16884, customer_age#16885, customer_email#16886, id#110]\n   :     +- Project [customer_pet_type#16889, customer_pet_name#16890, customer_pet_breed#16891, customer_country#16887, customer_postal_code#16888, customer_first_name#16883, customer_last_name#16884, customer_age#16885, customer_email#16886, id#110, id#110]\n   :        +- Window [row_number() windowspecdefinition(customer_first_name#16883 ASC NULLS FIRST, specifiedwindowframe(RowFrame, unboundedpreceding$(), currentrow$())) AS id#110], [customer_first_name#16883 ASC NULLS FIRST]\n   :           +- Project [customer_pet_type#16889, customer_pet_name#16890, customer_pet_breed#16891, customer_country#16887, customer_postal_code#16888, customer_first_name#16883, customer_last_name#16884, customer_age#16885, customer_email#16886]\n   :              +- Deduplicate [customer_pet_type#16889, customer_email#16886, customer_postal_code#16888, customer_last_name#16884, customer_first_name#16883, customer_country#16887, customer_pet_breed#16891, customer_pet_name#16890, customer_age#16885]\n   :                 +- Project [customer_pet_type#16889, customer_pet_name#16890, customer_pet_breed#16891, customer_country#16887, customer_postal_code#16888, customer_first_name#16883, customer_last_name#16884, customer_age#16885, customer_email#16886]\n   :                    +- Relation [id#16882,customer_first_name#16883,customer_last_name#16884,customer_age#16885,customer_email#16886,customer_country#16887,customer_postal_code#16888,customer_pet_type#16889,customer_pet_name#16890,customer_pet_breed#16891,seller_first_name#16892,seller_last_name#16893,seller_email#16894,seller_country#16895,seller_postal_code#16896,product_name#16897,product_category#16898,product_price#16899,product_quantity#16900,sale_date#16901,sale_customer_id#16902,sale_seller_id#16903,sale_product_id#16904,sale_quantity#16905,... 26 more fields] JDBCRelation(mock_data) [numPartitions=1]\n   +- Project [sale_quantity#16989, sale_total_price#8202, sale_date#16985, sale_customer_id#16986, sale_seller_id#16987, sale_product_id#16988, id#8210]\n      +- Project [sale_quantity#16989, sale_total_price#8202, sale_date#16985, sale_customer_id#16986, sale_seller_id#16987, sale_product_id#16988, id#8210, id#8210]\n         +- Window [row_number() windowspecdefinition(sale_date#16985 ASC NULLS FIRST, specifiedwindowframe(RowFrame, unboundedpreceding$(), currentrow$())) AS id#8210], [sale_date#16985 ASC NULLS FIRST]\n            +- Project [sale_quantity#16989, sale_total_price#8202, sale_date#16985, sale_customer_id#16986, sale_seller_id#16987, sale_product_id#16988]\n               +- Project [sale_quantity#16989, cast(regexp_replace(sale_total_price#16990, \\$, , 1) as double) AS sale_total_price#8202, sale_date#16985, sale_customer_id#16986, sale_seller_id#16987, sale_product_id#16988]\n                  +- Deduplicate [sale_customer_id#16986, sale_date#16985, sale_total_price#16990, sale_quantity#16989, sale_product_id#16988, sale_seller_id#16987]\n                     +- Project [sale_quantity#16989, sale_total_price#16990, sale_date#16985, sale_customer_id#16986, sale_seller_id#16987, sale_product_id#16988]\n                        +- Relation [id#16966,customer_first_name#16967,customer_last_name#16968,customer_age#16969,customer_email#16970,customer_country#16971,customer_postal_code#16972,customer_pet_type#16973,customer_pet_name#16974,customer_pet_breed#16975,seller_first_name#16976,seller_last_name#16977,seller_email#16978,seller_country#16979,seller_postal_code#16980,product_name#16981,product_category#16982,product_price#16983,product_quantity#16984,sale_date#16985,sale_customer_id#16986,sale_seller_id#16987,sale_product_id#16988,sale_quantity#16989,... 26 more fields] JDBCRelation(mock_data) [numPartitions=1]\n",
     "output_type": "error",
     "traceback": [
      "\u001b[0;31m---------------------------------------------------------------------------\u001b[0m",
      "\u001b[0;31mAnalysisException\u001b[0m                         Traceback (most recent call last)",
      "Cell \u001b[0;32mIn[115], line 4\u001b[0m\n\u001b[1;32m      1\u001b[0m product_report \u001b[38;5;241m=\u001b[39m (\n\u001b[1;32m      2\u001b[0m     \u001b[43mfact\u001b[49m\u001b[38;5;241;43m.\u001b[39;49m\u001b[43mjoin\u001b[49m\u001b[43m(\u001b[49m\u001b[43mcustomer\u001b[49m\u001b[43m,\u001b[49m\u001b[43m \u001b[49m\u001b[43mon\u001b[49m\u001b[43m \u001b[49m\u001b[38;5;241;43m=\u001b[39;49m\u001b[43m \u001b[49m\u001b[43m[\u001b[49m\u001b[43mfact\u001b[49m\u001b[38;5;241;43m.\u001b[39;49m\u001b[43mcustomer_id\u001b[49m\u001b[43m \u001b[49m\u001b[38;5;241;43m==\u001b[39;49m\u001b[43m \u001b[49m\u001b[43mcustomer\u001b[49m\u001b[38;5;241;43m.\u001b[39;49m\u001b[43mid\u001b[49m\u001b[43m]\u001b[49m\u001b[43m)\u001b[49m\u001b[38;5;241;43m.\u001b[39;49m\u001b[43mjoin\u001b[49m\u001b[43m(\u001b[49m\u001b[43msale\u001b[49m\u001b[43m,\u001b[49m\u001b[43m \u001b[49m\u001b[43mon\u001b[49m\u001b[43m \u001b[49m\u001b[38;5;241;43m=\u001b[39;49m\u001b[43m \u001b[49m\u001b[43m[\u001b[49m\u001b[43mfact\u001b[49m\u001b[38;5;241;43m.\u001b[39;49m\u001b[43msale_id\u001b[49m\u001b[43m \u001b[49m\u001b[38;5;241;43m==\u001b[39;49m\u001b[43m \u001b[49m\u001b[43msale\u001b[49m\u001b[38;5;241;43m.\u001b[39;49m\u001b[43mid\u001b[49m\u001b[43m]\u001b[49m\u001b[43m)\u001b[49m\n\u001b[1;32m      3\u001b[0m \u001b[43m    \u001b[49m\u001b[38;5;241;43m.\u001b[39;49m\u001b[43mgroupBy\u001b[49m\u001b[43m(\u001b[49m\u001b[38;5;124;43m\"\u001b[39;49m\u001b[38;5;124;43msale\u001b[39;49m\u001b[38;5;124;43m\"\u001b[39;49m\u001b[43m)\u001b[49m\n\u001b[0;32m----> 4\u001b[0m \u001b[43m    \u001b[49m\u001b[38;5;241;43m.\u001b[39;49m\u001b[43magg\u001b[49m\u001b[43m(\u001b[49m\n\u001b[1;32m      5\u001b[0m \u001b[43m        \u001b[49m\u001b[38;5;28;43msum\u001b[39;49m\u001b[43m(\u001b[49m\u001b[43mcol\u001b[49m\u001b[43m(\u001b[49m\u001b[38;5;124;43m\"\u001b[39;49m\u001b[38;5;124;43msale_total_price\u001b[39;49m\u001b[38;5;124;43m\"\u001b[39;49m\u001b[43m)\u001b[49m\u001b[43m)\u001b[49m\u001b[38;5;241;43m.\u001b[39;49m\u001b[43malias\u001b[49m\u001b[43m(\u001b[49m\u001b[38;5;124;43m'\u001b[39;49m\u001b[38;5;124;43mcheck\u001b[39;49m\u001b[38;5;124;43m'\u001b[39;49m\u001b[43m)\u001b[49m\u001b[43m,\u001b[49m\n\u001b[1;32m      6\u001b[0m \u001b[43m        \u001b[49m\u001b[43mavg\u001b[49m\u001b[43m(\u001b[49m\u001b[43mcol\u001b[49m\u001b[43m(\u001b[49m\u001b[38;5;124;43m\"\u001b[39;49m\u001b[38;5;124;43msale_total_price\u001b[39;49m\u001b[38;5;124;43m\"\u001b[39;49m\u001b[43m)\u001b[49m\u001b[43m)\u001b[49m\u001b[43m,\u001b[49m\n\u001b[1;32m      7\u001b[0m \u001b[43m    \u001b[49m\u001b[43m)\u001b[49m\u001b[38;5;241m.\u001b[39morderBy(desc(\u001b[38;5;124m'\u001b[39m\u001b[38;5;124mcheck\u001b[39m\u001b[38;5;124m'\u001b[39m))\u001b[38;5;241m.\u001b[39mlimit(\u001b[38;5;241m10\u001b[39m)\n\u001b[1;32m      8\u001b[0m )\n\u001b[1;32m      9\u001b[0m product_report\u001b[38;5;241m.\u001b[39mshow()\n",
      "File \u001b[0;32m/usr/local/spark/python/pyspark/sql/group.py:186\u001b[0m, in \u001b[0;36mGroupedData.agg\u001b[0;34m(self, *exprs)\u001b[0m\n\u001b[1;32m    184\u001b[0m     \u001b[38;5;28;01massert\u001b[39;00m \u001b[38;5;28mall\u001b[39m(\u001b[38;5;28misinstance\u001b[39m(c, Column) \u001b[38;5;28;01mfor\u001b[39;00m c \u001b[38;5;129;01min\u001b[39;00m exprs), \u001b[38;5;124m\"\u001b[39m\u001b[38;5;124mall exprs should be Column\u001b[39m\u001b[38;5;124m\"\u001b[39m\n\u001b[1;32m    185\u001b[0m     exprs \u001b[38;5;241m=\u001b[39m cast(Tuple[Column, \u001b[38;5;241m.\u001b[39m\u001b[38;5;241m.\u001b[39m\u001b[38;5;241m.\u001b[39m], exprs)\n\u001b[0;32m--> 186\u001b[0m     jdf \u001b[38;5;241m=\u001b[39m \u001b[38;5;28;43mself\u001b[39;49m\u001b[38;5;241;43m.\u001b[39;49m\u001b[43m_jgd\u001b[49m\u001b[38;5;241;43m.\u001b[39;49m\u001b[43magg\u001b[49m\u001b[43m(\u001b[49m\u001b[43mexprs\u001b[49m\u001b[43m[\u001b[49m\u001b[38;5;241;43m0\u001b[39;49m\u001b[43m]\u001b[49m\u001b[38;5;241;43m.\u001b[39;49m\u001b[43m_jc\u001b[49m\u001b[43m,\u001b[49m\u001b[43m \u001b[49m\u001b[43m_to_seq\u001b[49m\u001b[43m(\u001b[49m\u001b[38;5;28;43mself\u001b[39;49m\u001b[38;5;241;43m.\u001b[39;49m\u001b[43msession\u001b[49m\u001b[38;5;241;43m.\u001b[39;49m\u001b[43m_sc\u001b[49m\u001b[43m,\u001b[49m\u001b[43m \u001b[49m\u001b[43m[\u001b[49m\u001b[43mc\u001b[49m\u001b[38;5;241;43m.\u001b[39;49m\u001b[43m_jc\u001b[49m\u001b[43m \u001b[49m\u001b[38;5;28;43;01mfor\u001b[39;49;00m\u001b[43m \u001b[49m\u001b[43mc\u001b[49m\u001b[43m \u001b[49m\u001b[38;5;129;43;01min\u001b[39;49;00m\u001b[43m \u001b[49m\u001b[43mexprs\u001b[49m\u001b[43m[\u001b[49m\u001b[38;5;241;43m1\u001b[39;49m\u001b[43m:\u001b[49m\u001b[43m]\u001b[49m\u001b[43m]\u001b[49m\u001b[43m)\u001b[49m\u001b[43m)\u001b[49m\n\u001b[1;32m    187\u001b[0m \u001b[38;5;28;01mreturn\u001b[39;00m DataFrame(jdf, \u001b[38;5;28mself\u001b[39m\u001b[38;5;241m.\u001b[39msession)\n",
      "File \u001b[0;32m/usr/local/spark/python/lib/py4j-0.10.9.7-src.zip/py4j/java_gateway.py:1322\u001b[0m, in \u001b[0;36mJavaMember.__call__\u001b[0;34m(self, *args)\u001b[0m\n\u001b[1;32m   1316\u001b[0m command \u001b[38;5;241m=\u001b[39m proto\u001b[38;5;241m.\u001b[39mCALL_COMMAND_NAME \u001b[38;5;241m+\u001b[39m\\\n\u001b[1;32m   1317\u001b[0m     \u001b[38;5;28mself\u001b[39m\u001b[38;5;241m.\u001b[39mcommand_header \u001b[38;5;241m+\u001b[39m\\\n\u001b[1;32m   1318\u001b[0m     args_command \u001b[38;5;241m+\u001b[39m\\\n\u001b[1;32m   1319\u001b[0m     proto\u001b[38;5;241m.\u001b[39mEND_COMMAND_PART\n\u001b[1;32m   1321\u001b[0m answer \u001b[38;5;241m=\u001b[39m \u001b[38;5;28mself\u001b[39m\u001b[38;5;241m.\u001b[39mgateway_client\u001b[38;5;241m.\u001b[39msend_command(command)\n\u001b[0;32m-> 1322\u001b[0m return_value \u001b[38;5;241m=\u001b[39m \u001b[43mget_return_value\u001b[49m\u001b[43m(\u001b[49m\n\u001b[1;32m   1323\u001b[0m \u001b[43m    \u001b[49m\u001b[43manswer\u001b[49m\u001b[43m,\u001b[49m\u001b[43m \u001b[49m\u001b[38;5;28;43mself\u001b[39;49m\u001b[38;5;241;43m.\u001b[39;49m\u001b[43mgateway_client\u001b[49m\u001b[43m,\u001b[49m\u001b[43m \u001b[49m\u001b[38;5;28;43mself\u001b[39;49m\u001b[38;5;241;43m.\u001b[39;49m\u001b[43mtarget_id\u001b[49m\u001b[43m,\u001b[49m\u001b[43m \u001b[49m\u001b[38;5;28;43mself\u001b[39;49m\u001b[38;5;241;43m.\u001b[39;49m\u001b[43mname\u001b[49m\u001b[43m)\u001b[49m\n\u001b[1;32m   1325\u001b[0m \u001b[38;5;28;01mfor\u001b[39;00m temp_arg \u001b[38;5;129;01min\u001b[39;00m temp_args:\n\u001b[1;32m   1326\u001b[0m     \u001b[38;5;28;01mif\u001b[39;00m \u001b[38;5;28mhasattr\u001b[39m(temp_arg, \u001b[38;5;124m\"\u001b[39m\u001b[38;5;124m_detach\u001b[39m\u001b[38;5;124m\"\u001b[39m):\n",
      "File \u001b[0;32m/usr/local/spark/python/pyspark/errors/exceptions/captured.py:185\u001b[0m, in \u001b[0;36mcapture_sql_exception.<locals>.deco\u001b[0;34m(*a, **kw)\u001b[0m\n\u001b[1;32m    181\u001b[0m converted \u001b[38;5;241m=\u001b[39m convert_exception(e\u001b[38;5;241m.\u001b[39mjava_exception)\n\u001b[1;32m    182\u001b[0m \u001b[38;5;28;01mif\u001b[39;00m \u001b[38;5;129;01mnot\u001b[39;00m \u001b[38;5;28misinstance\u001b[39m(converted, UnknownException):\n\u001b[1;32m    183\u001b[0m     \u001b[38;5;66;03m# Hide where the exception came from that shows a non-Pythonic\u001b[39;00m\n\u001b[1;32m    184\u001b[0m     \u001b[38;5;66;03m# JVM exception message.\u001b[39;00m\n\u001b[0;32m--> 185\u001b[0m     \u001b[38;5;28;01mraise\u001b[39;00m converted \u001b[38;5;28;01mfrom\u001b[39;00m \u001b[38;5;28;01mNone\u001b[39;00m\n\u001b[1;32m    186\u001b[0m \u001b[38;5;28;01melse\u001b[39;00m:\n\u001b[1;32m    187\u001b[0m     \u001b[38;5;28;01mraise\u001b[39;00m\n",
      "\u001b[0;31mAnalysisException\u001b[0m: [UNRESOLVED_COLUMN.WITH_SUGGESTION] A column or function parameter with name `sale` cannot be resolved. Did you mean one of the following? [`id`, `id`, `id`, `sale_id`, `sale_date`].;\n'Aggregate ['sale], ['sale, sum(sale_total_price#8202) AS check#17089, avg(sale_total_price#8202) AS avg(sale_total_price)#17091]\n+- Join Inner, (sale_id#4370 = id#8210)\n   :- Join Inner, (customer_id#4366 = id#110)\n   :  :- Project [id#0, id#110 AS customer_id#4366, id#168 AS seller_id#4367, id#208 AS store_id#4368, id#265 AS product_id#4369, id#349 AS sale_id#4370, id#394 AS supplier_id#4371]\n   :  :  +- Join LeftOuter, (((((((supplier_name#43 = supplier_name#4151) AND (supplier_contact#44 = supplier_contact#4152)) AND (supplier_email#45 = supplier_email#4153)) AND (supplier_phone#46 = supplier_phone#4154)) AND (supplier_address#47 = supplier_address#4155)) AND (supplier_city#48 = supplier_city#4156)) AND (supplier_country#49 = supplier_country#4157))\n   :  :     :- Join LeftOuter, ((((((sale_quantity#23 = sale_quantity#3889) AND (sale_total_price#24 = sale_total_price#3890)) AND (sale_date#19 = sale_date#3885)) AND (sale_customer_id#20 = sale_customer_id#3886)) AND (sale_seller_id#21 = sale_seller_id#3887)) AND (sale_product_id#22 = sale_product_id#3888))\n   :  :     :  :- Join LeftOuter, ((((((((((((((product_weight#33 = product_weight#3671) AND (product_color#34 = product_color#3672)) AND (product_size#35 = product_size#3673)) AND (product_material#37 = product_material#3675)) AND (product_description#38 = product_description#3676)) AND (product_rating#39 = product_rating#3677)) AND (product_reviews#40 = product_reviews#3678)) AND (product_brand#36 = product_brand#3674)) AND (product_name#15 = product_name#3653)) AND (product_category#16 = product_category#3654)) AND (product_quantity#18 = product_quantity#3656)) AND (product_release_date#41 = product_release_date#3679)) AND (product_reviews#40 = product_reviews#3678)) AND (product_expiry_date#42 = product_expiry_date#3680))\n   :  :     :  :  :- Join LeftOuter, (((((((store_location#26 = store_location#3466) AND (store_city#27 = store_city#3467)) AND (store_state#28 = store_state#3468)) AND (store_country#29 = store_country#3469)) AND (store_phone#30 = store_phone#3470)) AND (store_email#31 = store_email#3471)) AND (store_name#25 = store_name#3465))\n   :  :     :  :  :  :- Join LeftOuter, (((((seller_first_name#10 = seller_first_name#3268) AND (seller_last_name#11 = seller_last_name#3269)) AND (seller_country#13 = seller_country#3271)) AND (seller_postal_code#14 = seller_postal_code#3272)) AND (seller_email#12 = seller_email#3270))\n   :  :     :  :  :  :  :- Join LeftOuter, (((((((((customer_pet_type#7 = customer_pet_type#3095) AND (customer_pet_name#8 = customer_pet_name#3096)) AND (customer_pet_breed#9 = customer_pet_breed#3097)) AND (customer_country#5 = customer_country#3093)) AND (customer_postal_code#6 = customer_postal_code#3094)) AND (customer_first_name#1 = customer_first_name#3089)) AND (customer_last_name#2 = customer_last_name#3090)) AND (customer_age#3 = customer_age#3091)) AND (customer_email#4 = customer_email#3092))\n   :  :     :  :  :  :  :  :- Relation [id#0,customer_first_name#1,customer_last_name#2,customer_age#3,customer_email#4,customer_country#5,customer_postal_code#6,customer_pet_type#7,customer_pet_name#8,customer_pet_breed#9,seller_first_name#10,seller_last_name#11,seller_email#12,seller_country#13,seller_postal_code#14,product_name#15,product_category#16,product_price#17,product_quantity#18,sale_date#19,sale_customer_id#20,sale_seller_id#21,sale_product_id#22,sale_quantity#23,... 26 more fields] JDBCRelation(mock_data) [numPartitions=1]\n   :  :     :  :  :  :  :  +- Project [customer_pet_type#3095, customer_pet_name#3096, customer_pet_breed#3097, customer_country#3093, customer_postal_code#3094, customer_first_name#3089, customer_last_name#3090, customer_age#3091, customer_email#3092, id#110]\n   :  :     :  :  :  :  :     +- Project [customer_pet_type#3095, customer_pet_name#3096, customer_pet_breed#3097, customer_country#3093, customer_postal_code#3094, customer_first_name#3089, customer_last_name#3090, customer_age#3091, customer_email#3092, id#110, id#110]\n   :  :     :  :  :  :  :        +- Window [row_number() windowspecdefinition(customer_first_name#3089 ASC NULLS FIRST, specifiedwindowframe(RowFrame, unboundedpreceding$(), currentrow$())) AS id#110], [customer_first_name#3089 ASC NULLS FIRST]\n   :  :     :  :  :  :  :           +- Project [customer_pet_type#3095, customer_pet_name#3096, customer_pet_breed#3097, customer_country#3093, customer_postal_code#3094, customer_first_name#3089, customer_last_name#3090, customer_age#3091, customer_email#3092]\n   :  :     :  :  :  :  :              +- Deduplicate [customer_pet_type#3095, customer_email#3092, customer_postal_code#3094, customer_last_name#3090, customer_first_name#3089, customer_country#3093, customer_pet_breed#3097, customer_pet_name#3096, customer_age#3091]\n   :  :     :  :  :  :  :                 +- Project [customer_pet_type#3095, customer_pet_name#3096, customer_pet_breed#3097, customer_country#3093, customer_postal_code#3094, customer_first_name#3089, customer_last_name#3090, customer_age#3091, customer_email#3092]\n   :  :     :  :  :  :  :                    +- Relation [id#3088,customer_first_name#3089,customer_last_name#3090,customer_age#3091,customer_email#3092,customer_country#3093,customer_postal_code#3094,customer_pet_type#3095,customer_pet_name#3096,customer_pet_breed#3097,seller_first_name#3098,seller_last_name#3099,seller_email#3100,seller_country#3101,seller_postal_code#3102,product_name#3103,product_category#3104,product_price#3105,product_quantity#3106,sale_date#3107,sale_customer_id#3108,sale_seller_id#3109,sale_product_id#3110,sale_quantity#3111,... 26 more fields] JDBCRelation(mock_data) [numPartitions=1]\n   :  :     :  :  :  :  +- Project [seller_first_name#3268, seller_last_name#3269, seller_country#3271, seller_postal_code#3272, seller_email#3270, id#168]\n   :  :     :  :  :  :     +- Project [seller_first_name#3268, seller_last_name#3269, seller_country#3271, seller_postal_code#3272, seller_email#3270, id#168, id#168]\n   :  :     :  :  :  :        +- Window [row_number() windowspecdefinition(seller_first_name#3268 ASC NULLS FIRST, specifiedwindowframe(RowFrame, unboundedpreceding$(), currentrow$())) AS id#168], [seller_first_name#3268 ASC NULLS FIRST]\n   :  :     :  :  :  :           +- Project [seller_first_name#3268, seller_last_name#3269, seller_country#3271, seller_postal_code#3272, seller_email#3270]\n   :  :     :  :  :  :              +- Deduplicate [seller_first_name#3268, seller_postal_code#3272, seller_country#3271, seller_last_name#3269, seller_email#3270]\n   :  :     :  :  :  :                 +- Project [seller_first_name#3268, seller_last_name#3269, seller_country#3271, seller_postal_code#3272, seller_email#3270]\n   :  :     :  :  :  :                    +- Relation [id#3258,customer_first_name#3259,customer_last_name#3260,customer_age#3261,customer_email#3262,customer_country#3263,customer_postal_code#3264,customer_pet_type#3265,customer_pet_name#3266,customer_pet_breed#3267,seller_first_name#3268,seller_last_name#3269,seller_email#3270,seller_country#3271,seller_postal_code#3272,product_name#3273,product_category#3274,product_price#3275,product_quantity#3276,sale_date#3277,sale_customer_id#3278,sale_seller_id#3279,sale_product_id#3280,sale_quantity#3281,... 26 more fields] JDBCRelation(mock_data) [numPartitions=1]\n   :  :     :  :  :  +- Project [store_location#3466, store_city#3467, store_state#3468, store_country#3469, store_phone#3470, store_email#3471, store_name#3465, id#208]\n   :  :     :  :  :     +- Project [store_location#3466, store_city#3467, store_state#3468, store_country#3469, store_phone#3470, store_email#3471, store_name#3465, id#208, id#208]\n   :  :     :  :  :        +- Window [row_number() windowspecdefinition(store_name#3465 ASC NULLS FIRST, specifiedwindowframe(RowFrame, unboundedpreceding$(), currentrow$())) AS id#208], [store_name#3465 ASC NULLS FIRST]\n   :  :     :  :  :           +- Project [store_location#3466, store_city#3467, store_state#3468, store_country#3469, store_phone#3470, store_email#3471, store_name#3465]\n   :  :     :  :  :              +- Deduplicate [store_location#3466, store_name#3465, store_city#3467, store_phone#3470, store_country#3469, store_email#3471, store_state#3468]\n   :  :     :  :  :                 +- Project [store_location#3466, store_city#3467, store_state#3468, store_country#3469, store_phone#3470, store_email#3471, store_name#3465]\n   :  :     :  :  :                    +- Relation [id#3440,customer_first_name#3441,customer_last_name#3442,customer_age#3443,customer_email#3444,customer_country#3445,customer_postal_code#3446,customer_pet_type#3447,customer_pet_name#3448,customer_pet_breed#3449,seller_first_name#3450,seller_last_name#3451,seller_email#3452,seller_country#3453,seller_postal_code#3454,product_name#3455,product_category#3456,product_price#3457,product_quantity#3458,sale_date#3459,sale_customer_id#3460,sale_seller_id#3461,sale_product_id#3462,sale_quantity#3463,... 26 more fields] JDBCRelation(mock_data) [numPartitions=1]\n   :  :     :  :  +- Project [product_weight#3671, product_color#3672, product_size#3673, product_material#3675, product_description#3676, product_rating#3677, product_reviews#3678, product_brand#3674, product_name#3653, product_category#3654, product_price#3655, product_quantity#3656, product_release_date#3679, product_expiry_date#3680, id#265]\n   :  :     :  :     +- Project [product_weight#3671, product_color#3672, product_size#3673, product_material#3675, product_description#3676, product_rating#3677, product_reviews#3678, product_brand#3674, product_name#3653, product_category#3654, product_price#3655, product_quantity#3656, product_release_date#3679, product_expiry_date#3680, id#265, id#265]\n   :  :     :  :        +- Window [row_number() windowspecdefinition(product_name#3653 ASC NULLS FIRST, specifiedwindowframe(RowFrame, unboundedpreceding$(), currentrow$())) AS id#265], [product_name#3653 ASC NULLS FIRST]\n   :  :     :  :           +- Project [product_weight#3671, product_color#3672, product_size#3673, product_material#3675, product_description#3676, product_rating#3677, product_reviews#3678, product_brand#3674, product_name#3653, product_category#3654, product_price#3655, product_quantity#3656, product_release_date#3679, product_expiry_date#3680]\n   :  :     :  :              +- Deduplicate [product_price#3655, product_description#3676, product_size#3673, product_reviews#3678, product_material#3675, product_quantity#3656, product_release_date#3679, product_name#3653, product_rating#3677, product_weight#3671, product_category#3654, product_color#3672, product_brand#3674, product_expiry_date#3680]\n   :  :     :  :                 +- Project [product_weight#3671, product_color#3672, product_size#3673, product_material#3675, product_description#3676, product_rating#3677, product_reviews#3678, product_brand#3674, product_name#3653, product_category#3654, product_price#3655, product_quantity#3656, product_release_date#3679, product_expiry_date#3680]\n   :  :     :  :                    +- Relation [id#3638,customer_first_name#3639,customer_last_name#3640,customer_age#3641,customer_email#3642,customer_country#3643,customer_postal_code#3644,customer_pet_type#3645,customer_pet_name#3646,customer_pet_breed#3647,seller_first_name#3648,seller_last_name#3649,seller_email#3650,seller_country#3651,seller_postal_code#3652,product_name#3653,product_category#3654,product_price#3655,product_quantity#3656,sale_date#3657,sale_customer_id#3658,sale_seller_id#3659,sale_product_id#3660,sale_quantity#3661,... 26 more fields] JDBCRelation(mock_data) [numPartitions=1]\n   :  :     :  +- Project [sale_quantity#3889, sale_total_price#3890, sale_date#3885, sale_customer_id#3886, sale_seller_id#3887, sale_product_id#3888, id#349]\n   :  :     :     +- Project [sale_quantity#3889, sale_total_price#3890, sale_date#3885, sale_customer_id#3886, sale_seller_id#3887, sale_product_id#3888, id#349, id#349]\n   :  :     :        +- Window [row_number() windowspecdefinition(sale_date#3885 ASC NULLS FIRST, specifiedwindowframe(RowFrame, unboundedpreceding$(), currentrow$())) AS id#349], [sale_date#3885 ASC NULLS FIRST]\n   :  :     :           +- Project [sale_quantity#3889, sale_total_price#3890, sale_date#3885, sale_customer_id#3886, sale_seller_id#3887, sale_product_id#3888]\n   :  :     :              +- Deduplicate [sale_customer_id#3886, sale_date#3885, sale_total_price#3890, sale_quantity#3889, sale_product_id#3888, sale_seller_id#3887]\n   :  :     :                 +- Project [sale_quantity#3889, sale_total_price#3890, sale_date#3885, sale_customer_id#3886, sale_seller_id#3887, sale_product_id#3888]\n   :  :     :                    +- Relation [id#3866,customer_first_name#3867,customer_last_name#3868,customer_age#3869,customer_email#3870,customer_country#3871,customer_postal_code#3872,customer_pet_type#3873,customer_pet_name#3874,customer_pet_breed#3875,seller_first_name#3876,seller_last_name#3877,seller_email#3878,seller_country#3879,seller_postal_code#3880,product_name#3881,product_category#3882,product_price#3883,product_quantity#3884,sale_date#3885,sale_customer_id#3886,sale_seller_id#3887,sale_product_id#3888,sale_quantity#3889,... 26 more fields] JDBCRelation(mock_data) [numPartitions=1]\n   :  :     +- Project [supplier_name#4151, supplier_contact#4152, supplier_email#4153, supplier_phone#4154, supplier_address#4155, supplier_city#4156, supplier_country#4157, id#394]\n   :  :        +- Project [supplier_name#4151, supplier_contact#4152, supplier_email#4153, supplier_phone#4154, supplier_address#4155, supplier_city#4156, supplier_country#4157, id#394, id#394]\n   :  :           +- Window [row_number() windowspecdefinition(supplier_name#4151 ASC NULLS FIRST, specifiedwindowframe(RowFrame, unboundedpreceding$(), currentrow$())) AS id#394], [supplier_name#4151 ASC NULLS FIRST]\n   :  :              +- Project [supplier_name#4151, supplier_contact#4152, supplier_email#4153, supplier_phone#4154, supplier_address#4155, supplier_city#4156, supplier_country#4157]\n   :  :                 +- Deduplicate [supplier_country#4157, supplier_phone#4154, supplier_address#4155, supplier_name#4151, supplier_contact#4152, supplier_city#4156, supplier_email#4153]\n   :  :                    +- Project [supplier_name#4151, supplier_contact#4152, supplier_email#4153, supplier_phone#4154, supplier_address#4155, supplier_city#4156, supplier_country#4157]\n   :  :                       +- Relation [id#4108,customer_first_name#4109,customer_last_name#4110,customer_age#4111,customer_email#4112,customer_country#4113,customer_postal_code#4114,customer_pet_type#4115,customer_pet_name#4116,customer_pet_breed#4117,seller_first_name#4118,seller_last_name#4119,seller_email#4120,seller_country#4121,seller_postal_code#4122,product_name#4123,product_category#4124,product_price#4125,product_quantity#4126,sale_date#4127,sale_customer_id#4128,sale_seller_id#4129,sale_product_id#4130,sale_quantity#4131,... 26 more fields] JDBCRelation(mock_data) [numPartitions=1]\n   :  +- Project [customer_pet_type#16889, customer_pet_name#16890, customer_pet_breed#16891, customer_country#16887, customer_postal_code#16888, customer_first_name#16883, customer_last_name#16884, customer_age#16885, customer_email#16886, id#110]\n   :     +- Project [customer_pet_type#16889, customer_pet_name#16890, customer_pet_breed#16891, customer_country#16887, customer_postal_code#16888, customer_first_name#16883, customer_last_name#16884, customer_age#16885, customer_email#16886, id#110, id#110]\n   :        +- Window [row_number() windowspecdefinition(customer_first_name#16883 ASC NULLS FIRST, specifiedwindowframe(RowFrame, unboundedpreceding$(), currentrow$())) AS id#110], [customer_first_name#16883 ASC NULLS FIRST]\n   :           +- Project [customer_pet_type#16889, customer_pet_name#16890, customer_pet_breed#16891, customer_country#16887, customer_postal_code#16888, customer_first_name#16883, customer_last_name#16884, customer_age#16885, customer_email#16886]\n   :              +- Deduplicate [customer_pet_type#16889, customer_email#16886, customer_postal_code#16888, customer_last_name#16884, customer_first_name#16883, customer_country#16887, customer_pet_breed#16891, customer_pet_name#16890, customer_age#16885]\n   :                 +- Project [customer_pet_type#16889, customer_pet_name#16890, customer_pet_breed#16891, customer_country#16887, customer_postal_code#16888, customer_first_name#16883, customer_last_name#16884, customer_age#16885, customer_email#16886]\n   :                    +- Relation [id#16882,customer_first_name#16883,customer_last_name#16884,customer_age#16885,customer_email#16886,customer_country#16887,customer_postal_code#16888,customer_pet_type#16889,customer_pet_name#16890,customer_pet_breed#16891,seller_first_name#16892,seller_last_name#16893,seller_email#16894,seller_country#16895,seller_postal_code#16896,product_name#16897,product_category#16898,product_price#16899,product_quantity#16900,sale_date#16901,sale_customer_id#16902,sale_seller_id#16903,sale_product_id#16904,sale_quantity#16905,... 26 more fields] JDBCRelation(mock_data) [numPartitions=1]\n   +- Project [sale_quantity#16989, sale_total_price#8202, sale_date#16985, sale_customer_id#16986, sale_seller_id#16987, sale_product_id#16988, id#8210]\n      +- Project [sale_quantity#16989, sale_total_price#8202, sale_date#16985, sale_customer_id#16986, sale_seller_id#16987, sale_product_id#16988, id#8210, id#8210]\n         +- Window [row_number() windowspecdefinition(sale_date#16985 ASC NULLS FIRST, specifiedwindowframe(RowFrame, unboundedpreceding$(), currentrow$())) AS id#8210], [sale_date#16985 ASC NULLS FIRST]\n            +- Project [sale_quantity#16989, sale_total_price#8202, sale_date#16985, sale_customer_id#16986, sale_seller_id#16987, sale_product_id#16988]\n               +- Project [sale_quantity#16989, cast(regexp_replace(sale_total_price#16990, \\$, , 1) as double) AS sale_total_price#8202, sale_date#16985, sale_customer_id#16986, sale_seller_id#16987, sale_product_id#16988]\n                  +- Deduplicate [sale_customer_id#16986, sale_date#16985, sale_total_price#16990, sale_quantity#16989, sale_product_id#16988, sale_seller_id#16987]\n                     +- Project [sale_quantity#16989, sale_total_price#16990, sale_date#16985, sale_customer_id#16986, sale_seller_id#16987, sale_product_id#16988]\n                        +- Relation [id#16966,customer_first_name#16967,customer_last_name#16968,customer_age#16969,customer_email#16970,customer_country#16971,customer_postal_code#16972,customer_pet_type#16973,customer_pet_name#16974,customer_pet_breed#16975,seller_first_name#16976,seller_last_name#16977,seller_email#16978,seller_country#16979,seller_postal_code#16980,product_name#16981,product_category#16982,product_price#16983,product_quantity#16984,sale_date#16985,sale_customer_id#16986,sale_seller_id#16987,sale_product_id#16988,sale_quantity#16989,... 26 more fields] JDBCRelation(mock_data) [numPartitions=1]\n"
     ]
    }
   ],
   "source": [
    "product_report = (\n",
    "    fact.join(customer, on = [fact.customer_id == customer.id]).join(sale, on = [fact.sale_id == sale.id])\n",
    "    .groupBy(\"sale\")\n",
    "    .agg(\n",
    "        sum(col(\"sale_total_price\")).alias('check'),\n",
    "        avg(col(\"sale_total_price\")),\n",
    "    ).orderBy(desc('check')).limit(10)\n",
    ")\n",
    "product_report.show()"
   ]
  },
  {
   "cell_type": "code",
   "execution_count": 114,
   "id": "4a1953e5-282c-4e63-9eab-75adc27940fb",
   "metadata": {},
   "outputs": [],
   "source": [
    "ch_jdbc_url = \"jdbc:clickhouse://clickhouse:8123/default\"\n",
    "properties = {\n",
    "    \"driver\": \"com.clickhouse.jdbc.ClickHouseDriver\",\n",
    "    \"user\": \"custom_user\",\n",
    "    \"password\": \"custom_password\"\n",
    "}\n"
   ]
  },
  {
   "cell_type": "code",
   "execution_count": 14,
   "id": "cabd3127-2d83-427a-a851-89758f43e9a7",
   "metadata": {},
   "outputs": [],
   "source": [
    "# Останавливаем SparkSession\n",
    "spark.stop()"
   ]
  },
  {
   "cell_type": "code",
   "execution_count": null,
   "id": "f5025baf-ac1b-4cff-8523-4398e6d6ba37",
   "metadata": {},
   "outputs": [],
   "source": []
  }
 ],
 "metadata": {
  "kernelspec": {
   "display_name": "Python 3 (ipykernel)",
   "language": "python",
   "name": "python3"
  },
  "language_info": {
   "codemirror_mode": {
    "name": "ipython",
    "version": 3
   },
   "file_extension": ".py",
   "mimetype": "text/x-python",
   "name": "python",
   "nbconvert_exporter": "python",
   "pygments_lexer": "ipython3",
   "version": "3.11.6"
  }
 },
 "nbformat": 4,
 "nbformat_minor": 5
}
